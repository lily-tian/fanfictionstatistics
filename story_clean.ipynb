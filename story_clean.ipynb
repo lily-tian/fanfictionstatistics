{
 "cells": [
  {
   "cell_type": "code",
   "execution_count": 1,
   "metadata": {
    "collapsed": true
   },
   "outputs": [],
   "source": [
    "# imports libraries\n",
    "import pickle\t\t\t\t\t\t# import/export lists\n",
    "import re \t\t\t\t\t\t\t# regular expression\n",
    "import pandas as pd\t\t\t\t\t# dataframes\n",
    "import datetime\t\t\t\t\t\t# dates"
   ]
  },
  {
   "cell_type": "code",
   "execution_count": 2,
   "metadata": {
    "collapsed": true
   },
   "outputs": [],
   "source": [
    "# opens raw data\n",
    "with open ('data_stories', 'rb') as fp:\n",
    "    data_stories = pickle.load(fp)"
   ]
  },
  {
   "cell_type": "code",
   "execution_count": 3,
   "metadata": {
    "collapsed": true
   },
   "outputs": [],
   "source": [
    "# converts to dataframe\n",
    "df = pd.DataFrame(data_stories)\n",
    "df.columns = ['storyid', 'userid', 'cat', 'title', 'summary', 'info', 'error']"
   ]
  },
  {
   "cell_type": "code",
   "execution_count": 4,
   "metadata": {
    "collapsed": true
   },
   "outputs": [],
   "source": [
    "# finds userid from link\n",
    "uid = re.compile(\"=(.*)$\")\n",
    "df.loc[df.userid != 'NA', 'userid'] = [uid.search(row).group(1) \n",
    "                                       for row in df.loc[df.userid != 'NA', 'userid']]"
   ]
  },
  {
   "cell_type": "code",
   "execution_count": 5,
   "metadata": {
    "collapsed": true
   },
   "outputs": [],
   "source": [
    "# splits up category and fandom\n",
    "df['media'] = 'NA' \n",
    "df['fandom'] = 'NA'\n",
    "iscontained = [type(row) is list and len(row) == 2 for row in df['cat']]\n",
    "iscrossover = [type(row) is list and len(row) == 1 for row in df['cat']]\n",
    "df.loc[iscontained, 'media'] = [row[0] for row in df.loc[iscontained, 'cat']]\n",
    "df.loc[iscontained, 'fandom'] = [row[1] for row in df.loc[iscontained, 'cat']]\n",
    "df.loc[iscrossover, 'media'] = 'Crossover'\n",
    "df.loc[iscrossover, 'fandom'] = [row[0] for row in df.loc[iscrossover, 'cat']]\n",
    "del df['cat']"
   ]
  },
  {
   "cell_type": "code",
   "execution_count": 6,
   "metadata": {
    "collapsed": true
   },
   "outputs": [],
   "source": [
    "# splits info\n",
    "df.loc[df.userid != 'NA', 'info'] = [row.split(' - ') \n",
    "                                     for row in df.loc[df.userid != 'NA', 'info']]"
   ]
  },
  {
   "cell_type": "code",
   "execution_count": 7,
   "metadata": {
    "collapsed": true
   },
   "outputs": [],
   "source": [
    "# retrieves rated\n",
    "df['rated'] = 'NA'\n",
    "df.loc[df.userid != 'NA', 'rated'] = [re.sub('Rated: Fiction  ', '', row[0])\n",
    "                                     for row in df.loc[df.userid != 'NA', 'info']]\n",
    "df.loc[df.userid != 'NA', 'info'] = [row[1:]\n",
    "                                     for row in df.loc[df.userid != 'NA', 'info']]"
   ]
  },
  {
   "cell_type": "code",
   "execution_count": 8,
   "metadata": {
    "collapsed": true
   },
   "outputs": [],
   "source": [
    "# retrieves language\n",
    "df['language'] = 'NA'\n",
    "df.loc[df.userid != 'NA', 'language'] = [row[0]\n",
    "                                     for row in df.loc[df.userid != 'NA', 'info']]\n",
    "df.loc[df.userid != 'NA', 'info'] = [row[1:]\n",
    "                                     for row in df.loc[df.userid != 'NA', 'info']]"
   ]
  },
  {
   "cell_type": "code",
   "execution_count": 9,
   "metadata": {
    "collapsed": true
   },
   "outputs": [],
   "source": [
    "# retrieves genre\n",
    "isgenre = [type(row) is list and ': ' not in row[0] and row[0][0] != ' ' for row in df['info']]\n",
    "df['genre'] = 'NA'\n",
    "df.loc[isgenre, 'genre'] = [row[0]\n",
    "                            for row in df.loc[isgenre, 'info']]\n",
    "df.loc[isgenre, 'info'] = [row[1:]\n",
    "                            for row in df.loc[isgenre, 'info']]"
   ]
  },
  {
   "cell_type": "code",
   "execution_count": 10,
   "metadata": {
    "collapsed": true
   },
   "outputs": [],
   "source": [
    "# retrieves characters\n",
    "ischaracter = [type(row) is list and ': ' not in row[0] for row in df['info']]\n",
    "df['characters'] = 'NA'\n",
    "a = [row[0] for row in df.loc[ischaracter, 'info']]\n",
    "df.loc[ischaracter, 'characters'] = a\n",
    "df.loc[ischaracter, 'info'] = [row[1:]\n",
    "                            for row in df.loc[ischaracter, 'info']]\n",
    "\n",
    "# if hyphen in character's name (rare)\n",
    "ischaracter = [type(row) is list and ': ' not in row[0] for row in df['info']]\n",
    "b = [row[0] for row in df.loc[ischaracter, 'info']]\n",
    "df.loc[ischaracter, 'characters'] = [m+n for m,n in zip(a,b)]\n",
    "df.loc[ischaracter, 'info'] = [row[1:]\n",
    "                            for row in df.loc[ischaracter, 'info']]"
   ]
  },
  {
   "cell_type": "code",
   "execution_count": 11,
   "metadata": {
    "collapsed": true
   },
   "outputs": [],
   "source": [
    "# retrieves chapters\n",
    "ischapter = [type(row) is list and 'Chapters' in row[0] for row in df['info']]\n",
    "df['chapters'] = 'NA'\n",
    "df.loc[ischapter, 'chapters'] = [re.sub(\"\\D\", \"\", row[0])\n",
    "                            for row in df.loc[ischapter, 'info']]\n",
    "df.loc[ischapter, 'info'] = [row[1:]\n",
    "                            for row in df.loc[ischapter, 'info']]"
   ]
  },
  {
   "cell_type": "code",
   "execution_count": 12,
   "metadata": {
    "collapsed": true
   },
   "outputs": [],
   "source": [
    "# retrieves words\n",
    "iswords = [type(row) is list for row in df['info']]\n",
    "df['words'] = 'NA'\n",
    "df.loc[iswords, 'words'] = [re.sub(\"\\D\", \"\", row[0])\n",
    "                            for row in df.loc[iswords, 'info']]\n",
    "df.loc[iswords, 'info'] = [row[1:]\n",
    "                            for row in df.loc[iswords, 'info']]"
   ]
  },
  {
   "cell_type": "code",
   "execution_count": 13,
   "metadata": {
    "collapsed": true
   },
   "outputs": [],
   "source": [
    "# retrieves reviews\n",
    "isreviews = [type(row) is list and 'Reviews' in row[0] for row in df['info']]\n",
    "df['reviews'] = 'NA'\n",
    "df.loc[isreviews, 'reviews'] = [re.sub(\"\\D\", \"\", row[0])\n",
    "                            for row in df.loc[isreviews, 'info']]\n",
    "df.loc[isreviews, 'info'] = [row[1:]\n",
    "                            for row in df.loc[isreviews, 'info']]"
   ]
  },
  {
   "cell_type": "code",
   "execution_count": 14,
   "metadata": {
    "collapsed": true
   },
   "outputs": [],
   "source": [
    "# retrieves favs\n",
    "isfavs = [type(row) is list and 'Favs' in row[0] for row in df['info']]\n",
    "df['favs'] = 'NA'\n",
    "df.loc[isfavs, 'favs'] = [re.sub(\"\\D\", \"\", row[0])\n",
    "                            for row in df.loc[isfavs, 'info']]\n",
    "df.loc[isfavs, 'info'] = [row[1:]\n",
    "                            for row in df.loc[isfavs, 'info']]"
   ]
  },
  {
   "cell_type": "code",
   "execution_count": 15,
   "metadata": {
    "collapsed": true
   },
   "outputs": [],
   "source": [
    "# retrieves follows\n",
    "isfollows = [type(row) is list and 'Follows' in row[0] for row in df['info']]\n",
    "df['follows'] = 'NA'\n",
    "df.loc[isfollows, 'follows'] = [re.sub(\"\\D\", \"\", row[0])\n",
    "                            for row in df.loc[isfollows, 'info']]\n",
    "df.loc[isfollows, 'info'] = [row[1:]\n",
    "                            for row in df.loc[isfollows, 'info']]"
   ]
  },
  {
   "cell_type": "code",
   "execution_count": 16,
   "metadata": {
    "collapsed": true
   },
   "outputs": [],
   "source": [
    "# retrieves updated\n",
    "isupdated = [type(row) is list and 'Updated' in row[0] for row in df['info']]\n",
    "df['updated'] = 'NA'\n",
    "df.loc[isupdated, 'updated'] = [re.sub('Updated: ', '', row[0])\n",
    "                            for row in df.loc[isupdated, 'info']]\n",
    "df.loc[isupdated, 'info'] = [row[1:]\n",
    "                            for row in df.loc[isupdated, 'info']]"
   ]
  },
  {
   "cell_type": "code",
   "execution_count": 17,
   "metadata": {
    "collapsed": true
   },
   "outputs": [],
   "source": [
    "# retrieves published\n",
    "ispublished = [type(row) is list and 'Published' in row[0] for row in df['info']]\n",
    "df['published'] = 'NA'\n",
    "df.loc[ispublished, 'published'] = [re.sub('Published: ', '', row[0])\n",
    "                            for row in df.loc[ispublished, 'info']]\n",
    "df.loc[ispublished, 'info'] = [row[1:]\n",
    "                            for row in df.loc[ispublished, 'info']]"
   ]
  },
  {
   "cell_type": "code",
   "execution_count": 18,
   "metadata": {
    "collapsed": true
   },
   "outputs": [],
   "source": [
    "# retrieves status\n",
    "isstatus = [type(row) is list and 'Status' in row[0] for row in df['info']]\n",
    "df['status'] = 'NA'\n",
    "df.loc[df.userid != 'NA', 'status'] = 'Incomplete'\n",
    "df.loc[isstatus, 'status'] = [re.sub('Status: ', '', row[0])\n",
    "                              for row in df.loc[isstatus, 'info']]"
   ]
  },
  {
   "cell_type": "code",
   "execution_count": 19,
   "metadata": {
    "collapsed": true
   },
   "outputs": [],
   "source": [
    "del df['info']"
   ]
  },
  {
   "cell_type": "code",
   "execution_count": 20,
   "metadata": {
    "collapsed": true
   },
   "outputs": [],
   "source": [
    "# format numeric types\n",
    "intcols = ['chapters', 'words', 'reviews', 'favs', 'follows']\n",
    "for intcol in intcols:\n",
    "    df[intcol] = pd.to_numeric(df[intcol], errors = 'coerce')"
   ]
  },
  {
   "cell_type": "code",
   "execution_count": 21,
   "metadata": {
    "collapsed": true
   },
   "outputs": [],
   "source": [
    "# formats published dates\n",
    "cyear = str(datetime.datetime.now().year)\n",
    "pub_date = df.loc[df.published != 'NA', 'published']\n",
    "pub_date = [row.split('/') for row in pub_date]\n",
    "df.loc[df.published != 'NA', 'published'] = pub_date\n",
    "for row in df.loc[df.published != 'NA', 'published']:\n",
    "    if len(row) == 2:\n",
    "        row.append(cyear)"
   ]
  },
  {
   "cell_type": "code",
   "execution_count": 22,
   "metadata": {
    "collapsed": true
   },
   "outputs": [],
   "source": [
    "# formats updated dates\n",
    "upd_date = df.loc[df.updated != 'NA', 'updated']\n",
    "upd_date = [row.split('/') for row in upd_date]\n",
    "df.loc[df.updated != 'NA', 'updated'] = upd_date\n",
    "for row in df.loc[df.updated != 'NA', 'updated']:\n",
    "    if len(row) == 2:\n",
    "        row.append(cyear)"
   ]
  },
  {
   "cell_type": "code",
   "execution_count": 23,
   "metadata": {
    "collapsed": true
   },
   "outputs": [],
   "source": [
    "# finds current state of story\n",
    "df['state'] = 'online'\n",
    "df.loc[df.userid == 'NA', 'state'] = 'deleted'\n",
    "df.loc[df.error != 'NA', 'state'] = 'missing'\n",
    "\n",
    "del df['error']"
   ]
  },
  {
   "cell_type": "code",
   "execution_count": 24,
   "metadata": {
    "collapsed": true
   },
   "outputs": [],
   "source": [
    "# saves dataframe\n",
    "df.to_pickle(\"df_stories\")"
   ]
  }
 ],
 "metadata": {
  "kernelspec": {
   "display_name": "Python 3",
   "language": "python",
   "name": "python3"
  },
  "language_info": {
   "codemirror_mode": {
    "name": "ipython",
    "version": 3
   },
   "file_extension": ".py",
   "mimetype": "text/x-python",
   "name": "python",
   "nbconvert_exporter": "python",
   "pygments_lexer": "ipython3",
   "version": "3.6.1"
  }
 },
 "nbformat": 4,
 "nbformat_minor": 2
}
