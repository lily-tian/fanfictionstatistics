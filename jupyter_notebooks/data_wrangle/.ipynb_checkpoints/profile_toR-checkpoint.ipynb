{
 "cells": [
  {
   "cell_type": "code",
   "execution_count": 1,
   "metadata": {
    "collapsed": true
   },
   "outputs": [],
   "source": [
    "# imports libraries\n",
    "import pickle\t\t\t\t\t\t\t\t\t\t# import/export lists\n",
    "import datetime\t\t\t\t\t\t\t\t\t\t# dates\n",
    "import re \t\t\t\t\t\t\t\t\t\t\t# regular expression\n",
    "import pandas as pd\t\t\t\t\t\t\t\t\t# dataframes"
   ]
  },
  {
   "cell_type": "code",
   "execution_count": 2,
   "metadata": {
    "collapsed": true
   },
   "outputs": [],
   "source": [
    "# opens raw data\n",
    "with open ('../../data/clean_data/df_profile', 'rb') as fp:\n",
    "    df = pickle.load(fp)"
   ]
  },
  {
   "cell_type": "code",
   "execution_count": 3,
   "metadata": {
    "collapsed": true
   },
   "outputs": [],
   "source": [
    "# sets current year\n",
    "cyear = datetime.datetime.now().year"
   ]
  },
  {
   "cell_type": "code",
   "execution_count": 4,
   "metadata": {
    "collapsed": true
   },
   "outputs": [],
   "source": [
    "# creates tenure variable\n",
    "df['tenure'] = 'NA'\n",
    "hasyear = [len(row) > 2 and row[2] != 'NA' for row in df['join']]\n",
    "df.loc[hasyear, 'tenure'] = [cyear - int(row[2]) for row in df.loc[hasyear, 'join']]\n",
    "\n",
    "# turns cc into binary\n",
    "df.loc[df['cc'] > 0, 'cc'] = 1\n",
    "\n",
    "# creates isauthor variable\n",
    "df['isauthor'] = [row > 0 for row in df['st']]\n",
    "\n",
    "# creates hasprofile variable\n",
    "df['hasprofile'] = [len(row) > 0 for row in df['profile']]"
   ]
  },
  {
   "cell_type": "code",
   "execution_count": 5,
   "metadata": {
    "collapsed": true
   },
   "outputs": [],
   "source": [
    "# writes csv file\n",
    "df.to_csv('../../data/clean_data/df_profile.csv')"
   ]
  }
 ],
 "metadata": {
  "kernelspec": {
   "display_name": "Python 3",
   "language": "python",
   "name": "python3"
  },
  "language_info": {
   "codemirror_mode": {
    "name": "ipython",
    "version": 3
   },
   "file_extension": ".py",
   "mimetype": "text/x-python",
   "name": "python",
   "nbconvert_exporter": "python",
   "pygments_lexer": "ipython3",
   "version": "3.6.1"
  }
 },
 "nbformat": 4,
 "nbformat_minor": 2
}
