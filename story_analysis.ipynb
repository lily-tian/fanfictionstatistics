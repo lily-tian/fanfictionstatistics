{
 "cells": [
  {
   "cell_type": "markdown",
   "metadata": {},
   "source": [
    "# Fanfiction Story Analysis"
   ]
  },
  {
   "cell_type": "markdown",
   "metadata": {},
   "source": [
    "In this section, we take a sample of 1000 stories from fanfiction.net and break down some of their characteristics. Then using all available data from the site, we try to make predictions on the number of reviews a story is expected to have given select features. These predicted values can be used as benchmarks to see whether stories are overperforming or underperforming relative to their peers."
   ]
  },
  {
   "cell_type": "raw",
   "metadata": {},
   "source": [
    "<script>\n",
    "    var code_show=true; //true -> hide code at first\n",
    "\n",
    "    function code_toggle() {\n",
    "        $('div.prompt').hide(); // always hide prompt\n",
    "\n",
    "        if (code_show){\n",
    "            $('div.input').hide();\n",
    "        } else {\n",
    "            $('div.input').show();\n",
    "        }\n",
    "        code_show = !code_show\n",
    "    }\n",
    "    $( document ).ready(code_toggle);\n",
    "</script>"
   ]
  },
  {
   "cell_type": "code",
   "execution_count": 1,
   "metadata": {
    "collapsed": true
   },
   "outputs": [],
   "source": [
    "# imports libraries\n",
    "import pickle\t\t\t\t\t\t\t\t\t\t# import/export lists\n",
    "import math\t\t\t\t\t\t\t\t\t\t\t# mathematical functions\n",
    "import datetime\t\t\t\t\t\t\t\t\t\t# dates\n",
    "import re \t\t\t\t\t\t\t\t\t\t\t# regular expression\n",
    "import pandas as pd\t\t\t\t\t\t\t\t\t# dataframes\n",
    "import numpy as np\t\t\t\t\t\t\t\t\t# numerical computation\n",
    "import matplotlib.pyplot as plt\t\t\t\t\t\t# plot graphics\n",
    "import seaborn as sns\t\t\t\t\t\t\t\t# graphics supplemental\n",
    "import statsmodels.formula.api as smf\t\t\t\t# statistical models\n",
    "from statsmodels.stats.outliers_influence import (\n",
    "    variance_inflation_factor as vif)\t\t\t\t# vif"
   ]
  },
  {
   "cell_type": "code",
   "execution_count": 2,
   "metadata": {},
   "outputs": [],
   "source": [
    "# opens cleaned data\n",
    "with open ('df_stories', 'rb') as fp:\n",
    "    df = pickle.load(fp)"
   ]
  },
  {
   "cell_type": "code",
   "execution_count": 3,
   "metadata": {
    "collapsed": true
   },
   "outputs": [],
   "source": [
    "# creates subset of data of online stories\n",
    "df_online = df.loc[df.state == 'online', ].copy()"
   ]
  },
  {
   "cell_type": "code",
   "execution_count": 4,
   "metadata": {
    "collapsed": true
   },
   "outputs": [],
   "source": [
    "# sets current year\n",
    "cyear = datetime.datetime.now().year"
   ]
  },
  {
   "cell_type": "markdown",
   "metadata": {},
   "source": [
    "## Exploration of data"
   ]
  },
  {
   "cell_type": "markdown",
   "metadata": {},
   "source": [
    "Let's begin by examining the current state of stories: online, deleted, or missing. Missing stories are stories whose URL has moved due to shifts in the fanfiction achiving system."
   ]
  },
  {
   "cell_type": "code",
   "execution_count": 5,
   "metadata": {},
   "outputs": [
    {
     "data": {
      "image/png": "[encoded data removed]",
      "text/plain": [
       "<matplotlib.figure.Figure at 0x78669c24a908>"
      ]
     },
     "metadata": {},
     "output_type": "display_data"
    }
   ],
   "source": [
    "# examines state of stories\n",
    "state = df['state'].value_counts()\n",
    "\n",
    "# plots chart\n",
    "(state/np.sum(state)).plot.bar()\n",
    "plt.xticks(rotation=0)\n",
    "plt.show()"
   ]
  },
  {
   "cell_type": "markdown",
   "metadata": {},
   "source": [
    "Surprisingly, it appears only about ~60% of stories that were once published still remain on the site! This is in stark contrast to user profiles, where less than 0.1% are deleted.\n",
    "\n",
    "From this, we can only guess that authors actively take stories down, presumably to hide earlier works as their writing abilities improve or to replace them with rewrites. Authors who delete their profiles and stories that were deleted for fanfiction policy violations would also contribute to these figures."
   ]
  },
  {
   "cell_type": "markdown",
   "metadata": {},
   "source": [
    "Now let's examine the volume of stories published across time."
   ]
  },
  {
   "cell_type": "code",
   "execution_count": 7,
   "metadata": {
    "scrolled": true
   },
   "outputs": [
    {
     "data": {
      "image/png": "[encoded data removed]",
      "text/plain": [
       "<matplotlib.figure.Figure at 0x786699ac1b70>"
      ]
     },
     "metadata": {},
     "output_type": "display_data"
    }
   ],
   "source": [
    "# examines when stories first created\n",
    "df_online['pub_year'] = [int(row[2]) for row in df_online['published']]\n",
    "entry = df_online['pub_year'].value_counts().sort_index()\n",
    "\n",
    "# plots chart\n",
    "entry.plot()\n",
    "plt.xlim([np.min(entry.index.values), cyear-1])\n",
    "plt.show()"
   ]
  },
  {
   "cell_type": "markdown",
   "metadata": {},
   "source": [
    "We see a large jump starting in the 2010s, peaking around 2013, then a steady decline afterward. Unlike with profiles, you do not see the dips matching the Great Fanfiction Purge of 2002 and 2012.\n",
    "\n",
    "The decline could be from a variety of factors. One could be competing fanfiction sites.  Most notably, the nonprofit site, Archive of Our Own (AO3), started gaining traction due to its greater inclusivity of works and its tagging system that helps users to filter and search for works.\n",
    "\n",
    "Another question to ask is if the increasing popularity of fanfiction is fueled by particular fandoms. It is well known in the fanfiction community that fandoms like Star Trek paved the road. Harry Potter and Naruto also held a dominating presence in the 2000s. Later on, we will try to quantify how much each of these fandoms contributed to the volume of fanfiction produced."
   ]
  },
  {
   "cell_type": "markdown",
   "metadata": {},
   "source": [
    "### Genres"
   ]
  },
  {
   "cell_type": "markdown",
   "metadata": {},
   "source": [
    "Now let's look at the distribution across the stories. Note that \"General\" includes stories that do not have a genre label."
   ]
  },
  {
   "cell_type": "code",
   "execution_count": 8,
   "metadata": {},
   "outputs": [],
   "source": [
    "# splits genres\n",
    "df_online['genre'] = [re.sub('Hurt/Comfort', 'Hurt-Comfort', row)\n",
    "                      for row in df_online['genre']]\n",
    "df_online['genre'] = [re.sub(' ', '', row)\n",
    "                      for row in df_online['genre']]\n",
    "df_online['genre'] = [re.sub('NA', 'General', row)\n",
    "                      for row in df_online['genre']]\n",
    "df_online['genre'] = [row.split('/') for row in df_online['genre']]"
   ]
  },
  {
   "cell_type": "code",
   "execution_count": 9,
   "metadata": {},
   "outputs": [
    {
     "data": {
      "image/png": "[encoded data removed]",
      "text/plain": [
       "<matplotlib.figure.Figure at 0x7866999da9b0>"
      ]
     },
     "metadata": {},
     "output_type": "display_data"
    }
   ],
   "source": [
    "# examines top genres individually\n",
    "genres_indiv = [item for sublist in df_online['genre'] for item in sublist]\n",
    "genres_indiv = pd.Series(genres_indiv).value_counts()\n",
    "\n",
    "# plots chart\n",
    "(genres_indiv/np.sum(genres_indiv)).plot.bar()\n",
    "plt.xticks(rotation=90)\n",
    "plt.show()"
   ]
  },
  {
   "cell_type": "markdown",
   "metadata": {},
   "source": [
    "Romance takes the lead! In fact, ~30% of the genre labels used is \"Romance\". In second and third place are Humor and Drama respectively.\n",
    "\n",
    "The least popular genres appear to be Crime, Horror, and Mystery. \n",
    "\n",
    "So far, nothing here deviates much from intuition. We'd expect derivative works to focus more on existing character relationships and/or the canonic world, and less on stand-alone plots and twists. "
   ]
  },
  {
   "cell_type": "markdown",
   "metadata": {},
   "source": [
    "What about how the genres combine?"
   ]
  },
  {
   "cell_type": "code",
   "execution_count": 10,
   "metadata": {},
   "outputs": [
    {
     "data": {
      "text/html": [
       "<style  type=\"text/css\" >\n",
       "    #T_e5f4c0b2_7bd4_11e7_ab38_e82aeaf71f48row0_col0 {\n",
       "            background-color:  #e5ffe5;\n",
       "        }    #T_e5f4c0b2_7bd4_11e7_ab38_e82aeaf71f48row0_col1 {\n",
       "            background-color:  #d8f8d8;\n",
       "        }    #T_e5f4c0b2_7bd4_11e7_ab38_e82aeaf71f48row0_col2 {\n",
       "            background-color:  #8acc8a;\n",
       "        }    #T_e5f4c0b2_7bd4_11e7_ab38_e82aeaf71f48row0_col3 {\n",
       "            background-color:  #cbf1cb;\n",
       "        }    #T_e5f4c0b2_7bd4_11e7_ab38_e82aeaf71f48row0_col4 {\n",
       "            background-color:  #b8e6b8;\n",
       "        }    #T_e5f4c0b2_7bd4_11e7_ab38_e82aeaf71f48row0_col5 {\n",
       "            background-color:  #369e36;\n",
       "        }    #T_e5f4c0b2_7bd4_11e7_ab38_e82aeaf71f48row0_col6 {\n",
       "            background-color:  #a6dca6;\n",
       "        }    #T_e5f4c0b2_7bd4_11e7_ab38_e82aeaf71f48row0_col7 {\n",
       "            background-color:  #92d192;\n",
       "        }    #T_e5f4c0b2_7bd4_11e7_ab38_e82aeaf71f48row0_col8 {\n",
       "            background-color:  #cbf1cb;\n",
       "        }    #T_e5f4c0b2_7bd4_11e7_ab38_e82aeaf71f48row0_col9 {\n",
       "            background-color:  #e4fee4;\n",
       "        }    #T_e5f4c0b2_7bd4_11e7_ab38_e82aeaf71f48row0_col10 {\n",
       "            background-color:  #008000;\n",
       "        }    #T_e5f4c0b2_7bd4_11e7_ab38_e82aeaf71f48row0_col11 {\n",
       "            background-color:  #b6e5b6;\n",
       "        }    #T_e5f4c0b2_7bd4_11e7_ab38_e82aeaf71f48row0_col12 {\n",
       "            background-color:  #e5ffe5;\n",
       "        }    #T_e5f4c0b2_7bd4_11e7_ab38_e82aeaf71f48row0_col13 {\n",
       "            background-color:  #69ba69;\n",
       "        }    #T_e5f4c0b2_7bd4_11e7_ab38_e82aeaf71f48row0_col14 {\n",
       "            background-color:  #008000;\n",
       "        }    #T_e5f4c0b2_7bd4_11e7_ab38_e82aeaf71f48row0_col15 {\n",
       "            background-color:  #b8e6b8;\n",
       "        }    #T_e5f4c0b2_7bd4_11e7_ab38_e82aeaf71f48row0_col16 {\n",
       "            background-color:  #99d599;\n",
       "        }    #T_e5f4c0b2_7bd4_11e7_ab38_e82aeaf71f48row0_col17 {\n",
       "            background-color:  #008000;\n",
       "        }    #T_e5f4c0b2_7bd4_11e7_ab38_e82aeaf71f48row0_col18 {\n",
       "            background-color:  #c0eac0;\n",
       "        }    #T_e5f4c0b2_7bd4_11e7_ab38_e82aeaf71f48row1_col0 {\n",
       "            background-color:  #daf9da;\n",
       "        }    #T_e5f4c0b2_7bd4_11e7_ab38_e82aeaf71f48row1_col1 {\n",
       "            background-color:  #e5ffe5;\n",
       "        }    #T_e5f4c0b2_7bd4_11e7_ab38_e82aeaf71f48row1_col2 {\n",
       "            background-color:  #b8e6b8;\n",
       "        }    #T_e5f4c0b2_7bd4_11e7_ab38_e82aeaf71f48row1_col3 {\n",
       "            background-color:  #bae7ba;\n",
       "        }    #T_e5f4c0b2_7bd4_11e7_ab38_e82aeaf71f48row1_col4 {\n",
       "            background-color:  #bde9bd;\n",
       "        }    #T_e5f4c0b2_7bd4_11e7_ab38_e82aeaf71f48row1_col5 {\n",
       "            background-color:  #e5ffe5;\n",
       "        }    #T_e5f4c0b2_7bd4_11e7_ab38_e82aeaf71f48row1_col6 {\n",
       "            background-color:  #d2f4d2;\n",
       "        }    #T_e5f4c0b2_7bd4_11e7_ab38_e82aeaf71f48row1_col7 {\n",
       "            background-color:  #008000;\n",
       "        }    #T_e5f4c0b2_7bd4_11e7_ab38_e82aeaf71f48row1_col8 {\n",
       "            background-color:  #e4fee4;\n",
       "        }    #T_e5f4c0b2_7bd4_11e7_ab38_e82aeaf71f48row1_col9 {\n",
       "            background-color:  #9ed79e;\n",
       "        }    #T_e5f4c0b2_7bd4_11e7_ab38_e82aeaf71f48row1_col10 {\n",
       "            background-color:  #b0e2b0;\n",
       "        }    #T_e5f4c0b2_7bd4_11e7_ab38_e82aeaf71f48row1_col11 {\n",
       "            background-color:  #cef2ce;\n",
       "        }    #T_e5f4c0b2_7bd4_11e7_ab38_e82aeaf71f48row1_col12 {\n",
       "            background-color:  #008000;\n",
       "        }    #T_e5f4c0b2_7bd4_11e7_ab38_e82aeaf71f48row1_col13 {\n",
       "            background-color:  #77c277;\n",
       "        }    #T_e5f4c0b2_7bd4_11e7_ab38_e82aeaf71f48row1_col14 {\n",
       "            background-color:  #d4f6d4;\n",
       "        }    #T_e5f4c0b2_7bd4_11e7_ab38_e82aeaf71f48row1_col15 {\n",
       "            background-color:  #e5ffe5;\n",
       "        }    #T_e5f4c0b2_7bd4_11e7_ab38_e82aeaf71f48row1_col16 {\n",
       "            background-color:  #d3f5d3;\n",
       "        }    #T_e5f4c0b2_7bd4_11e7_ab38_e82aeaf71f48row1_col17 {\n",
       "            background-color:  #d6f7d6;\n",
       "        }    #T_e5f4c0b2_7bd4_11e7_ab38_e82aeaf71f48row1_col18 {\n",
       "            background-color:  #008000;\n",
       "        }    #T_e5f4c0b2_7bd4_11e7_ab38_e82aeaf71f48row2_col0 {\n",
       "            background-color:  #e3fee3;\n",
       "        }    #T_e5f4c0b2_7bd4_11e7_ab38_e82aeaf71f48row2_col1 {\n",
       "            background-color:  #e4fee4;\n",
       "        }    #T_e5f4c0b2_7bd4_11e7_ab38_e82aeaf71f48row2_col2 {\n",
       "            background-color:  #e5ffe5;\n",
       "        }    #T_e5f4c0b2_7bd4_11e7_ab38_e82aeaf71f48row2_col3 {\n",
       "            background-color:  #e4fee4;\n",
       "        }    #T_e5f4c0b2_7bd4_11e7_ab38_e82aeaf71f48row2_col4 {\n",
       "            background-color:  #e5ffe5;\n",
       "        }    #T_e5f4c0b2_7bd4_11e7_ab38_e82aeaf71f48row2_col5 {\n",
       "            background-color:  #e5ffe5;\n",
       "        }    #T_e5f4c0b2_7bd4_11e7_ab38_e82aeaf71f48row2_col6 {\n",
       "            background-color:  #defbde;\n",
       "        }    #T_e5f4c0b2_7bd4_11e7_ab38_e82aeaf71f48row2_col7 {\n",
       "            background-color:  #e5ffe5;\n",
       "        }    #T_e5f4c0b2_7bd4_11e7_ab38_e82aeaf71f48row2_col8 {\n",
       "            background-color:  #e5ffe5;\n",
       "        }    #T_e5f4c0b2_7bd4_11e7_ab38_e82aeaf71f48row2_col9 {\n",
       "            background-color:  #e4fee4;\n",
       "        }    #T_e5f4c0b2_7bd4_11e7_ab38_e82aeaf71f48row2_col10 {\n",
       "            background-color:  #c2ecc2;\n",
       "        }    #T_e5f4c0b2_7bd4_11e7_ab38_e82aeaf71f48row2_col11 {\n",
       "            background-color:  #e5ffe5;\n",
       "        }    #T_e5f4c0b2_7bd4_11e7_ab38_e82aeaf71f48row2_col12 {\n",
       "            background-color:  #e5ffe5;\n",
       "        }    #T_e5f4c0b2_7bd4_11e7_ab38_e82aeaf71f48row2_col13 {\n",
       "            background-color:  #e4fee4;\n",
       "        }    #T_e5f4c0b2_7bd4_11e7_ab38_e82aeaf71f48row2_col14 {\n",
       "            background-color:  #d4f6d4;\n",
       "        }    #T_e5f4c0b2_7bd4_11e7_ab38_e82aeaf71f48row2_col15 {\n",
       "            background-color:  #e5ffe5;\n",
       "        }    #T_e5f4c0b2_7bd4_11e7_ab38_e82aeaf71f48row2_col16 {\n",
       "            background-color:  #e5ffe5;\n",
       "        }    #T_e5f4c0b2_7bd4_11e7_ab38_e82aeaf71f48row2_col17 {\n",
       "            background-color:  #e5ffe5;\n",
       "        }    #T_e5f4c0b2_7bd4_11e7_ab38_e82aeaf71f48row2_col18 {\n",
       "            background-color:  #ccf1cc;\n",
       "        }    #T_e5f4c0b2_7bd4_11e7_ab38_e82aeaf71f48row3_col0 {\n",
       "            background-color:  #b7e5b7;\n",
       "        }    #T_e5f4c0b2_7bd4_11e7_ab38_e82aeaf71f48row3_col1 {\n",
       "            background-color:  #90d090;\n",
       "        }    #T_e5f4c0b2_7bd4_11e7_ab38_e82aeaf71f48row3_col2 {\n",
       "            background-color:  #8acc8a;\n",
       "        }    #T_e5f4c0b2_7bd4_11e7_ab38_e82aeaf71f48row3_col3 {\n",
       "            background-color:  #e5ffe5;\n",
       "        }    #T_e5f4c0b2_7bd4_11e7_ab38_e82aeaf71f48row3_col4 {\n",
       "            background-color:  #8bcd8b;\n",
       "        }    #T_e5f4c0b2_7bd4_11e7_ab38_e82aeaf71f48row3_col5 {\n",
       "            background-color:  #bae7ba;\n",
       "        }    #T_e5f4c0b2_7bd4_11e7_ab38_e82aeaf71f48row3_col6 {\n",
       "            background-color:  #c8efc8;\n",
       "        }    #T_e5f4c0b2_7bd4_11e7_ab38_e82aeaf71f48row3_col7 {\n",
       "            background-color:  #92d192;\n",
       "        }    #T_e5f4c0b2_7bd4_11e7_ab38_e82aeaf71f48row3_col8 {\n",
       "            background-color:  #d4f6d4;\n",
       "        }    #T_e5f4c0b2_7bd4_11e7_ab38_e82aeaf71f48row3_col9 {\n",
       "            background-color:  #c8efc8;\n",
       "        }    #T_e5f4c0b2_7bd4_11e7_ab38_e82aeaf71f48row3_col10 {\n",
       "            background-color:  #9fd89f;\n",
       "        }    #T_e5f4c0b2_7bd4_11e7_ab38_e82aeaf71f48row3_col11 {\n",
       "            background-color:  #e5ffe5;\n",
       "        }    #T_e5f4c0b2_7bd4_11e7_ab38_e82aeaf71f48row3_col12 {\n",
       "            background-color:  #7dc57d;\n",
       "        }    #T_e5f4c0b2_7bd4_11e7_ab38_e82aeaf71f48row3_col13 {\n",
       "            background-color:  #088408;\n",
       "        }    #T_e5f4c0b2_7bd4_11e7_ab38_e82aeaf71f48row3_col14 {\n",
       "            background-color:  #9fd89f;\n",
       "        }    #T_e5f4c0b2_7bd4_11e7_ab38_e82aeaf71f48row3_col15 {\n",
       "            background-color:  #8acc8a;\n",
       "        }    #T_e5f4c0b2_7bd4_11e7_ab38_e82aeaf71f48row3_col16 {\n",
       "            background-color:  #acdfac;\n",
       "        }    #T_e5f4c0b2_7bd4_11e7_ab38_e82aeaf71f48row3_col17 {\n",
       "            background-color:  #a8dda8;\n",
       "        }    #T_e5f4c0b2_7bd4_11e7_ab38_e82aeaf71f48row3_col18 {\n",
       "            background-color:  #269526;\n",
       "        }    #T_e5f4c0b2_7bd4_11e7_ab38_e82aeaf71f48row4_col0 {\n",
       "            background-color:  #d4f6d4;\n",
       "        }    #T_e5f4c0b2_7bd4_11e7_ab38_e82aeaf71f48row4_col1 {\n",
       "            background-color:  #d4f6d4;\n",
       "        }    #T_e5f4c0b2_7bd4_11e7_ab38_e82aeaf71f48row4_col2 {\n",
       "            background-color:  #e5ffe5;\n",
       "        }    #T_e5f4c0b2_7bd4_11e7_ab38_e82aeaf71f48row4_col3 {\n",
       "            background-color:  #d2f4d2;\n",
       "        }    #T_e5f4c0b2_7bd4_11e7_ab38_e82aeaf71f48row4_col4 {\n",
       "            background-color:  #e5ffe5;\n",
       "        }    #T_e5f4c0b2_7bd4_11e7_ab38_e82aeaf71f48row4_col5 {\n",
       "            background-color:  #bae7ba;\n",
       "        }    #T_e5f4c0b2_7bd4_11e7_ab38_e82aeaf71f48row4_col6 {\n",
       "            background-color:  #bce8bc;\n",
       "        }    #T_e5f4c0b2_7bd4_11e7_ab38_e82aeaf71f48row4_col7 {\n",
       "            background-color:  #e5ffe5;\n",
       "        }    #T_e5f4c0b2_7bd4_11e7_ab38_e82aeaf71f48row4_col8 {\n",
       "            background-color:  #d0f3d0;\n",
       "        }    #T_e5f4c0b2_7bd4_11e7_ab38_e82aeaf71f48row4_col9 {\n",
       "            background-color:  #9cd69c;\n",
       "        }    #T_e5f4c0b2_7bd4_11e7_ab38_e82aeaf71f48row4_col10 {\n",
       "            background-color:  #e5ffe5;\n",
       "        }    #T_e5f4c0b2_7bd4_11e7_ab38_e82aeaf71f48row4_col11 {\n",
       "            background-color:  #e5ffe5;\n",
       "        }    #T_e5f4c0b2_7bd4_11e7_ab38_e82aeaf71f48row4_col12 {\n",
       "            background-color:  #d1f4d1;\n",
       "        }    #T_e5f4c0b2_7bd4_11e7_ab38_e82aeaf71f48row4_col13 {\n",
       "            background-color:  #b8e6b8;\n",
       "        }    #T_e5f4c0b2_7bd4_11e7_ab38_e82aeaf71f48row4_col14 {\n",
       "            background-color:  #c2ecc2;\n",
       "        }    #T_e5f4c0b2_7bd4_11e7_ab38_e82aeaf71f48row4_col15 {\n",
       "            background-color:  #e5ffe5;\n",
       "        }    #T_e5f4c0b2_7bd4_11e7_ab38_e82aeaf71f48row4_col16 {\n",
       "            background-color:  #d3f5d3;\n",
       "        }    #T_e5f4c0b2_7bd4_11e7_ab38_e82aeaf71f48row4_col17 {\n",
       "            background-color:  #d6f7d6;\n",
       "        }    #T_e5f4c0b2_7bd4_11e7_ab38_e82aeaf71f48row4_col18 {\n",
       "            background-color:  #c0eac0;\n",
       "        }    #T_e5f4c0b2_7bd4_11e7_ab38_e82aeaf71f48row5_col0 {\n",
       "            background-color:  #caf0ca;\n",
       "        }    #T_e5f4c0b2_7bd4_11e7_ab38_e82aeaf71f48row5_col1 {\n",
       "            background-color:  #e5ffe5;\n",
       "        }    #T_e5f4c0b2_7bd4_11e7_ab38_e82aeaf71f48row5_col2 {\n",
       "            background-color:  #e5ffe5;\n",
       "        }    #T_e5f4c0b2_7bd4_11e7_ab38_e82aeaf71f48row5_col3 {\n",
       "            background-color:  #e2fde2;\n",
       "        }    #T_e5f4c0b2_7bd4_11e7_ab38_e82aeaf71f48row5_col4 {\n",
       "            background-color:  #d3f5d3;\n",
       "        }    #T_e5f4c0b2_7bd4_11e7_ab38_e82aeaf71f48row5_col5 {\n",
       "            background-color:  #e5ffe5;\n",
       "        }    #T_e5f4c0b2_7bd4_11e7_ab38_e82aeaf71f48row5_col6 {\n",
       "            background-color:  #daf9da;\n",
       "        }    #T_e5f4c0b2_7bd4_11e7_ab38_e82aeaf71f48row5_col7 {\n",
       "            background-color:  #e5ffe5;\n",
       "        }    #T_e5f4c0b2_7bd4_11e7_ab38_e82aeaf71f48row5_col8 {\n",
       "            background-color:  #e2fde2;\n",
       "        }    #T_e5f4c0b2_7bd4_11e7_ab38_e82aeaf71f48row5_col9 {\n",
       "            background-color:  #e4fee4;\n",
       "        }    #T_e5f4c0b2_7bd4_11e7_ab38_e82aeaf71f48row5_col10 {\n",
       "            background-color:  #e5ffe5;\n",
       "        }    #T_e5f4c0b2_7bd4_11e7_ab38_e82aeaf71f48row5_col11 {\n",
       "            background-color:  #e5ffe5;\n",
       "        }    #T_e5f4c0b2_7bd4_11e7_ab38_e82aeaf71f48row5_col12 {\n",
       "            background-color:  #e5ffe5;\n",
       "        }    #T_e5f4c0b2_7bd4_11e7_ab38_e82aeaf71f48row5_col13 {\n",
       "            background-color:  #d4f6d4;\n",
       "        }    #T_e5f4c0b2_7bd4_11e7_ab38_e82aeaf71f48row5_col14 {\n",
       "            background-color:  #9fd89f;\n",
       "        }    #T_e5f4c0b2_7bd4_11e7_ab38_e82aeaf71f48row5_col15 {\n",
       "            background-color:  #8acc8a;\n",
       "        }    #T_e5f4c0b2_7bd4_11e7_ab38_e82aeaf71f48row5_col16 {\n",
       "            background-color:  #c9efc9;\n",
       "        }    #T_e5f4c0b2_7bd4_11e7_ab38_e82aeaf71f48row5_col17 {\n",
       "            background-color:  #c7eec7;\n",
       "        }    #T_e5f4c0b2_7bd4_11e7_ab38_e82aeaf71f48row5_col18 {\n",
       "            background-color:  #d9f8d9;\n",
       "        }    #T_e5f4c0b2_7bd4_11e7_ab38_e82aeaf71f48row6_col0 {\n",
       "            background-color:  #b8e6b8;\n",
       "        }    #T_e5f4c0b2_7bd4_11e7_ab38_e82aeaf71f48row6_col1 {\n",
       "            background-color:  #d6f7d6;\n",
       "        }    #T_e5f4c0b2_7bd4_11e7_ab38_e82aeaf71f48row6_col2 {\n",
       "            background-color:  #5cb35c;\n",
       "        }    #T_e5f4c0b2_7bd4_11e7_ab38_e82aeaf71f48row6_col3 {\n",
       "            background-color:  #daf9da;\n",
       "        }    #T_e5f4c0b2_7bd4_11e7_ab38_e82aeaf71f48row6_col4 {\n",
       "            background-color:  #99d599;\n",
       "        }    #T_e5f4c0b2_7bd4_11e7_ab38_e82aeaf71f48row6_col5 {\n",
       "            background-color:  #b0e1b0;\n",
       "        }    #T_e5f4c0b2_7bd4_11e7_ab38_e82aeaf71f48row6_col6 {\n",
       "            background-color:  #e5ffe5;\n",
       "        }    #T_e5f4c0b2_7bd4_11e7_ab38_e82aeaf71f48row6_col7 {\n",
       "            background-color:  #e5ffe5;\n",
       "        }    #T_e5f4c0b2_7bd4_11e7_ab38_e82aeaf71f48row6_col8 {\n",
       "            background-color:  #cef2ce;\n",
       "        }    #T_e5f4c0b2_7bd4_11e7_ab38_e82aeaf71f48row6_col9 {\n",
       "            background-color:  #94d294;\n",
       "        }    #T_e5f4c0b2_7bd4_11e7_ab38_e82aeaf71f48row6_col10 {\n",
       "            background-color:  #c2ecc2;\n",
       "        }    #T_e5f4c0b2_7bd4_11e7_ab38_e82aeaf71f48row6_col11 {\n",
       "            background-color:  #daf9da;\n",
       "        }    #T_e5f4c0b2_7bd4_11e7_ab38_e82aeaf71f48row6_col12 {\n",
       "            background-color:  #e5ffe5;\n",
       "        }    #T_e5f4c0b2_7bd4_11e7_ab38_e82aeaf71f48row6_col13 {\n",
       "            background-color:  #8fcf8f;\n",
       "        }    #T_e5f4c0b2_7bd4_11e7_ab38_e82aeaf71f48row6_col14 {\n",
       "            background-color:  #b0e2b0;\n",
       "        }    #T_e5f4c0b2_7bd4_11e7_ab38_e82aeaf71f48row6_col15 {\n",
       "            background-color:  #8acc8a;\n",
       "        }    #T_e5f4c0b2_7bd4_11e7_ab38_e82aeaf71f48row6_col16 {\n",
       "            background-color:  #c9efc9;\n",
       "        }    #T_e5f4c0b2_7bd4_11e7_ab38_e82aeaf71f48row6_col17 {\n",
       "            background-color:  #d6f7d6;\n",
       "        }    #T_e5f4c0b2_7bd4_11e7_ab38_e82aeaf71f48row6_col18 {\n",
       "            background-color:  #ccf1cc;\n",
       "        }    #T_e5f4c0b2_7bd4_11e7_ab38_e82aeaf71f48row7_col0 {\n",
       "            background-color:  #dffcdf;\n",
       "        }    #T_e5f4c0b2_7bd4_11e7_ab38_e82aeaf71f48row7_col1 {\n",
       "            background-color:  #d1f4d1;\n",
       "        }    #T_e5f4c0b2_7bd4_11e7_ab38_e82aeaf71f48row7_col2 {\n",
       "            background-color:  #e5ffe5;\n",
       "        }    #T_e5f4c0b2_7bd4_11e7_ab38_e82aeaf71f48row7_col3 {\n",
       "            background-color:  #e2fde2;\n",
       "        }    #T_e5f4c0b2_7bd4_11e7_ab38_e82aeaf71f48row7_col4 {\n",
       "            background-color:  #e5ffe5;\n",
       "        }    #T_e5f4c0b2_7bd4_11e7_ab38_e82aeaf71f48row7_col5 {\n",
       "            background-color:  #e5ffe5;\n",
       "        }    #T_e5f4c0b2_7bd4_11e7_ab38_e82aeaf71f48row7_col6 {\n",
       "            background-color:  #e5ffe5;\n",
       "        }    #T_e5f4c0b2_7bd4_11e7_ab38_e82aeaf71f48row7_col7 {\n",
       "            background-color:  #e5ffe5;\n",
       "        }    #T_e5f4c0b2_7bd4_11e7_ab38_e82aeaf71f48row7_col8 {\n",
       "            background-color:  #e3fee3;\n",
       "        }    #T_e5f4c0b2_7bd4_11e7_ab38_e82aeaf71f48row7_col9 {\n",
       "            background-color:  #e1fde1;\n",
       "        }    #T_e5f4c0b2_7bd4_11e7_ab38_e82aeaf71f48row7_col10 {\n",
       "            background-color:  #d4f6d4;\n",
       "        }    #T_e5f4c0b2_7bd4_11e7_ab38_e82aeaf71f48row7_col11 {\n",
       "            background-color:  #e5ffe5;\n",
       "        }    #T_e5f4c0b2_7bd4_11e7_ab38_e82aeaf71f48row7_col12 {\n",
       "            background-color:  #bce8bc;\n",
       "        }    #T_e5f4c0b2_7bd4_11e7_ab38_e82aeaf71f48row7_col13 {\n",
       "            background-color:  #defbde;\n",
       "        }    #T_e5f4c0b2_7bd4_11e7_ab38_e82aeaf71f48row7_col14 {\n",
       "            background-color:  #d4f6d4;\n",
       "        }    #T_e5f4c0b2_7bd4_11e7_ab38_e82aeaf71f48row7_col15 {\n",
       "            background-color:  #b8e6b8;\n",
       "        }    #T_e5f4c0b2_7bd4_11e7_ab38_e82aeaf71f48row7_col16 {\n",
       "            background-color:  #acdfac;\n",
       "        }    #T_e5f4c0b2_7bd4_11e7_ab38_e82aeaf71f48row7_col17 {\n",
       "            background-color:  #a8dda8;\n",
       "        }    #T_e5f4c0b2_7bd4_11e7_ab38_e82aeaf71f48row7_col18 {\n",
       "            background-color:  #ccf1cc;\n",
       "        }    #T_e5f4c0b2_7bd4_11e7_ab38_e82aeaf71f48row8_col0 {\n",
       "            background-color:  #b5e4b5;\n",
       "        }    #T_e5f4c0b2_7bd4_11e7_ab38_e82aeaf71f48row8_col1 {\n",
       "            background-color:  #e2fde2;\n",
       "        }    #T_e5f4c0b2_7bd4_11e7_ab38_e82aeaf71f48row8_col2 {\n",
       "            background-color:  #b8e6b8;\n",
       "        }    #T_e5f4c0b2_7bd4_11e7_ab38_e82aeaf71f48row8_col3 {\n",
       "            background-color:  #d4f6d4;\n",
       "        }    #T_e5f4c0b2_7bd4_11e7_ab38_e82aeaf71f48row8_col4 {\n",
       "            background-color:  #7ec67e;\n",
       "        }    #T_e5f4c0b2_7bd4_11e7_ab38_e82aeaf71f48row8_col5 {\n",
       "            background-color:  #bae7ba;\n",
       "        }    #T_e5f4c0b2_7bd4_11e7_ab38_e82aeaf71f48row8_col6 {\n",
       "            background-color:  #a8dda8;\n",
       "        }    #T_e5f4c0b2_7bd4_11e7_ab38_e82aeaf71f48row8_col7 {\n",
       "            background-color:  #a7dda7;\n",
       "        }    #T_e5f4c0b2_7bd4_11e7_ab38_e82aeaf71f48row8_col8 {\n",
       "            background-color:  #e2fde2;\n",
       "        }    #T_e5f4c0b2_7bd4_11e7_ab38_e82aeaf71f48row8_col9 {\n",
       "            background-color:  #e4fee4;\n",
       "        }    #T_e5f4c0b2_7bd4_11e7_ab38_e82aeaf71f48row8_col10 {\n",
       "            background-color:  #8dce8d;\n",
       "        }    #T_e5f4c0b2_7bd4_11e7_ab38_e82aeaf71f48row8_col11 {\n",
       "            background-color:  #008000;\n",
       "        }    #T_e5f4c0b2_7bd4_11e7_ab38_e82aeaf71f48row8_col12 {\n",
       "            background-color:  #d1f4d1;\n",
       "        }    #T_e5f4c0b2_7bd4_11e7_ab38_e82aeaf71f48row8_col13 {\n",
       "            background-color:  #008000;\n",
       "        }    #T_e5f4c0b2_7bd4_11e7_ab38_e82aeaf71f48row8_col14 {\n",
       "            background-color:  #8dce8d;\n",
       "        }    #T_e5f4c0b2_7bd4_11e7_ab38_e82aeaf71f48row8_col15 {\n",
       "            background-color:  #e5ffe5;\n",
       "        }    #T_e5f4c0b2_7bd4_11e7_ab38_e82aeaf71f48row8_col16 {\n",
       "            background-color:  #8fcf8f;\n",
       "        }    #T_e5f4c0b2_7bd4_11e7_ab38_e82aeaf71f48row8_col17 {\n",
       "            background-color:  #d6f7d6;\n",
       "        }    #T_e5f4c0b2_7bd4_11e7_ab38_e82aeaf71f48row8_col18 {\n",
       "            background-color:  #ccf1cc;\n",
       "        }    #T_e5f4c0b2_7bd4_11e7_ab38_e82aeaf71f48row9_col0 {\n",
       "            background-color:  #e5ffe5;\n",
       "        }    #T_e5f4c0b2_7bd4_11e7_ab38_e82aeaf71f48row9_col1 {\n",
       "            background-color:  #a9dea9;\n",
       "        }    #T_e5f4c0b2_7bd4_11e7_ab38_e82aeaf71f48row9_col2 {\n",
       "            background-color:  #b8e6b8;\n",
       "        }    #T_e5f4c0b2_7bd4_11e7_ab38_e82aeaf71f48row9_col3 {\n",
       "            background-color:  #d9f8d9;\n",
       "        }    #T_e5f4c0b2_7bd4_11e7_ab38_e82aeaf71f48row9_col4 {\n",
       "            background-color:  #56af56;\n",
       "        }    #T_e5f4c0b2_7bd4_11e7_ab38_e82aeaf71f48row9_col5 {\n",
       "            background-color:  #dbf9db;\n",
       "        }    #T_e5f4c0b2_7bd4_11e7_ab38_e82aeaf71f48row9_col6 {\n",
       "            background-color:  #8fcf8f;\n",
       "        }    #T_e5f4c0b2_7bd4_11e7_ab38_e82aeaf71f48row9_col7 {\n",
       "            background-color:  #bce8bc;\n",
       "        }    #T_e5f4c0b2_7bd4_11e7_ab38_e82aeaf71f48row9_col8 {\n",
       "            background-color:  #e5ffe5;\n",
       "        }    #T_e5f4c0b2_7bd4_11e7_ab38_e82aeaf71f48row9_col9 {\n",
       "            background-color:  #e5ffe5;\n",
       "        }    #T_e5f4c0b2_7bd4_11e7_ab38_e82aeaf71f48row9_col10 {\n",
       "            background-color:  #e5ffe5;\n",
       "        }    #T_e5f4c0b2_7bd4_11e7_ab38_e82aeaf71f48row9_col11 {\n",
       "            background-color:  #daf9da;\n",
       "        }    #T_e5f4c0b2_7bd4_11e7_ab38_e82aeaf71f48row9_col12 {\n",
       "            background-color:  #d1f4d1;\n",
       "        }    #T_e5f4c0b2_7bd4_11e7_ab38_e82aeaf71f48row9_col13 {\n",
       "            background-color:  #89cc89;\n",
       "        }    #T_e5f4c0b2_7bd4_11e7_ab38_e82aeaf71f48row9_col14 {\n",
       "            background-color:  #e5ffe5;\n",
       "        }    #T_e5f4c0b2_7bd4_11e7_ab38_e82aeaf71f48row9_col15 {\n",
       "            background-color:  #b8e6b8;\n",
       "        }    #T_e5f4c0b2_7bd4_11e7_ab38_e82aeaf71f48row9_col16 {\n",
       "            background-color:  #dcfadc;\n",
       "        }    #T_e5f4c0b2_7bd4_11e7_ab38_e82aeaf71f48row9_col17 {\n",
       "            background-color:  #e5ffe5;\n",
       "        }    #T_e5f4c0b2_7bd4_11e7_ab38_e82aeaf71f48row9_col18 {\n",
       "            background-color:  #40a340;\n",
       "        }    #T_e5f4c0b2_7bd4_11e7_ab38_e82aeaf71f48row10_col0 {\n",
       "            background-color:  #cff3cf;\n",
       "        }    #T_e5f4c0b2_7bd4_11e7_ab38_e82aeaf71f48row10_col1 {\n",
       "            background-color:  #e0fce0;\n",
       "        }    #T_e5f4c0b2_7bd4_11e7_ab38_e82aeaf71f48row10_col2 {\n",
       "            background-color:  #8acc8a;\n",
       "        }    #T_e5f4c0b2_7bd4_11e7_ab38_e82aeaf71f48row10_col3 {\n",
       "            background-color:  #e2fde2;\n",
       "        }    #T_e5f4c0b2_7bd4_11e7_ab38_e82aeaf71f48row10_col4 {\n",
       "            background-color:  #e5ffe5;\n",
       "        }    #T_e5f4c0b2_7bd4_11e7_ab38_e82aeaf71f48row10_col5 {\n",
       "            background-color:  #e5ffe5;\n",
       "        }    #T_e5f4c0b2_7bd4_11e7_ab38_e82aeaf71f48row10_col6 {\n",
       "            background-color:  #e1fde1;\n",
       "        }    #T_e5f4c0b2_7bd4_11e7_ab38_e82aeaf71f48row10_col7 {\n",
       "            background-color:  #d1f4d1;\n",
       "        }    #T_e5f4c0b2_7bd4_11e7_ab38_e82aeaf71f48row10_col8 {\n",
       "            background-color:  #e1fde1;\n",
       "        }    #T_e5f4c0b2_7bd4_11e7_ab38_e82aeaf71f48row10_col9 {\n",
       "            background-color:  #e5ffe5;\n",
       "        }    #T_e5f4c0b2_7bd4_11e7_ab38_e82aeaf71f48row10_col10 {\n",
       "            background-color:  #e5ffe5;\n",
       "        }    #T_e5f4c0b2_7bd4_11e7_ab38_e82aeaf71f48row10_col11 {\n",
       "            background-color:  #e5ffe5;\n",
       "        }    #T_e5f4c0b2_7bd4_11e7_ab38_e82aeaf71f48row10_col12 {\n",
       "            background-color:  #e5ffe5;\n",
       "        }    #T_e5f4c0b2_7bd4_11e7_ab38_e82aeaf71f48row10_col13 {\n",
       "            background-color:  #dcfadc;\n",
       "        }    #T_e5f4c0b2_7bd4_11e7_ab38_e82aeaf71f48row10_col14 {\n",
       "            background-color:  #c2ecc2;\n",
       "        }    #T_e5f4c0b2_7bd4_11e7_ab38_e82aeaf71f48row10_col15 {\n",
       "            background-color:  #e5ffe5;\n",
       "        }    #T_e5f4c0b2_7bd4_11e7_ab38_e82aeaf71f48row10_col16 {\n",
       "            background-color:  #dcfadc;\n",
       "        }    #T_e5f4c0b2_7bd4_11e7_ab38_e82aeaf71f48row10_col17 {\n",
       "            background-color:  #8acc8a;\n",
       "        }    #T_e5f4c0b2_7bd4_11e7_ab38_e82aeaf71f48row10_col18 {\n",
       "            background-color:  #d9f8d9;\n",
       "        }    #T_e5f4c0b2_7bd4_11e7_ab38_e82aeaf71f48row11_col0 {\n",
       "            background-color:  #dffcdf;\n",
       "        }    #T_e5f4c0b2_7bd4_11e7_ab38_e82aeaf71f48row11_col1 {\n",
       "            background-color:  #e2fde2;\n",
       "        }    #T_e5f4c0b2_7bd4_11e7_ab38_e82aeaf71f48row11_col2 {\n",
       "            background-color:  #e5ffe5;\n",
       "        }    #T_e5f4c0b2_7bd4_11e7_ab38_e82aeaf71f48row11_col3 {\n",
       "            background-color:  #e5ffe5;\n",
       "        }    #T_e5f4c0b2_7bd4_11e7_ab38_e82aeaf71f48row11_col4 {\n",
       "            background-color:  #e5ffe5;\n",
       "        }    #T_e5f4c0b2_7bd4_11e7_ab38_e82aeaf71f48row11_col5 {\n",
       "            background-color:  #e5ffe5;\n",
       "        }    #T_e5f4c0b2_7bd4_11e7_ab38_e82aeaf71f48row11_col6 {\n",
       "            background-color:  #e4fee4;\n",
       "        }    #T_e5f4c0b2_7bd4_11e7_ab38_e82aeaf71f48row11_col7 {\n",
       "            background-color:  #e5ffe5;\n",
       "        }    #T_e5f4c0b2_7bd4_11e7_ab38_e82aeaf71f48row11_col8 {\n",
       "            background-color:  #d3f5d3;\n",
       "        }    #T_e5f4c0b2_7bd4_11e7_ab38_e82aeaf71f48row11_col9 {\n",
       "            background-color:  #e4fee4;\n",
       "        }    #T_e5f4c0b2_7bd4_11e7_ab38_e82aeaf71f48row11_col10 {\n",
       "            background-color:  #e5ffe5;\n",
       "        }    #T_e5f4c0b2_7bd4_11e7_ab38_e82aeaf71f48row11_col11 {\n",
       "            background-color:  #e5ffe5;\n",
       "        }    #T_e5f4c0b2_7bd4_11e7_ab38_e82aeaf71f48row11_col12 {\n",
       "            background-color:  #bce8bc;\n",
       "        }    #T_e5f4c0b2_7bd4_11e7_ab38_e82aeaf71f48row11_col13 {\n",
       "            background-color:  #e5ffe5;\n",
       "        }    #T_e5f4c0b2_7bd4_11e7_ab38_e82aeaf71f48row11_col14 {\n",
       "            background-color:  #e5ffe5;\n",
       "        }    #T_e5f4c0b2_7bd4_11e7_ab38_e82aeaf71f48row11_col15 {\n",
       "            background-color:  #e5ffe5;\n",
       "        }    #T_e5f4c0b2_7bd4_11e7_ab38_e82aeaf71f48row11_col16 {\n",
       "            background-color:  #e5ffe5;\n",
       "        }    #T_e5f4c0b2_7bd4_11e7_ab38_e82aeaf71f48row11_col17 {\n",
       "            background-color:  #e5ffe5;\n",
       "        }    #T_e5f4c0b2_7bd4_11e7_ab38_e82aeaf71f48row11_col18 {\n",
       "            background-color:  #e5ffe5;\n",
       "        }    #T_e5f4c0b2_7bd4_11e7_ab38_e82aeaf71f48row12_col0 {\n",
       "            background-color:  #e5ffe5;\n",
       "        }    #T_e5f4c0b2_7bd4_11e7_ab38_e82aeaf71f48row12_col1 {\n",
       "            background-color:  #d1f4d1;\n",
       "        }    #T_e5f4c0b2_7bd4_11e7_ab38_e82aeaf71f48row12_col2 {\n",
       "            background-color:  #e5ffe5;\n",
       "        }    #T_e5f4c0b2_7bd4_11e7_ab38_e82aeaf71f48row12_col3 {\n",
       "            background-color:  #e1fde1;\n",
       "        }    #T_e5f4c0b2_7bd4_11e7_ab38_e82aeaf71f48row12_col4 {\n",
       "            background-color:  #e1fde1;\n",
       "        }    #T_e5f4c0b2_7bd4_11e7_ab38_e82aeaf71f48row12_col5 {\n",
       "            background-color:  #e5ffe5;\n",
       "        }    #T_e5f4c0b2_7bd4_11e7_ab38_e82aeaf71f48row12_col6 {\n",
       "            background-color:  #e5ffe5;\n",
       "        }    #T_e5f4c0b2_7bd4_11e7_ab38_e82aeaf71f48row12_col7 {\n",
       "            background-color:  #bce8bc;\n",
       "        }    #T_e5f4c0b2_7bd4_11e7_ab38_e82aeaf71f48row12_col8 {\n",
       "            background-color:  #e5ffe5;\n",
       "        }    #T_e5f4c0b2_7bd4_11e7_ab38_e82aeaf71f48row12_col9 {\n",
       "            background-color:  #e4fee4;\n",
       "        }    #T_e5f4c0b2_7bd4_11e7_ab38_e82aeaf71f48row12_col10 {\n",
       "            background-color:  #e5ffe5;\n",
       "        }    #T_e5f4c0b2_7bd4_11e7_ab38_e82aeaf71f48row12_col11 {\n",
       "            background-color:  #cef2ce;\n",
       "        }    #T_e5f4c0b2_7bd4_11e7_ab38_e82aeaf71f48row12_col12 {\n",
       "            background-color:  #e5ffe5;\n",
       "        }    #T_e5f4c0b2_7bd4_11e7_ab38_e82aeaf71f48row12_col13 {\n",
       "            background-color:  #dffcdf;\n",
       "        }    #T_e5f4c0b2_7bd4_11e7_ab38_e82aeaf71f48row12_col14 {\n",
       "            background-color:  #d4f6d4;\n",
       "        }    #T_e5f4c0b2_7bd4_11e7_ab38_e82aeaf71f48row12_col15 {\n",
       "            background-color:  #e5ffe5;\n",
       "        }    #T_e5f4c0b2_7bd4_11e7_ab38_e82aeaf71f48row12_col16 {\n",
       "            background-color:  #dcfadc;\n",
       "        }    #T_e5f4c0b2_7bd4_11e7_ab38_e82aeaf71f48row12_col17 {\n",
       "            background-color:  #e5ffe5;\n",
       "        }    #T_e5f4c0b2_7bd4_11e7_ab38_e82aeaf71f48row12_col18 {\n",
       "            background-color:  #c0eac0;\n",
       "        }    #T_e5f4c0b2_7bd4_11e7_ab38_e82aeaf71f48row13_col0 {\n",
       "            background-color:  #008000;\n",
       "        }    #T_e5f4c0b2_7bd4_11e7_ab38_e82aeaf71f48row13_col1 {\n",
       "            background-color:  #008000;\n",
       "        }    #T_e5f4c0b2_7bd4_11e7_ab38_e82aeaf71f48row13_col2 {\n",
       "            background-color:  #008000;\n",
       "        }    #T_e5f4c0b2_7bd4_11e7_ab38_e82aeaf71f48row13_col3 {\n",
       "            background-color:  #008000;\n",
       "        }    #T_e5f4c0b2_7bd4_11e7_ab38_e82aeaf71f48row13_col4 {\n",
       "            background-color:  #008000;\n",
       "        }    #T_e5f4c0b2_7bd4_11e7_ab38_e82aeaf71f48row13_col5 {\n",
       "            background-color:  #008000;\n",
       "        }    #T_e5f4c0b2_7bd4_11e7_ab38_e82aeaf71f48row13_col6 {\n",
       "            background-color:  #008000;\n",
       "        }    #T_e5f4c0b2_7bd4_11e7_ab38_e82aeaf71f48row13_col7 {\n",
       "            background-color:  #008000;\n",
       "        }    #T_e5f4c0b2_7bd4_11e7_ab38_e82aeaf71f48row13_col8 {\n",
       "            background-color:  #008000;\n",
       "        }    #T_e5f4c0b2_7bd4_11e7_ab38_e82aeaf71f48row13_col9 {\n",
       "            background-color:  #008000;\n",
       "        }    #T_e5f4c0b2_7bd4_11e7_ab38_e82aeaf71f48row13_col10 {\n",
       "            background-color:  #008000;\n",
       "        }    #T_e5f4c0b2_7bd4_11e7_ab38_e82aeaf71f48row13_col11 {\n",
       "            background-color:  #c2ebc2;\n",
       "        }    #T_e5f4c0b2_7bd4_11e7_ab38_e82aeaf71f48row13_col12 {\n",
       "            background-color:  #158b15;\n",
       "        }    #T_e5f4c0b2_7bd4_11e7_ab38_e82aeaf71f48row13_col13 {\n",
       "            background-color:  #e3fee3;\n",
       "        }    #T_e5f4c0b2_7bd4_11e7_ab38_e82aeaf71f48row13_col14 {\n",
       "            background-color:  #58b158;\n",
       "        }    #T_e5f4c0b2_7bd4_11e7_ab38_e82aeaf71f48row13_col15 {\n",
       "            background-color:  #008000;\n",
       "        }    #T_e5f4c0b2_7bd4_11e7_ab38_e82aeaf71f48row13_col16 {\n",
       "            background-color:  #008000;\n",
       "        }    #T_e5f4c0b2_7bd4_11e7_ab38_e82aeaf71f48row13_col17 {\n",
       "            background-color:  #5cb35c;\n",
       "        }    #T_e5f4c0b2_7bd4_11e7_ab38_e82aeaf71f48row13_col18 {\n",
       "            background-color:  #0d870d;\n",
       "        }    #T_e5f4c0b2_7bd4_11e7_ab38_e82aeaf71f48row14_col0 {\n",
       "            background-color:  #cff3cf;\n",
       "        }    #T_e5f4c0b2_7bd4_11e7_ab38_e82aeaf71f48row14_col1 {\n",
       "            background-color:  #e4fee4;\n",
       "        }    #T_e5f4c0b2_7bd4_11e7_ab38_e82aeaf71f48row14_col2 {\n",
       "            background-color:  #b8e6b8;\n",
       "        }    #T_e5f4c0b2_7bd4_11e7_ab38_e82aeaf71f48row14_col3 {\n",
       "            background-color:  #e2fde2;\n",
       "        }    #T_e5f4c0b2_7bd4_11e7_ab38_e82aeaf71f48row14_col4 {\n",
       "            background-color:  #dcfadc;\n",
       "        }    #T_e5f4c0b2_7bd4_11e7_ab38_e82aeaf71f48row14_col5 {\n",
       "            background-color:  #bae7ba;\n",
       "        }    #T_e5f4c0b2_7bd4_11e7_ab38_e82aeaf71f48row14_col6 {\n",
       "            background-color:  #defbde;\n",
       "        }    #T_e5f4c0b2_7bd4_11e7_ab38_e82aeaf71f48row14_col7 {\n",
       "            background-color:  #d1f4d1;\n",
       "        }    #T_e5f4c0b2_7bd4_11e7_ab38_e82aeaf71f48row14_col8 {\n",
       "            background-color:  #e1fde1;\n",
       "        }    #T_e5f4c0b2_7bd4_11e7_ab38_e82aeaf71f48row14_col9 {\n",
       "            background-color:  #e5ffe5;\n",
       "        }    #T_e5f4c0b2_7bd4_11e7_ab38_e82aeaf71f48row14_col10 {\n",
       "            background-color:  #c2ecc2;\n",
       "        }    #T_e5f4c0b2_7bd4_11e7_ab38_e82aeaf71f48row14_col11 {\n",
       "            background-color:  #e5ffe5;\n",
       "        }    #T_e5f4c0b2_7bd4_11e7_ab38_e82aeaf71f48row14_col12 {\n",
       "            background-color:  #d1f4d1;\n",
       "        }    #T_e5f4c0b2_7bd4_11e7_ab38_e82aeaf71f48row14_col13 {\n",
       "            background-color:  #e1fde1;\n",
       "        }    #T_e5f4c0b2_7bd4_11e7_ab38_e82aeaf71f48row14_col14 {\n",
       "            background-color:  #e5ffe5;\n",
       "        }    #T_e5f4c0b2_7bd4_11e7_ab38_e82aeaf71f48row14_col15 {\n",
       "            background-color:  #e5ffe5;\n",
       "        }    #T_e5f4c0b2_7bd4_11e7_ab38_e82aeaf71f48row14_col16 {\n",
       "            background-color:  #c9efc9;\n",
       "        }    #T_e5f4c0b2_7bd4_11e7_ab38_e82aeaf71f48row14_col17 {\n",
       "            background-color:  #c7eec7;\n",
       "        }    #T_e5f4c0b2_7bd4_11e7_ab38_e82aeaf71f48row14_col18 {\n",
       "            background-color:  #e5ffe5;\n",
       "        }    #T_e5f4c0b2_7bd4_11e7_ab38_e82aeaf71f48row15_col0 {\n",
       "            background-color:  #e5ffe5;\n",
       "        }    #T_e5f4c0b2_7bd4_11e7_ab38_e82aeaf71f48row15_col1 {\n",
       "            background-color:  #e5ffe5;\n",
       "        }    #T_e5f4c0b2_7bd4_11e7_ab38_e82aeaf71f48row15_col2 {\n",
       "            background-color:  #e5ffe5;\n",
       "        }    #T_e5f4c0b2_7bd4_11e7_ab38_e82aeaf71f48row15_col3 {\n",
       "            background-color:  #e4fee4;\n",
       "        }    #T_e5f4c0b2_7bd4_11e7_ab38_e82aeaf71f48row15_col4 {\n",
       "            background-color:  #e5ffe5;\n",
       "        }    #T_e5f4c0b2_7bd4_11e7_ab38_e82aeaf71f48row15_col5 {\n",
       "            background-color:  #d0f3d0;\n",
       "        }    #T_e5f4c0b2_7bd4_11e7_ab38_e82aeaf71f48row15_col6 {\n",
       "            background-color:  #e1fde1;\n",
       "        }    #T_e5f4c0b2_7bd4_11e7_ab38_e82aeaf71f48row15_col7 {\n",
       "            background-color:  #d1f4d1;\n",
       "        }    #T_e5f4c0b2_7bd4_11e7_ab38_e82aeaf71f48row15_col8 {\n",
       "            background-color:  #e5ffe5;\n",
       "        }    #T_e5f4c0b2_7bd4_11e7_ab38_e82aeaf71f48row15_col9 {\n",
       "            background-color:  #e4fee4;\n",
       "        }    #T_e5f4c0b2_7bd4_11e7_ab38_e82aeaf71f48row15_col10 {\n",
       "            background-color:  #e5ffe5;\n",
       "        }    #T_e5f4c0b2_7bd4_11e7_ab38_e82aeaf71f48row15_col11 {\n",
       "            background-color:  #e5ffe5;\n",
       "        }    #T_e5f4c0b2_7bd4_11e7_ab38_e82aeaf71f48row15_col12 {\n",
       "            background-color:  #e5ffe5;\n",
       "        }    #T_e5f4c0b2_7bd4_11e7_ab38_e82aeaf71f48row15_col13 {\n",
       "            background-color:  #e4fee4;\n",
       "        }    #T_e5f4c0b2_7bd4_11e7_ab38_e82aeaf71f48row15_col14 {\n",
       "            background-color:  #e5ffe5;\n",
       "        }    #T_e5f4c0b2_7bd4_11e7_ab38_e82aeaf71f48row15_col15 {\n",
       "            background-color:  #e5ffe5;\n",
       "        }    #T_e5f4c0b2_7bd4_11e7_ab38_e82aeaf71f48row15_col16 {\n",
       "            background-color:  #e5ffe5;\n",
       "        }    #T_e5f4c0b2_7bd4_11e7_ab38_e82aeaf71f48row15_col17 {\n",
       "            background-color:  #e5ffe5;\n",
       "        }    #T_e5f4c0b2_7bd4_11e7_ab38_e82aeaf71f48row15_col18 {\n",
       "            background-color:  #e5ffe5;\n",
       "        }    #T_e5f4c0b2_7bd4_11e7_ab38_e82aeaf71f48row16_col0 {\n",
       "            background-color:  #d8f8d8;\n",
       "        }    #T_e5f4c0b2_7bd4_11e7_ab38_e82aeaf71f48row16_col1 {\n",
       "            background-color:  #e2fde2;\n",
       "        }    #T_e5f4c0b2_7bd4_11e7_ab38_e82aeaf71f48row16_col2 {\n",
       "            background-color:  #e5ffe5;\n",
       "        }    #T_e5f4c0b2_7bd4_11e7_ab38_e82aeaf71f48row16_col3 {\n",
       "            background-color:  #e0fce0;\n",
       "        }    #T_e5f4c0b2_7bd4_11e7_ab38_e82aeaf71f48row16_col4 {\n",
       "            background-color:  #dcfadc;\n",
       "        }    #T_e5f4c0b2_7bd4_11e7_ab38_e82aeaf71f48row16_col5 {\n",
       "            background-color:  #c5edc5;\n",
       "        }    #T_e5f4c0b2_7bd4_11e7_ab38_e82aeaf71f48row16_col6 {\n",
       "            background-color:  #defbde;\n",
       "        }    #T_e5f4c0b2_7bd4_11e7_ab38_e82aeaf71f48row16_col7 {\n",
       "            background-color:  #68ba68;\n",
       "        }    #T_e5f4c0b2_7bd4_11e7_ab38_e82aeaf71f48row16_col8 {\n",
       "            background-color:  #ddfbdd;\n",
       "        }    #T_e5f4c0b2_7bd4_11e7_ab38_e82aeaf71f48row16_col9 {\n",
       "            background-color:  #e4fee4;\n",
       "        }    #T_e5f4c0b2_7bd4_11e7_ab38_e82aeaf71f48row16_col10 {\n",
       "            background-color:  #d4f6d4;\n",
       "        }    #T_e5f4c0b2_7bd4_11e7_ab38_e82aeaf71f48row16_col11 {\n",
       "            background-color:  #e5ffe5;\n",
       "        }    #T_e5f4c0b2_7bd4_11e7_ab38_e82aeaf71f48row16_col12 {\n",
       "            background-color:  #d1f4d1;\n",
       "        }    #T_e5f4c0b2_7bd4_11e7_ab38_e82aeaf71f48row16_col13 {\n",
       "            background-color:  #d2f4d2;\n",
       "        }    #T_e5f4c0b2_7bd4_11e7_ab38_e82aeaf71f48row16_col14 {\n",
       "            background-color:  #b0e2b0;\n",
       "        }    #T_e5f4c0b2_7bd4_11e7_ab38_e82aeaf71f48row16_col15 {\n",
       "            background-color:  #e5ffe5;\n",
       "        }    #T_e5f4c0b2_7bd4_11e7_ab38_e82aeaf71f48row16_col16 {\n",
       "            background-color:  #e5ffe5;\n",
       "        }    #T_e5f4c0b2_7bd4_11e7_ab38_e82aeaf71f48row16_col17 {\n",
       "            background-color:  #c7eec7;\n",
       "        }    #T_e5f4c0b2_7bd4_11e7_ab38_e82aeaf71f48row16_col18 {\n",
       "            background-color:  #e5ffe5;\n",
       "        }    #T_e5f4c0b2_7bd4_11e7_ab38_e82aeaf71f48row17_col0 {\n",
       "            background-color:  #cbf1cb;\n",
       "        }    #T_e5f4c0b2_7bd4_11e7_ab38_e82aeaf71f48row17_col1 {\n",
       "            background-color:  #e4fee4;\n",
       "        }    #T_e5f4c0b2_7bd4_11e7_ab38_e82aeaf71f48row17_col2 {\n",
       "            background-color:  #e5ffe5;\n",
       "        }    #T_e5f4c0b2_7bd4_11e7_ab38_e82aeaf71f48row17_col3 {\n",
       "            background-color:  #e2fde2;\n",
       "        }    #T_e5f4c0b2_7bd4_11e7_ab38_e82aeaf71f48row17_col4 {\n",
       "            background-color:  #e1fde1;\n",
       "        }    #T_e5f4c0b2_7bd4_11e7_ab38_e82aeaf71f48row17_col5 {\n",
       "            background-color:  #d0f3d0;\n",
       "        }    #T_e5f4c0b2_7bd4_11e7_ab38_e82aeaf71f48row17_col6 {\n",
       "            background-color:  #e4fee4;\n",
       "        }    #T_e5f4c0b2_7bd4_11e7_ab38_e82aeaf71f48row17_col7 {\n",
       "            background-color:  #92d192;\n",
       "        }    #T_e5f4c0b2_7bd4_11e7_ab38_e82aeaf71f48row17_col8 {\n",
       "            background-color:  #e5ffe5;\n",
       "        }    #T_e5f4c0b2_7bd4_11e7_ab38_e82aeaf71f48row17_col9 {\n",
       "            background-color:  #e5ffe5;\n",
       "        }    #T_e5f4c0b2_7bd4_11e7_ab38_e82aeaf71f48row17_col10 {\n",
       "            background-color:  #7bc47b;\n",
       "        }    #T_e5f4c0b2_7bd4_11e7_ab38_e82aeaf71f48row17_col11 {\n",
       "            background-color:  #e5ffe5;\n",
       "        }    #T_e5f4c0b2_7bd4_11e7_ab38_e82aeaf71f48row17_col12 {\n",
       "            background-color:  #e5ffe5;\n",
       "        }    #T_e5f4c0b2_7bd4_11e7_ab38_e82aeaf71f48row17_col13 {\n",
       "            background-color:  #e0fce0;\n",
       "        }    #T_e5f4c0b2_7bd4_11e7_ab38_e82aeaf71f48row17_col14 {\n",
       "            background-color:  #c2ecc2;\n",
       "        }    #T_e5f4c0b2_7bd4_11e7_ab38_e82aeaf71f48row17_col15 {\n",
       "            background-color:  #e5ffe5;\n",
       "        }    #T_e5f4c0b2_7bd4_11e7_ab38_e82aeaf71f48row17_col16 {\n",
       "            background-color:  #d3f5d3;\n",
       "        }    #T_e5f4c0b2_7bd4_11e7_ab38_e82aeaf71f48row17_col17 {\n",
       "            background-color:  #e5ffe5;\n",
       "        }    #T_e5f4c0b2_7bd4_11e7_ab38_e82aeaf71f48row17_col18 {\n",
       "            background-color:  #99d599;\n",
       "        }    #T_e5f4c0b2_7bd4_11e7_ab38_e82aeaf71f48row18_col0 {\n",
       "            background-color:  #e1fde1;\n",
       "        }    #T_e5f4c0b2_7bd4_11e7_ab38_e82aeaf71f48row18_col1 {\n",
       "            background-color:  #c2ecc2;\n",
       "        }    #T_e5f4c0b2_7bd4_11e7_ab38_e82aeaf71f48row18_col2 {\n",
       "            background-color:  #8acc8a;\n",
       "        }    #T_e5f4c0b2_7bd4_11e7_ab38_e82aeaf71f48row18_col3 {\n",
       "            background-color:  #d7f7d7;\n",
       "        }    #T_e5f4c0b2_7bd4_11e7_ab38_e82aeaf71f48row18_col4 {\n",
       "            background-color:  #d8f8d8;\n",
       "        }    #T_e5f4c0b2_7bd4_11e7_ab38_e82aeaf71f48row18_col5 {\n",
       "            background-color:  #dbf9db;\n",
       "        }    #T_e5f4c0b2_7bd4_11e7_ab38_e82aeaf71f48row18_col6 {\n",
       "            background-color:  #e1fde1;\n",
       "        }    #T_e5f4c0b2_7bd4_11e7_ab38_e82aeaf71f48row18_col7 {\n",
       "            background-color:  #bce8bc;\n",
       "        }    #T_e5f4c0b2_7bd4_11e7_ab38_e82aeaf71f48row18_col8 {\n",
       "            background-color:  #e4fee4;\n",
       "        }    #T_e5f4c0b2_7bd4_11e7_ab38_e82aeaf71f48row18_col9 {\n",
       "            background-color:  #c8efc8;\n",
       "        }    #T_e5f4c0b2_7bd4_11e7_ab38_e82aeaf71f48row18_col10 {\n",
       "            background-color:  #d4f6d4;\n",
       "        }    #T_e5f4c0b2_7bd4_11e7_ab38_e82aeaf71f48row18_col11 {\n",
       "            background-color:  #e5ffe5;\n",
       "        }    #T_e5f4c0b2_7bd4_11e7_ab38_e82aeaf71f48row18_col12 {\n",
       "            background-color:  #a7dda7;\n",
       "        }    #T_e5f4c0b2_7bd4_11e7_ab38_e82aeaf71f48row18_col13 {\n",
       "            background-color:  #d8f8d8;\n",
       "        }    #T_e5f4c0b2_7bd4_11e7_ab38_e82aeaf71f48row18_col14 {\n",
       "            background-color:  #e5ffe5;\n",
       "        }    #T_e5f4c0b2_7bd4_11e7_ab38_e82aeaf71f48row18_col15 {\n",
       "            background-color:  #e5ffe5;\n",
       "        }    #T_e5f4c0b2_7bd4_11e7_ab38_e82aeaf71f48row18_col16 {\n",
       "            background-color:  #e5ffe5;\n",
       "        }    #T_e5f4c0b2_7bd4_11e7_ab38_e82aeaf71f48row18_col17 {\n",
       "            background-color:  #8acc8a;\n",
       "        }    #T_e5f4c0b2_7bd4_11e7_ab38_e82aeaf71f48row18_col18 {\n",
       "            background-color:  #e5ffe5;\n",
       "        }</style>  \n",
       "<table id=\"T_e5f4c0b2_7bd4_11e7_ab38_e82aeaf71f48\" > \n",
       "<thead>    <tr> \n",
       "        <th class=\"index_name level0\" >col_0</th> \n",
       "        <th class=\"col_heading level0 col0\" >Adv</th> \n",
       "        <th class=\"col_heading level0 col1\" >Ang</th> \n",
       "        <th class=\"col_heading level0 col2\" >Cri</th> \n",
       "        <th class=\"col_heading level0 col3\" >Dra</th> \n",
       "        <th class=\"col_heading level0 col4\" >Fam</th> \n",
       "        <th class=\"col_heading level0 col5\" >Fan</th> \n",
       "        <th class=\"col_heading level0 col6\" >Fri</th> \n",
       "        <th class=\"col_heading level0 col7\" >Hor</th> \n",
       "        <th class=\"col_heading level0 col8\" >Hum</th> \n",
       "        <th class=\"col_heading level0 col9\" >Hur</th> \n",
       "        <th class=\"col_heading level0 col10\" >Mys</th> \n",
       "        <th class=\"col_heading level0 col11\" >Par</th> \n",
       "        <th class=\"col_heading level0 col12\" >Poe</th> \n",
       "        <th class=\"col_heading level0 col13\" >Rom</th> \n",
       "        <th class=\"col_heading level0 col14\" >Sci</th> \n",
       "        <th class=\"col_heading level0 col15\" >Spi</th> \n",
       "        <th class=\"col_heading level0 col16\" >Sup</th> \n",
       "        <th class=\"col_heading level0 col17\" >Sus</th> \n",
       "        <th class=\"col_heading level0 col18\" >Tra</th> \n",
       "    </tr>    <tr> \n",
       "        <th class=\"index_name level0\" >row_0</th> \n",
       "        <th class=\"blank\" ></th> \n",
       "        <th class=\"blank\" ></th> \n",
       "        <th class=\"blank\" ></th> \n",
       "        <th class=\"blank\" ></th> \n",
       "        <th class=\"blank\" ></th> \n",
       "        <th class=\"blank\" ></th> \n",
       "        <th class=\"blank\" ></th> \n",
       "        <th class=\"blank\" ></th> \n",
       "        <th class=\"blank\" ></th> \n",
       "        <th class=\"blank\" ></th> \n",
       "        <th class=\"blank\" ></th> \n",
       "        <th class=\"blank\" ></th> \n",
       "        <th class=\"blank\" ></th> \n",
       "        <th class=\"blank\" ></th> \n",
       "        <th class=\"blank\" ></th> \n",
       "        <th class=\"blank\" ></th> \n",
       "        <th class=\"blank\" ></th> \n",
       "        <th class=\"blank\" ></th> \n",
       "        <th class=\"blank\" ></th> \n",
       "    </tr></thead> \n",
       "<tbody>    <tr> \n",
       "        <th id=\"T_e5f4c0b2_7bd4_11e7_ab38_e82aeaf71f48level0_row0\" class=\"row_heading level0 row0\" >Adv</th> \n",
       "        <td id=\"T_e5f4c0b2_7bd4_11e7_ab38_e82aeaf71f48row0_col0\" class=\"data row0 col0\" >0</td> \n",
       "        <td id=\"T_e5f4c0b2_7bd4_11e7_ab38_e82aeaf71f48row0_col1\" class=\"data row0 col1\" >7</td> \n",
       "        <td id=\"T_e5f4c0b2_7bd4_11e7_ab38_e82aeaf71f48row0_col2\" class=\"data row0 col2\" >2</td> \n",
       "        <td id=\"T_e5f4c0b2_7bd4_11e7_ab38_e82aeaf71f48row0_col3\" class=\"data row0 col3\" >27</td> \n",
       "        <td id=\"T_e5f4c0b2_7bd4_11e7_ab38_e82aeaf71f48row0_col4\" class=\"data row0 col4\" >10</td> \n",
       "        <td id=\"T_e5f4c0b2_7bd4_11e7_ab38_e82aeaf71f48row0_col5\" class=\"data row0 col5\" >16</td> \n",
       "        <td id=\"T_e5f4c0b2_7bd4_11e7_ab38_e82aeaf71f48row0_col6\" class=\"data row0 col6\" >26</td> \n",
       "        <td id=\"T_e5f4c0b2_7bd4_11e7_ab38_e82aeaf71f48row0_col7\" class=\"data row0 col7\" >4</td> \n",
       "        <td id=\"T_e5f4c0b2_7bd4_11e7_ab38_e82aeaf71f48row0_col8\" class=\"data row0 col8\" >28</td> \n",
       "        <td id=\"T_e5f4c0b2_7bd4_11e7_ab38_e82aeaf71f48row0_col9\" class=\"data row0 col9\" >1</td> \n",
       "        <td id=\"T_e5f4c0b2_7bd4_11e7_ab38_e82aeaf71f48row0_col10\" class=\"data row0 col10\" >13</td> \n",
       "        <td id=\"T_e5f4c0b2_7bd4_11e7_ab38_e82aeaf71f48row0_col11\" class=\"data row0 col11\" >4</td> \n",
       "        <td id=\"T_e5f4c0b2_7bd4_11e7_ab38_e82aeaf71f48row0_col12\" class=\"data row0 col12\" >0</td> \n",
       "        <td id=\"T_e5f4c0b2_7bd4_11e7_ab38_e82aeaf71f48row0_col13\" class=\"data row0 col13\" >132</td> \n",
       "        <td id=\"T_e5f4c0b2_7bd4_11e7_ab38_e82aeaf71f48row0_col14\" class=\"data row0 col14\" >13</td> \n",
       "        <td id=\"T_e5f4c0b2_7bd4_11e7_ab38_e82aeaf71f48row0_col15\" class=\"data row0 col15\" >1</td> \n",
       "        <td id=\"T_e5f4c0b2_7bd4_11e7_ab38_e82aeaf71f48row0_col16\" class=\"data row0 col16\" >8</td> \n",
       "        <td id=\"T_e5f4c0b2_7bd4_11e7_ab38_e82aeaf71f48row0_col17\" class=\"data row0 col17\" >15</td> \n",
       "        <td id=\"T_e5f4c0b2_7bd4_11e7_ab38_e82aeaf71f48row0_col18\" class=\"data row0 col18\" >3</td> \n",
       "    </tr>    <tr> \n",
       "        <th id=\"T_e5f4c0b2_7bd4_11e7_ab38_e82aeaf71f48level0_row1\" class=\"row_heading level0 row1\" >Ang</th> \n",
       "        <td id=\"T_e5f4c0b2_7bd4_11e7_ab38_e82aeaf71f48row1_col0\" class=\"data row1 col0\" >7</td> \n",
       "        <td id=\"T_e5f4c0b2_7bd4_11e7_ab38_e82aeaf71f48row1_col1\" class=\"data row1 col1\" >0</td> \n",
       "        <td id=\"T_e5f4c0b2_7bd4_11e7_ab38_e82aeaf71f48row1_col2\" class=\"data row1 col2\" >1</td> \n",
       "        <td id=\"T_e5f4c0b2_7bd4_11e7_ab38_e82aeaf71f48row1_col3\" class=\"data row1 col3\" >44</td> \n",
       "        <td id=\"T_e5f4c0b2_7bd4_11e7_ab38_e82aeaf71f48row1_col4\" class=\"data row1 col4\" >9</td> \n",
       "        <td id=\"T_e5f4c0b2_7bd4_11e7_ab38_e82aeaf71f48row1_col5\" class=\"data row1 col5\" >0</td> \n",
       "        <td id=\"T_e5f4c0b2_7bd4_11e7_ab38_e82aeaf71f48row1_col6\" class=\"data row1 col6\" >8</td> \n",
       "        <td id=\"T_e5f4c0b2_7bd4_11e7_ab38_e82aeaf71f48row1_col7\" class=\"data row1 col7\" >11</td> \n",
       "        <td id=\"T_e5f4c0b2_7bd4_11e7_ab38_e82aeaf71f48row1_col8\" class=\"data row1 col8\" >2</td> \n",
       "        <td id=\"T_e5f4c0b2_7bd4_11e7_ab38_e82aeaf71f48row1_col9\" class=\"data row1 col9\" >31</td> \n",
       "        <td id=\"T_e5f4c0b2_7bd4_11e7_ab38_e82aeaf71f48row1_col10\" class=\"data row1 col10\" >3</td> \n",
       "        <td id=\"T_e5f4c0b2_7bd4_11e7_ab38_e82aeaf71f48row1_col11\" class=\"data row1 col11\" >2</td> \n",
       "        <td id=\"T_e5f4c0b2_7bd4_11e7_ab38_e82aeaf71f48row1_col12\" class=\"data row1 col12\" >11</td> \n",
       "        <td id=\"T_e5f4c0b2_7bd4_11e7_ab38_e82aeaf71f48row1_col13\" class=\"data row1 col13\" >118</td> \n",
       "        <td id=\"T_e5f4c0b2_7bd4_11e7_ab38_e82aeaf71f48row1_col14\" class=\"data row1 col14\" >1</td> \n",
       "        <td id=\"T_e5f4c0b2_7bd4_11e7_ab38_e82aeaf71f48row1_col15\" class=\"data row1 col15\" >0</td> \n",
       "        <td id=\"T_e5f4c0b2_7bd4_11e7_ab38_e82aeaf71f48row1_col16\" class=\"data row1 col16\" >2</td> \n",
       "        <td id=\"T_e5f4c0b2_7bd4_11e7_ab38_e82aeaf71f48row1_col17\" class=\"data row1 col17\" >1</td> \n",
       "        <td id=\"T_e5f4c0b2_7bd4_11e7_ab38_e82aeaf71f48row1_col18\" class=\"data row1 col18\" >18</td> \n",
       "    </tr>    <tr> \n",
       "        <th id=\"T_e5f4c0b2_7bd4_11e7_ab38_e82aeaf71f48level0_row2\" class=\"row_heading level0 row2\" >Cri</th> \n",
       "        <td id=\"T_e5f4c0b2_7bd4_11e7_ab38_e82aeaf71f48row2_col0\" class=\"data row2 col0\" >2</td> \n",
       "        <td id=\"T_e5f4c0b2_7bd4_11e7_ab38_e82aeaf71f48row2_col1\" class=\"data row2 col1\" >1</td> \n",
       "        <td id=\"T_e5f4c0b2_7bd4_11e7_ab38_e82aeaf71f48row2_col2\" class=\"data row2 col2\" >0</td> \n",
       "        <td id=\"T_e5f4c0b2_7bd4_11e7_ab38_e82aeaf71f48row2_col3\" class=\"data row2 col3\" >2</td> \n",
       "        <td id=\"T_e5f4c0b2_7bd4_11e7_ab38_e82aeaf71f48row2_col4\" class=\"data row2 col4\" >0</td> \n",
       "        <td id=\"T_e5f4c0b2_7bd4_11e7_ab38_e82aeaf71f48row2_col5\" class=\"data row2 col5\" >0</td> \n",
       "        <td id=\"T_e5f4c0b2_7bd4_11e7_ab38_e82aeaf71f48row2_col6\" class=\"data row2 col6\" >3</td> \n",
       "        <td id=\"T_e5f4c0b2_7bd4_11e7_ab38_e82aeaf71f48row2_col7\" class=\"data row2 col7\" >0</td> \n",
       "        <td id=\"T_e5f4c0b2_7bd4_11e7_ab38_e82aeaf71f48row2_col8\" class=\"data row2 col8\" >1</td> \n",
       "        <td id=\"T_e5f4c0b2_7bd4_11e7_ab38_e82aeaf71f48row2_col9\" class=\"data row2 col9\" >1</td> \n",
       "        <td id=\"T_e5f4c0b2_7bd4_11e7_ab38_e82aeaf71f48row2_col10\" class=\"data row2 col10\" >2</td> \n",
       "        <td id=\"T_e5f4c0b2_7bd4_11e7_ab38_e82aeaf71f48row2_col11\" class=\"data row2 col11\" >0</td> \n",
       "        <td id=\"T_e5f4c0b2_7bd4_11e7_ab38_e82aeaf71f48row2_col12\" class=\"data row2 col12\" >0</td> \n",
       "        <td id=\"T_e5f4c0b2_7bd4_11e7_ab38_e82aeaf71f48row2_col13\" class=\"data row2 col13\" >5</td> \n",
       "        <td id=\"T_e5f4c0b2_7bd4_11e7_ab38_e82aeaf71f48row2_col14\" class=\"data row2 col14\" >1</td> \n",
       "        <td id=\"T_e5f4c0b2_7bd4_11e7_ab38_e82aeaf71f48row2_col15\" class=\"data row2 col15\" >0</td> \n",
       "        <td id=\"T_e5f4c0b2_7bd4_11e7_ab38_e82aeaf71f48row2_col16\" class=\"data row2 col16\" >0</td> \n",
       "        <td id=\"T_e5f4c0b2_7bd4_11e7_ab38_e82aeaf71f48row2_col17\" class=\"data row2 col17\" >0</td> \n",
       "        <td id=\"T_e5f4c0b2_7bd4_11e7_ab38_e82aeaf71f48row2_col18\" class=\"data row2 col18\" >2</td> \n",
       "    </tr>    <tr> \n",
       "        <th id=\"T_e5f4c0b2_7bd4_11e7_ab38_e82aeaf71f48level0_row3\" class=\"row_heading level0 row3\" >Dra</th> \n",
       "        <td id=\"T_e5f4c0b2_7bd4_11e7_ab38_e82aeaf71f48row3_col0\" class=\"data row3 col0\" >27</td> \n",
       "        <td id=\"T_e5f4c0b2_7bd4_11e7_ab38_e82aeaf71f48row3_col1\" class=\"data row3 col1\" >44</td> \n",
       "        <td id=\"T_e5f4c0b2_7bd4_11e7_ab38_e82aeaf71f48row3_col2\" class=\"data row3 col2\" >2</td> \n",
       "        <td id=\"T_e5f4c0b2_7bd4_11e7_ab38_e82aeaf71f48row3_col3\" class=\"data row3 col3\" >0</td> \n",
       "        <td id=\"T_e5f4c0b2_7bd4_11e7_ab38_e82aeaf71f48row3_col4\" class=\"data row3 col4\" >20</td> \n",
       "        <td id=\"T_e5f4c0b2_7bd4_11e7_ab38_e82aeaf71f48row3_col5\" class=\"data row3 col5\" >4</td> \n",
       "        <td id=\"T_e5f4c0b2_7bd4_11e7_ab38_e82aeaf71f48row3_col6\" class=\"data row3 col6\" >12</td> \n",
       "        <td id=\"T_e5f4c0b2_7bd4_11e7_ab38_e82aeaf71f48row3_col7\" class=\"data row3 col7\" >4</td> \n",
       "        <td id=\"T_e5f4c0b2_7bd4_11e7_ab38_e82aeaf71f48row3_col8\" class=\"data row3 col8\" >18</td> \n",
       "        <td id=\"T_e5f4c0b2_7bd4_11e7_ab38_e82aeaf71f48row3_col9\" class=\"data row3 col9\" >13</td> \n",
       "        <td id=\"T_e5f4c0b2_7bd4_11e7_ab38_e82aeaf71f48row3_col10\" class=\"data row3 col10\" >4</td> \n",
       "        <td id=\"T_e5f4c0b2_7bd4_11e7_ab38_e82aeaf71f48row3_col11\" class=\"data row3 col11\" >0</td> \n",
       "        <td id=\"T_e5f4c0b2_7bd4_11e7_ab38_e82aeaf71f48row3_col12\" class=\"data row3 col12\" >5</td> \n",
       "        <td id=\"T_e5f4c0b2_7bd4_11e7_ab38_e82aeaf71f48row3_col13\" class=\"data row3 col13\" >232</td> \n",
       "        <td id=\"T_e5f4c0b2_7bd4_11e7_ab38_e82aeaf71f48row3_col14\" class=\"data row3 col14\" >4</td> \n",
       "        <td id=\"T_e5f4c0b2_7bd4_11e7_ab38_e82aeaf71f48row3_col15\" class=\"data row3 col15\" >2</td> \n",
       "        <td id=\"T_e5f4c0b2_7bd4_11e7_ab38_e82aeaf71f48row3_col16\" class=\"data row3 col16\" >6</td> \n",
       "        <td id=\"T_e5f4c0b2_7bd4_11e7_ab38_e82aeaf71f48row3_col17\" class=\"data row3 col17\" >4</td> \n",
       "        <td id=\"T_e5f4c0b2_7bd4_11e7_ab38_e82aeaf71f48row3_col18\" class=\"data row3 col18\" >15</td> \n",
       "    </tr>    <tr> \n",
       "        <th id=\"T_e5f4c0b2_7bd4_11e7_ab38_e82aeaf71f48level0_row4\" class=\"row_heading level0 row4\" >Fam</th> \n",
       "        <td id=\"T_e5f4c0b2_7bd4_11e7_ab38_e82aeaf71f48row4_col0\" class=\"data row4 col0\" >10</td> \n",
       "        <td id=\"T_e5f4c0b2_7bd4_11e7_ab38_e82aeaf71f48row4_col1\" class=\"data row4 col1\" >9</td> \n",
       "        <td id=\"T_e5f4c0b2_7bd4_11e7_ab38_e82aeaf71f48row4_col2\" class=\"data row4 col2\" >0</td> \n",
       "        <td id=\"T_e5f4c0b2_7bd4_11e7_ab38_e82aeaf71f48row4_col3\" class=\"data row4 col3\" >20</td> \n",
       "        <td id=\"T_e5f4c0b2_7bd4_11e7_ab38_e82aeaf71f48row4_col4\" class=\"data row4 col4\" >0</td> \n",
       "        <td id=\"T_e5f4c0b2_7bd4_11e7_ab38_e82aeaf71f48row4_col5\" class=\"data row4 col5\" >4</td> \n",
       "        <td id=\"T_e5f4c0b2_7bd4_11e7_ab38_e82aeaf71f48row4_col6\" class=\"data row4 col6\" >17</td> \n",
       "        <td id=\"T_e5f4c0b2_7bd4_11e7_ab38_e82aeaf71f48row4_col7\" class=\"data row4 col7\" >0</td> \n",
       "        <td id=\"T_e5f4c0b2_7bd4_11e7_ab38_e82aeaf71f48row4_col8\" class=\"data row4 col8\" >23</td> \n",
       "        <td id=\"T_e5f4c0b2_7bd4_11e7_ab38_e82aeaf71f48row4_col9\" class=\"data row4 col9\" >32</td> \n",
       "        <td id=\"T_e5f4c0b2_7bd4_11e7_ab38_e82aeaf71f48row4_col10\" class=\"data row4 col10\" >0</td> \n",
       "        <td id=\"T_e5f4c0b2_7bd4_11e7_ab38_e82aeaf71f48row4_col11\" class=\"data row4 col11\" >0</td> \n",
       "        <td id=\"T_e5f4c0b2_7bd4_11e7_ab38_e82aeaf71f48row4_col12\" class=\"data row4 col12\" >1</td> \n",
       "        <td id=\"T_e5f4c0b2_7bd4_11e7_ab38_e82aeaf71f48row4_col13\" class=\"data row4 col13\" >51</td> \n",
       "        <td id=\"T_e5f4c0b2_7bd4_11e7_ab38_e82aeaf71f48row4_col14\" class=\"data row4 col14\" >2</td> \n",
       "        <td id=\"T_e5f4c0b2_7bd4_11e7_ab38_e82aeaf71f48row4_col15\" class=\"data row4 col15\" >0</td> \n",
       "        <td id=\"T_e5f4c0b2_7bd4_11e7_ab38_e82aeaf71f48row4_col16\" class=\"data row4 col16\" >2</td> \n",
       "        <td id=\"T_e5f4c0b2_7bd4_11e7_ab38_e82aeaf71f48row4_col17\" class=\"data row4 col17\" >1</td> \n",
       "        <td id=\"T_e5f4c0b2_7bd4_11e7_ab38_e82aeaf71f48row4_col18\" class=\"data row4 col18\" >3</td> \n",
       "    </tr>    <tr> \n",
       "        <th id=\"T_e5f4c0b2_7bd4_11e7_ab38_e82aeaf71f48level0_row5\" class=\"row_heading level0 row5\" >Fan</th> \n",
       "        <td id=\"T_e5f4c0b2_7bd4_11e7_ab38_e82aeaf71f48row5_col0\" class=\"data row5 col0\" >16</td> \n",
       "        <td id=\"T_e5f4c0b2_7bd4_11e7_ab38_e82aeaf71f48row5_col1\" class=\"data row5 col1\" >0</td> \n",
       "        <td id=\"T_e5f4c0b2_7bd4_11e7_ab38_e82aeaf71f48row5_col2\" class=\"data row5 col2\" >0</td> \n",
       "        <td id=\"T_e5f4c0b2_7bd4_11e7_ab38_e82aeaf71f48row5_col3\" class=\"data row5 col3\" >4</td> \n",
       "        <td id=\"T_e5f4c0b2_7bd4_11e7_ab38_e82aeaf71f48row5_col4\" class=\"data row5 col4\" >4</td> \n",
       "        <td id=\"T_e5f4c0b2_7bd4_11e7_ab38_e82aeaf71f48row5_col5\" class=\"data row5 col5\" >0</td> \n",
       "        <td id=\"T_e5f4c0b2_7bd4_11e7_ab38_e82aeaf71f48row5_col6\" class=\"data row5 col6\" >5</td> \n",
       "        <td id=\"T_e5f4c0b2_7bd4_11e7_ab38_e82aeaf71f48row5_col7\" class=\"data row5 col7\" >0</td> \n",
       "        <td id=\"T_e5f4c0b2_7bd4_11e7_ab38_e82aeaf71f48row5_col8\" class=\"data row5 col8\" >4</td> \n",
       "        <td id=\"T_e5f4c0b2_7bd4_11e7_ab38_e82aeaf71f48row5_col9\" class=\"data row5 col9\" >1</td> \n",
       "        <td id=\"T_e5f4c0b2_7bd4_11e7_ab38_e82aeaf71f48row5_col10\" class=\"data row5 col10\" >0</td> \n",
       "        <td id=\"T_e5f4c0b2_7bd4_11e7_ab38_e82aeaf71f48row5_col11\" class=\"data row5 col11\" >0</td> \n",
       "        <td id=\"T_e5f4c0b2_7bd4_11e7_ab38_e82aeaf71f48row5_col12\" class=\"data row5 col12\" >0</td> \n",
       "        <td id=\"T_e5f4c0b2_7bd4_11e7_ab38_e82aeaf71f48row5_col13\" class=\"data row5 col13\" >21</td> \n",
       "        <td id=\"T_e5f4c0b2_7bd4_11e7_ab38_e82aeaf71f48row5_col14\" class=\"data row5 col14\" >4</td> \n",
       "        <td id=\"T_e5f4c0b2_7bd4_11e7_ab38_e82aeaf71f48row5_col15\" class=\"data row5 col15\" >2</td> \n",
       "        <td id=\"T_e5f4c0b2_7bd4_11e7_ab38_e82aeaf71f48row5_col16\" class=\"data row5 col16\" >3</td> \n",
       "        <td id=\"T_e5f4c0b2_7bd4_11e7_ab38_e82aeaf71f48row5_col17\" class=\"data row5 col17\" >2</td> \n",
       "        <td id=\"T_e5f4c0b2_7bd4_11e7_ab38_e82aeaf71f48row5_col18\" class=\"data row5 col18\" >1</td> \n",
       "    </tr>    <tr> \n",
       "        <th id=\"T_e5f4c0b2_7bd4_11e7_ab38_e82aeaf71f48level0_row6\" class=\"row_heading level0 row6\" >Fri</th> \n",
       "        <td id=\"T_e5f4c0b2_7bd4_11e7_ab38_e82aeaf71f48row6_col0\" class=\"data row6 col0\" >26</td> \n",
       "        <td id=\"T_e5f4c0b2_7bd4_11e7_ab38_e82aeaf71f48row6_col1\" class=\"data row6 col1\" >8</td> \n",
       "        <td id=\"T_e5f4c0b2_7bd4_11e7_ab38_e82aeaf71f48row6_col2\" class=\"data row6 col2\" >3</td> \n",
       "        <td id=\"T_e5f4c0b2_7bd4_11e7_ab38_e82aeaf71f48row6_col3\" class=\"data row6 col3\" >12</td> \n",
       "        <td id=\"T_e5f4c0b2_7bd4_11e7_ab38_e82aeaf71f48row6_col4\" class=\"data row6 col4\" >17</td> \n",
       "        <td id=\"T_e5f4c0b2_7bd4_11e7_ab38_e82aeaf71f48row6_col5\" class=\"data row6 col5\" >5</td> \n",
       "        <td id=\"T_e5f4c0b2_7bd4_11e7_ab38_e82aeaf71f48row6_col6\" class=\"data row6 col6\" >0</td> \n",
       "        <td id=\"T_e5f4c0b2_7bd4_11e7_ab38_e82aeaf71f48row6_col7\" class=\"data row6 col7\" >0</td> \n",
       "        <td id=\"T_e5f4c0b2_7bd4_11e7_ab38_e82aeaf71f48row6_col8\" class=\"data row6 col8\" >25</td> \n",
       "        <td id=\"T_e5f4c0b2_7bd4_11e7_ab38_e82aeaf71f48row6_col9\" class=\"data row6 col9\" >35</td> \n",
       "        <td id=\"T_e5f4c0b2_7bd4_11e7_ab38_e82aeaf71f48row6_col10\" class=\"data row6 col10\" >2</td> \n",
       "        <td id=\"T_e5f4c0b2_7bd4_11e7_ab38_e82aeaf71f48row6_col11\" class=\"data row6 col11\" >1</td> \n",
       "        <td id=\"T_e5f4c0b2_7bd4_11e7_ab38_e82aeaf71f48row6_col12\" class=\"data row6 col12\" >0</td> \n",
       "        <td id=\"T_e5f4c0b2_7bd4_11e7_ab38_e82aeaf71f48row6_col13\" class=\"data row6 col13\" >93</td> \n",
       "        <td id=\"T_e5f4c0b2_7bd4_11e7_ab38_e82aeaf71f48row6_col14\" class=\"data row6 col14\" >3</td> \n",
       "        <td id=\"T_e5f4c0b2_7bd4_11e7_ab38_e82aeaf71f48row6_col15\" class=\"data row6 col15\" >2</td> \n",
       "        <td id=\"T_e5f4c0b2_7bd4_11e7_ab38_e82aeaf71f48row6_col16\" class=\"data row6 col16\" >3</td> \n",
       "        <td id=\"T_e5f4c0b2_7bd4_11e7_ab38_e82aeaf71f48row6_col17\" class=\"data row6 col17\" >1</td> \n",
       "        <td id=\"T_e5f4c0b2_7bd4_11e7_ab38_e82aeaf71f48row6_col18\" class=\"data row6 col18\" >2</td> \n",
       "    </tr>    <tr> \n",
       "        <th id=\"T_e5f4c0b2_7bd4_11e7_ab38_e82aeaf71f48level0_row7\" class=\"row_heading level0 row7\" >Hor</th> \n",
       "        <td id=\"T_e5f4c0b2_7bd4_11e7_ab38_e82aeaf71f48row7_col0\" class=\"data row7 col0\" >4</td> \n",
       "        <td id=\"T_e5f4c0b2_7bd4_11e7_ab38_e82aeaf71f48row7_col1\" class=\"data row7 col1\" >11</td> \n",
       "        <td id=\"T_e5f4c0b2_7bd4_11e7_ab38_e82aeaf71f48row7_col2\" class=\"data row7 col2\" >0</td> \n",
       "        <td id=\"T_e5f4c0b2_7bd4_11e7_ab38_e82aeaf71f48row7_col3\" class=\"data row7 col3\" >4</td> \n",
       "        <td id=\"T_e5f4c0b2_7bd4_11e7_ab38_e82aeaf71f48row7_col4\" class=\"data row7 col4\" >0</td> \n",
       "        <td id=\"T_e5f4c0b2_7bd4_11e7_ab38_e82aeaf71f48row7_col5\" class=\"data row7 col5\" >0</td> \n",
       "        <td id=\"T_e5f4c0b2_7bd4_11e7_ab38_e82aeaf71f48row7_col6\" class=\"data row7 col6\" >0</td> \n",
       "        <td id=\"T_e5f4c0b2_7bd4_11e7_ab38_e82aeaf71f48row7_col7\" class=\"data row7 col7\" >0</td> \n",
       "        <td id=\"T_e5f4c0b2_7bd4_11e7_ab38_e82aeaf71f48row7_col8\" class=\"data row7 col8\" >3</td> \n",
       "        <td id=\"T_e5f4c0b2_7bd4_11e7_ab38_e82aeaf71f48row7_col9\" class=\"data row7 col9\" >2</td> \n",
       "        <td id=\"T_e5f4c0b2_7bd4_11e7_ab38_e82aeaf71f48row7_col10\" class=\"data row7 col10\" >1</td> \n",
       "        <td id=\"T_e5f4c0b2_7bd4_11e7_ab38_e82aeaf71f48row7_col11\" class=\"data row7 col11\" >0</td> \n",
       "        <td id=\"T_e5f4c0b2_7bd4_11e7_ab38_e82aeaf71f48row7_col12\" class=\"data row7 col12\" >2</td> \n",
       "        <td id=\"T_e5f4c0b2_7bd4_11e7_ab38_e82aeaf71f48row7_col13\" class=\"data row7 col13\" >11</td> \n",
       "        <td id=\"T_e5f4c0b2_7bd4_11e7_ab38_e82aeaf71f48row7_col14\" class=\"data row7 col14\" >1</td> \n",
       "        <td id=\"T_e5f4c0b2_7bd4_11e7_ab38_e82aeaf71f48row7_col15\" class=\"data row7 col15\" >1</td> \n",
       "        <td id=\"T_e5f4c0b2_7bd4_11e7_ab38_e82aeaf71f48row7_col16\" class=\"data row7 col16\" >6</td> \n",
       "        <td id=\"T_e5f4c0b2_7bd4_11e7_ab38_e82aeaf71f48row7_col17\" class=\"data row7 col17\" >4</td> \n",
       "        <td id=\"T_e5f4c0b2_7bd4_11e7_ab38_e82aeaf71f48row7_col18\" class=\"data row7 col18\" >2</td> \n",
       "    </tr>    <tr> \n",
       "        <th id=\"T_e5f4c0b2_7bd4_11e7_ab38_e82aeaf71f48level0_row8\" class=\"row_heading level0 row8\" >Hum</th> \n",
       "        <td id=\"T_e5f4c0b2_7bd4_11e7_ab38_e82aeaf71f48row8_col0\" class=\"data row8 col0\" >28</td> \n",
       "        <td id=\"T_e5f4c0b2_7bd4_11e7_ab38_e82aeaf71f48row8_col1\" class=\"data row8 col1\" >2</td> \n",
       "        <td id=\"T_e5f4c0b2_7bd4_11e7_ab38_e82aeaf71f48row8_col2\" class=\"data row8 col2\" >1</td> \n",
       "        <td id=\"T_e5f4c0b2_7bd4_11e7_ab38_e82aeaf71f48row8_col3\" class=\"data row8 col3\" >18</td> \n",
       "        <td id=\"T_e5f4c0b2_7bd4_11e7_ab38_e82aeaf71f48row8_col4\" class=\"data row8 col4\" >23</td> \n",
       "        <td id=\"T_e5f4c0b2_7bd4_11e7_ab38_e82aeaf71f48row8_col5\" class=\"data row8 col5\" >4</td> \n",
       "        <td id=\"T_e5f4c0b2_7bd4_11e7_ab38_e82aeaf71f48row8_col6\" class=\"data row8 col6\" >25</td> \n",
       "        <td id=\"T_e5f4c0b2_7bd4_11e7_ab38_e82aeaf71f48row8_col7\" class=\"data row8 col7\" >3</td> \n",
       "        <td id=\"T_e5f4c0b2_7bd4_11e7_ab38_e82aeaf71f48row8_col8\" class=\"data row8 col8\" >4</td> \n",
       "        <td id=\"T_e5f4c0b2_7bd4_11e7_ab38_e82aeaf71f48row8_col9\" class=\"data row8 col9\" >1</td> \n",
       "        <td id=\"T_e5f4c0b2_7bd4_11e7_ab38_e82aeaf71f48row8_col10\" class=\"data row8 col10\" >5</td> \n",
       "        <td id=\"T_e5f4c0b2_7bd4_11e7_ab38_e82aeaf71f48row8_col11\" class=\"data row8 col11\" >19</td> \n",
       "        <td id=\"T_e5f4c0b2_7bd4_11e7_ab38_e82aeaf71f48row8_col12\" class=\"data row8 col12\" >1</td> \n",
       "        <td id=\"T_e5f4c0b2_7bd4_11e7_ab38_e82aeaf71f48row8_col13\" class=\"data row8 col13\" >241</td> \n",
       "        <td id=\"T_e5f4c0b2_7bd4_11e7_ab38_e82aeaf71f48row8_col14\" class=\"data row8 col14\" >5</td> \n",
       "        <td id=\"T_e5f4c0b2_7bd4_11e7_ab38_e82aeaf71f48row8_col15\" class=\"data row8 col15\" >0</td> \n",
       "        <td id=\"T_e5f4c0b2_7bd4_11e7_ab38_e82aeaf71f48row8_col16\" class=\"data row8 col16\" >9</td> \n",
       "        <td id=\"T_e5f4c0b2_7bd4_11e7_ab38_e82aeaf71f48row8_col17\" class=\"data row8 col17\" >1</td> \n",
       "        <td id=\"T_e5f4c0b2_7bd4_11e7_ab38_e82aeaf71f48row8_col18\" class=\"data row8 col18\" >2</td> \n",
       "    </tr>    <tr> \n",
       "        <th id=\"T_e5f4c0b2_7bd4_11e7_ab38_e82aeaf71f48level0_row9\" class=\"row_heading level0 row9\" >Hur</th> \n",
       "        <td id=\"T_e5f4c0b2_7bd4_11e7_ab38_e82aeaf71f48row9_col0\" class=\"data row9 col0\" >1</td> \n",
       "        <td id=\"T_e5f4c0b2_7bd4_11e7_ab38_e82aeaf71f48row9_col1\" class=\"data row9 col1\" >31</td> \n",
       "        <td id=\"T_e5f4c0b2_7bd4_11e7_ab38_e82aeaf71f48row9_col2\" class=\"data row9 col2\" >1</td> \n",
       "        <td id=\"T_e5f4c0b2_7bd4_11e7_ab38_e82aeaf71f48row9_col3\" class=\"data row9 col3\" >13</td> \n",
       "        <td id=\"T_e5f4c0b2_7bd4_11e7_ab38_e82aeaf71f48row9_col4\" class=\"data row9 col4\" >32</td> \n",
       "        <td id=\"T_e5f4c0b2_7bd4_11e7_ab38_e82aeaf71f48row9_col5\" class=\"data row9 col5\" >1</td> \n",
       "        <td id=\"T_e5f4c0b2_7bd4_11e7_ab38_e82aeaf71f48row9_col6\" class=\"data row9 col6\" >35</td> \n",
       "        <td id=\"T_e5f4c0b2_7bd4_11e7_ab38_e82aeaf71f48row9_col7\" class=\"data row9 col7\" >2</td> \n",
       "        <td id=\"T_e5f4c0b2_7bd4_11e7_ab38_e82aeaf71f48row9_col8\" class=\"data row9 col8\" >1</td> \n",
       "        <td id=\"T_e5f4c0b2_7bd4_11e7_ab38_e82aeaf71f48row9_col9\" class=\"data row9 col9\" >0</td> \n",
       "        <td id=\"T_e5f4c0b2_7bd4_11e7_ab38_e82aeaf71f48row9_col10\" class=\"data row9 col10\" >0</td> \n",
       "        <td id=\"T_e5f4c0b2_7bd4_11e7_ab38_e82aeaf71f48row9_col11\" class=\"data row9 col11\" >1</td> \n",
       "        <td id=\"T_e5f4c0b2_7bd4_11e7_ab38_e82aeaf71f48row9_col12\" class=\"data row9 col12\" >1</td> \n",
       "        <td id=\"T_e5f4c0b2_7bd4_11e7_ab38_e82aeaf71f48row9_col13\" class=\"data row9 col13\" >99</td> \n",
       "        <td id=\"T_e5f4c0b2_7bd4_11e7_ab38_e82aeaf71f48row9_col14\" class=\"data row9 col14\" >0</td> \n",
       "        <td id=\"T_e5f4c0b2_7bd4_11e7_ab38_e82aeaf71f48row9_col15\" class=\"data row9 col15\" >1</td> \n",
       "        <td id=\"T_e5f4c0b2_7bd4_11e7_ab38_e82aeaf71f48row9_col16\" class=\"data row9 col16\" >1</td> \n",
       "        <td id=\"T_e5f4c0b2_7bd4_11e7_ab38_e82aeaf71f48row9_col17\" class=\"data row9 col17\" >0</td> \n",
       "        <td id=\"T_e5f4c0b2_7bd4_11e7_ab38_e82aeaf71f48row9_col18\" class=\"data row9 col18\" >13</td> \n",
       "    </tr>    <tr> \n",
       "        <th id=\"T_e5f4c0b2_7bd4_11e7_ab38_e82aeaf71f48level0_row10\" class=\"row_heading level0 row10\" >Mys</th> \n",
       "        <td id=\"T_e5f4c0b2_7bd4_11e7_ab38_e82aeaf71f48row10_col0\" class=\"data row10 col0\" >13</td> \n",
       "        <td id=\"T_e5f4c0b2_7bd4_11e7_ab38_e82aeaf71f48row10_col1\" class=\"data row10 col1\" >3</td> \n",
       "        <td id=\"T_e5f4c0b2_7bd4_11e7_ab38_e82aeaf71f48row10_col2\" class=\"data row10 col2\" >2</td> \n",
       "        <td id=\"T_e5f4c0b2_7bd4_11e7_ab38_e82aeaf71f48row10_col3\" class=\"data row10 col3\" >4</td> \n",
       "        <td id=\"T_e5f4c0b2_7bd4_11e7_ab38_e82aeaf71f48row10_col4\" class=\"data row10 col4\" >0</td> \n",
       "        <td id=\"T_e5f4c0b2_7bd4_11e7_ab38_e82aeaf71f48row10_col5\" class=\"data row10 col5\" >0</td> \n",
       "        <td id=\"T_e5f4c0b2_7bd4_11e7_ab38_e82aeaf71f48row10_col6\" class=\"data row10 col6\" >2</td> \n",
       "        <td id=\"T_e5f4c0b2_7bd4_11e7_ab38_e82aeaf71f48row10_col7\" class=\"data row10 col7\" >1</td> \n",
       "        <td id=\"T_e5f4c0b2_7bd4_11e7_ab38_e82aeaf71f48row10_col8\" class=\"data row10 col8\" >5</td> \n",
       "        <td id=\"T_e5f4c0b2_7bd4_11e7_ab38_e82aeaf71f48row10_col9\" class=\"data row10 col9\" >0</td> \n",
       "        <td id=\"T_e5f4c0b2_7bd4_11e7_ab38_e82aeaf71f48row10_col10\" class=\"data row10 col10\" >0</td> \n",
       "        <td id=\"T_e5f4c0b2_7bd4_11e7_ab38_e82aeaf71f48row10_col11\" class=\"data row10 col11\" >0</td> \n",
       "        <td id=\"T_e5f4c0b2_7bd4_11e7_ab38_e82aeaf71f48row10_col12\" class=\"data row10 col12\" >0</td> \n",
       "        <td id=\"T_e5f4c0b2_7bd4_11e7_ab38_e82aeaf71f48row10_col13\" class=\"data row10 col13\" >13</td> \n",
       "        <td id=\"T_e5f4c0b2_7bd4_11e7_ab38_e82aeaf71f48row10_col14\" class=\"data row10 col14\" >2</td> \n",
       "        <td id=\"T_e5f4c0b2_7bd4_11e7_ab38_e82aeaf71f48row10_col15\" class=\"data row10 col15\" >0</td> \n",
       "        <td id=\"T_e5f4c0b2_7bd4_11e7_ab38_e82aeaf71f48row10_col16\" class=\"data row10 col16\" >1</td> \n",
       "        <td id=\"T_e5f4c0b2_7bd4_11e7_ab38_e82aeaf71f48row10_col17\" class=\"data row10 col17\" >6</td> \n",
       "        <td id=\"T_e5f4c0b2_7bd4_11e7_ab38_e82aeaf71f48row10_col18\" class=\"data row10 col18\" >1</td> \n",
       "    </tr>    <tr> \n",
       "        <th id=\"T_e5f4c0b2_7bd4_11e7_ab38_e82aeaf71f48level0_row11\" class=\"row_heading level0 row11\" >Par</th> \n",
       "        <td id=\"T_e5f4c0b2_7bd4_11e7_ab38_e82aeaf71f48row11_col0\" class=\"data row11 col0\" >4</td> \n",
       "        <td id=\"T_e5f4c0b2_7bd4_11e7_ab38_e82aeaf71f48row11_col1\" class=\"data row11 col1\" >2</td> \n",
       "        <td id=\"T_e5f4c0b2_7bd4_11e7_ab38_e82aeaf71f48row11_col2\" class=\"data row11 col2\" >0</td> \n",
       "        <td id=\"T_e5f4c0b2_7bd4_11e7_ab38_e82aeaf71f48row11_col3\" class=\"data row11 col3\" >0</td> \n",
       "        <td id=\"T_e5f4c0b2_7bd4_11e7_ab38_e82aeaf71f48row11_col4\" class=\"data row11 col4\" >0</td> \n",
       "        <td id=\"T_e5f4c0b2_7bd4_11e7_ab38_e82aeaf71f48row11_col5\" class=\"data row11 col5\" >0</td> \n",
       "        <td id=\"T_e5f4c0b2_7bd4_11e7_ab38_e82aeaf71f48row11_col6\" class=\"data row11 col6\" >1</td> \n",
       "        <td id=\"T_e5f4c0b2_7bd4_11e7_ab38_e82aeaf71f48row11_col7\" class=\"data row11 col7\" >0</td> \n",
       "        <td id=\"T_e5f4c0b2_7bd4_11e7_ab38_e82aeaf71f48row11_col8\" class=\"data row11 col8\" >19</td> \n",
       "        <td id=\"T_e5f4c0b2_7bd4_11e7_ab38_e82aeaf71f48row11_col9\" class=\"data row11 col9\" >1</td> \n",
       "        <td id=\"T_e5f4c0b2_7bd4_11e7_ab38_e82aeaf71f48row11_col10\" class=\"data row11 col10\" >0</td> \n",
       "        <td id=\"T_e5f4c0b2_7bd4_11e7_ab38_e82aeaf71f48row11_col11\" class=\"data row11 col11\" >0</td> \n",
       "        <td id=\"T_e5f4c0b2_7bd4_11e7_ab38_e82aeaf71f48row11_col12\" class=\"data row11 col12\" >2</td> \n",
       "        <td id=\"T_e5f4c0b2_7bd4_11e7_ab38_e82aeaf71f48row11_col13\" class=\"data row11 col13\" >3</td> \n",
       "        <td id=\"T_e5f4c0b2_7bd4_11e7_ab38_e82aeaf71f48row11_col14\" class=\"data row11 col14\" >0</td> \n",
       "        <td id=\"T_e5f4c0b2_7bd4_11e7_ab38_e82aeaf71f48row11_col15\" class=\"data row11 col15\" >0</td> \n",
       "        <td id=\"T_e5f4c0b2_7bd4_11e7_ab38_e82aeaf71f48row11_col16\" class=\"data row11 col16\" >0</td> \n",
       "        <td id=\"T_e5f4c0b2_7bd4_11e7_ab38_e82aeaf71f48row11_col17\" class=\"data row11 col17\" >0</td> \n",
       "        <td id=\"T_e5f4c0b2_7bd4_11e7_ab38_e82aeaf71f48row11_col18\" class=\"data row11 col18\" >0</td> \n",
       "    </tr>    <tr> \n",
       "        <th id=\"T_e5f4c0b2_7bd4_11e7_ab38_e82aeaf71f48level0_row12\" class=\"row_heading level0 row12\" >Poe</th> \n",
       "        <td id=\"T_e5f4c0b2_7bd4_11e7_ab38_e82aeaf71f48row12_col0\" class=\"data row12 col0\" >0</td> \n",
       "        <td id=\"T_e5f4c0b2_7bd4_11e7_ab38_e82aeaf71f48row12_col1\" class=\"data row12 col1\" >11</td> \n",
       "        <td id=\"T_e5f4c0b2_7bd4_11e7_ab38_e82aeaf71f48row12_col2\" class=\"data row12 col2\" >0</td> \n",
       "        <td id=\"T_e5f4c0b2_7bd4_11e7_ab38_e82aeaf71f48row12_col3\" class=\"data row12 col3\" >5</td> \n",
       "        <td id=\"T_e5f4c0b2_7bd4_11e7_ab38_e82aeaf71f48row12_col4\" class=\"data row12 col4\" >1</td> \n",
       "        <td id=\"T_e5f4c0b2_7bd4_11e7_ab38_e82aeaf71f48row12_col5\" class=\"data row12 col5\" >0</td> \n",
       "        <td id=\"T_e5f4c0b2_7bd4_11e7_ab38_e82aeaf71f48row12_col6\" class=\"data row12 col6\" >0</td> \n",
       "        <td id=\"T_e5f4c0b2_7bd4_11e7_ab38_e82aeaf71f48row12_col7\" class=\"data row12 col7\" >2</td> \n",
       "        <td id=\"T_e5f4c0b2_7bd4_11e7_ab38_e82aeaf71f48row12_col8\" class=\"data row12 col8\" >1</td> \n",
       "        <td id=\"T_e5f4c0b2_7bd4_11e7_ab38_e82aeaf71f48row12_col9\" class=\"data row12 col9\" >1</td> \n",
       "        <td id=\"T_e5f4c0b2_7bd4_11e7_ab38_e82aeaf71f48row12_col10\" class=\"data row12 col10\" >0</td> \n",
       "        <td id=\"T_e5f4c0b2_7bd4_11e7_ab38_e82aeaf71f48row12_col11\" class=\"data row12 col11\" >2</td> \n",
       "        <td id=\"T_e5f4c0b2_7bd4_11e7_ab38_e82aeaf71f48row12_col12\" class=\"data row12 col12\" >0</td> \n",
       "        <td id=\"T_e5f4c0b2_7bd4_11e7_ab38_e82aeaf71f48row12_col13\" class=\"data row12 col13\" >10</td> \n",
       "        <td id=\"T_e5f4c0b2_7bd4_11e7_ab38_e82aeaf71f48row12_col14\" class=\"data row12 col14\" >1</td> \n",
       "        <td id=\"T_e5f4c0b2_7bd4_11e7_ab38_e82aeaf71f48row12_col15\" class=\"data row12 col15\" >0</td> \n",
       "        <td id=\"T_e5f4c0b2_7bd4_11e7_ab38_e82aeaf71f48row12_col16\" class=\"data row12 col16\" >1</td> \n",
       "        <td id=\"T_e5f4c0b2_7bd4_11e7_ab38_e82aeaf71f48row12_col17\" class=\"data row12 col17\" >0</td> \n",
       "        <td id=\"T_e5f4c0b2_7bd4_11e7_ab38_e82aeaf71f48row12_col18\" class=\"data row12 col18\" >3</td> \n",
       "    </tr>    <tr> \n",
       "        <th id=\"T_e5f4c0b2_7bd4_11e7_ab38_e82aeaf71f48level0_row13\" class=\"row_heading level0 row13\" >Rom</th> \n",
       "        <td id=\"T_e5f4c0b2_7bd4_11e7_ab38_e82aeaf71f48row13_col0\" class=\"data row13 col0\" >132</td> \n",
       "        <td id=\"T_e5f4c0b2_7bd4_11e7_ab38_e82aeaf71f48row13_col1\" class=\"data row13 col1\" >118</td> \n",
       "        <td id=\"T_e5f4c0b2_7bd4_11e7_ab38_e82aeaf71f48row13_col2\" class=\"data row13 col2\" >5</td> \n",
       "        <td id=\"T_e5f4c0b2_7bd4_11e7_ab38_e82aeaf71f48row13_col3\" class=\"data row13 col3\" >232</td> \n",
       "        <td id=\"T_e5f4c0b2_7bd4_11e7_ab38_e82aeaf71f48row13_col4\" class=\"data row13 col4\" >51</td> \n",
       "        <td id=\"T_e5f4c0b2_7bd4_11e7_ab38_e82aeaf71f48row13_col5\" class=\"data row13 col5\" >21</td> \n",
       "        <td id=\"T_e5f4c0b2_7bd4_11e7_ab38_e82aeaf71f48row13_col6\" class=\"data row13 col6\" >93</td> \n",
       "        <td id=\"T_e5f4c0b2_7bd4_11e7_ab38_e82aeaf71f48row13_col7\" class=\"data row13 col7\" >11</td> \n",
       "        <td id=\"T_e5f4c0b2_7bd4_11e7_ab38_e82aeaf71f48row13_col8\" class=\"data row13 col8\" >241</td> \n",
       "        <td id=\"T_e5f4c0b2_7bd4_11e7_ab38_e82aeaf71f48row13_col9\" class=\"data row13 col9\" >99</td> \n",
       "        <td id=\"T_e5f4c0b2_7bd4_11e7_ab38_e82aeaf71f48row13_col10\" class=\"data row13 col10\" >13</td> \n",
       "        <td id=\"T_e5f4c0b2_7bd4_11e7_ab38_e82aeaf71f48row13_col11\" class=\"data row13 col11\" >3</td> \n",
       "        <td id=\"T_e5f4c0b2_7bd4_11e7_ab38_e82aeaf71f48row13_col12\" class=\"data row13 col12\" >10</td> \n",
       "        <td id=\"T_e5f4c0b2_7bd4_11e7_ab38_e82aeaf71f48row13_col13\" class=\"data row13 col13\" >6</td> \n",
       "        <td id=\"T_e5f4c0b2_7bd4_11e7_ab38_e82aeaf71f48row13_col14\" class=\"data row13 col14\" >8</td> \n",
       "        <td id=\"T_e5f4c0b2_7bd4_11e7_ab38_e82aeaf71f48row13_col15\" class=\"data row13 col15\" >5</td> \n",
       "        <td id=\"T_e5f4c0b2_7bd4_11e7_ab38_e82aeaf71f48row13_col16\" class=\"data row13 col16\" >24</td> \n",
       "        <td id=\"T_e5f4c0b2_7bd4_11e7_ab38_e82aeaf71f48row13_col17\" class=\"data row13 col17\" >9</td> \n",
       "        <td id=\"T_e5f4c0b2_7bd4_11e7_ab38_e82aeaf71f48row13_col18\" class=\"data row13 col18\" >17</td> \n",
       "    </tr>    <tr> \n",
       "        <th id=\"T_e5f4c0b2_7bd4_11e7_ab38_e82aeaf71f48level0_row14\" class=\"row_heading level0 row14\" >Sci</th> \n",
       "        <td id=\"T_e5f4c0b2_7bd4_11e7_ab38_e82aeaf71f48row14_col0\" class=\"data row14 col0\" >13</td> \n",
       "        <td id=\"T_e5f4c0b2_7bd4_11e7_ab38_e82aeaf71f48row14_col1\" class=\"data row14 col1\" >1</td> \n",
       "        <td id=\"T_e5f4c0b2_7bd4_11e7_ab38_e82aeaf71f48row14_col2\" class=\"data row14 col2\" >1</td> \n",
       "        <td id=\"T_e5f4c0b2_7bd4_11e7_ab38_e82aeaf71f48row14_col3\" class=\"data row14 col3\" >4</td> \n",
       "        <td id=\"T_e5f4c0b2_7bd4_11e7_ab38_e82aeaf71f48row14_col4\" class=\"data row14 col4\" >2</td> \n",
       "        <td id=\"T_e5f4c0b2_7bd4_11e7_ab38_e82aeaf71f48row14_col5\" class=\"data row14 col5\" >4</td> \n",
       "        <td id=\"T_e5f4c0b2_7bd4_11e7_ab38_e82aeaf71f48row14_col6\" class=\"data row14 col6\" >3</td> \n",
       "        <td id=\"T_e5f4c0b2_7bd4_11e7_ab38_e82aeaf71f48row14_col7\" class=\"data row14 col7\" >1</td> \n",
       "        <td id=\"T_e5f4c0b2_7bd4_11e7_ab38_e82aeaf71f48row14_col8\" class=\"data row14 col8\" >5</td> \n",
       "        <td id=\"T_e5f4c0b2_7bd4_11e7_ab38_e82aeaf71f48row14_col9\" class=\"data row14 col9\" >0</td> \n",
       "        <td id=\"T_e5f4c0b2_7bd4_11e7_ab38_e82aeaf71f48row14_col10\" class=\"data row14 col10\" >2</td> \n",
       "        <td id=\"T_e5f4c0b2_7bd4_11e7_ab38_e82aeaf71f48row14_col11\" class=\"data row14 col11\" >0</td> \n",
       "        <td id=\"T_e5f4c0b2_7bd4_11e7_ab38_e82aeaf71f48row14_col12\" class=\"data row14 col12\" >1</td> \n",
       "        <td id=\"T_e5f4c0b2_7bd4_11e7_ab38_e82aeaf71f48row14_col13\" class=\"data row14 col13\" >8</td> \n",
       "        <td id=\"T_e5f4c0b2_7bd4_11e7_ab38_e82aeaf71f48row14_col14\" class=\"data row14 col14\" >0</td> \n",
       "        <td id=\"T_e5f4c0b2_7bd4_11e7_ab38_e82aeaf71f48row14_col15\" class=\"data row14 col15\" >0</td> \n",
       "        <td id=\"T_e5f4c0b2_7bd4_11e7_ab38_e82aeaf71f48row14_col16\" class=\"data row14 col16\" >3</td> \n",
       "        <td id=\"T_e5f4c0b2_7bd4_11e7_ab38_e82aeaf71f48row14_col17\" class=\"data row14 col17\" >2</td> \n",
       "        <td id=\"T_e5f4c0b2_7bd4_11e7_ab38_e82aeaf71f48row14_col18\" class=\"data row14 col18\" >0</td> \n",
       "    </tr>    <tr> \n",
       "        <th id=\"T_e5f4c0b2_7bd4_11e7_ab38_e82aeaf71f48level0_row15\" class=\"row_heading level0 row15\" >Spi</th> \n",
       "        <td id=\"T_e5f4c0b2_7bd4_11e7_ab38_e82aeaf71f48row15_col0\" class=\"data row15 col0\" >1</td> \n",
       "        <td id=\"T_e5f4c0b2_7bd4_11e7_ab38_e82aeaf71f48row15_col1\" class=\"data row15 col1\" >0</td> \n",
       "        <td id=\"T_e5f4c0b2_7bd4_11e7_ab38_e82aeaf71f48row15_col2\" class=\"data row15 col2\" >0</td> \n",
       "        <td id=\"T_e5f4c0b2_7bd4_11e7_ab38_e82aeaf71f48row15_col3\" class=\"data row15 col3\" >2</td> \n",
       "        <td id=\"T_e5f4c0b2_7bd4_11e7_ab38_e82aeaf71f48row15_col4\" class=\"data row15 col4\" >0</td> \n",
       "        <td id=\"T_e5f4c0b2_7bd4_11e7_ab38_e82aeaf71f48row15_col5\" class=\"data row15 col5\" >2</td> \n",
       "        <td id=\"T_e5f4c0b2_7bd4_11e7_ab38_e82aeaf71f48row15_col6\" class=\"data row15 col6\" >2</td> \n",
       "        <td id=\"T_e5f4c0b2_7bd4_11e7_ab38_e82aeaf71f48row15_col7\" class=\"data row15 col7\" >1</td> \n",
       "        <td id=\"T_e5f4c0b2_7bd4_11e7_ab38_e82aeaf71f48row15_col8\" class=\"data row15 col8\" >0</td> \n",
       "        <td id=\"T_e5f4c0b2_7bd4_11e7_ab38_e82aeaf71f48row15_col9\" class=\"data row15 col9\" >1</td> \n",
       "        <td id=\"T_e5f4c0b2_7bd4_11e7_ab38_e82aeaf71f48row15_col10\" class=\"data row15 col10\" >0</td> \n",
       "        <td id=\"T_e5f4c0b2_7bd4_11e7_ab38_e82aeaf71f48row15_col11\" class=\"data row15 col11\" >0</td> \n",
       "        <td id=\"T_e5f4c0b2_7bd4_11e7_ab38_e82aeaf71f48row15_col12\" class=\"data row15 col12\" >0</td> \n",
       "        <td id=\"T_e5f4c0b2_7bd4_11e7_ab38_e82aeaf71f48row15_col13\" class=\"data row15 col13\" >5</td> \n",
       "        <td id=\"T_e5f4c0b2_7bd4_11e7_ab38_e82aeaf71f48row15_col14\" class=\"data row15 col14\" >0</td> \n",
       "        <td id=\"T_e5f4c0b2_7bd4_11e7_ab38_e82aeaf71f48row15_col15\" class=\"data row15 col15\" >0</td> \n",
       "        <td id=\"T_e5f4c0b2_7bd4_11e7_ab38_e82aeaf71f48row15_col16\" class=\"data row15 col16\" >0</td> \n",
       "        <td id=\"T_e5f4c0b2_7bd4_11e7_ab38_e82aeaf71f48row15_col17\" class=\"data row15 col17\" >0</td> \n",
       "        <td id=\"T_e5f4c0b2_7bd4_11e7_ab38_e82aeaf71f48row15_col18\" class=\"data row15 col18\" >0</td> \n",
       "    </tr>    <tr> \n",
       "        <th id=\"T_e5f4c0b2_7bd4_11e7_ab38_e82aeaf71f48level0_row16\" class=\"row_heading level0 row16\" >Sup</th> \n",
       "        <td id=\"T_e5f4c0b2_7bd4_11e7_ab38_e82aeaf71f48row16_col0\" class=\"data row16 col0\" >8</td> \n",
       "        <td id=\"T_e5f4c0b2_7bd4_11e7_ab38_e82aeaf71f48row16_col1\" class=\"data row16 col1\" >2</td> \n",
       "        <td id=\"T_e5f4c0b2_7bd4_11e7_ab38_e82aeaf71f48row16_col2\" class=\"data row16 col2\" >0</td> \n",
       "        <td id=\"T_e5f4c0b2_7bd4_11e7_ab38_e82aeaf71f48row16_col3\" class=\"data row16 col3\" >6</td> \n",
       "        <td id=\"T_e5f4c0b2_7bd4_11e7_ab38_e82aeaf71f48row16_col4\" class=\"data row16 col4\" >2</td> \n",
       "        <td id=\"T_e5f4c0b2_7bd4_11e7_ab38_e82aeaf71f48row16_col5\" class=\"data row16 col5\" >3</td> \n",
       "        <td id=\"T_e5f4c0b2_7bd4_11e7_ab38_e82aeaf71f48row16_col6\" class=\"data row16 col6\" >3</td> \n",
       "        <td id=\"T_e5f4c0b2_7bd4_11e7_ab38_e82aeaf71f48row16_col7\" class=\"data row16 col7\" >6</td> \n",
       "        <td id=\"T_e5f4c0b2_7bd4_11e7_ab38_e82aeaf71f48row16_col8\" class=\"data row16 col8\" >9</td> \n",
       "        <td id=\"T_e5f4c0b2_7bd4_11e7_ab38_e82aeaf71f48row16_col9\" class=\"data row16 col9\" >1</td> \n",
       "        <td id=\"T_e5f4c0b2_7bd4_11e7_ab38_e82aeaf71f48row16_col10\" class=\"data row16 col10\" >1</td> \n",
       "        <td id=\"T_e5f4c0b2_7bd4_11e7_ab38_e82aeaf71f48row16_col11\" class=\"data row16 col11\" >0</td> \n",
       "        <td id=\"T_e5f4c0b2_7bd4_11e7_ab38_e82aeaf71f48row16_col12\" class=\"data row16 col12\" >1</td> \n",
       "        <td id=\"T_e5f4c0b2_7bd4_11e7_ab38_e82aeaf71f48row16_col13\" class=\"data row16 col13\" >24</td> \n",
       "        <td id=\"T_e5f4c0b2_7bd4_11e7_ab38_e82aeaf71f48row16_col14\" class=\"data row16 col14\" >3</td> \n",
       "        <td id=\"T_e5f4c0b2_7bd4_11e7_ab38_e82aeaf71f48row16_col15\" class=\"data row16 col15\" >0</td> \n",
       "        <td id=\"T_e5f4c0b2_7bd4_11e7_ab38_e82aeaf71f48row16_col16\" class=\"data row16 col16\" >0</td> \n",
       "        <td id=\"T_e5f4c0b2_7bd4_11e7_ab38_e82aeaf71f48row16_col17\" class=\"data row16 col17\" >2</td> \n",
       "        <td id=\"T_e5f4c0b2_7bd4_11e7_ab38_e82aeaf71f48row16_col18\" class=\"data row16 col18\" >0</td> \n",
       "    </tr>    <tr> \n",
       "        <th id=\"T_e5f4c0b2_7bd4_11e7_ab38_e82aeaf71f48level0_row17\" class=\"row_heading level0 row17\" >Sus</th> \n",
       "        <td id=\"T_e5f4c0b2_7bd4_11e7_ab38_e82aeaf71f48row17_col0\" class=\"data row17 col0\" >15</td> \n",
       "        <td id=\"T_e5f4c0b2_7bd4_11e7_ab38_e82aeaf71f48row17_col1\" class=\"data row17 col1\" >1</td> \n",
       "        <td id=\"T_e5f4c0b2_7bd4_11e7_ab38_e82aeaf71f48row17_col2\" class=\"data row17 col2\" >0</td> \n",
       "        <td id=\"T_e5f4c0b2_7bd4_11e7_ab38_e82aeaf71f48row17_col3\" class=\"data row17 col3\" >4</td> \n",
       "        <td id=\"T_e5f4c0b2_7bd4_11e7_ab38_e82aeaf71f48row17_col4\" class=\"data row17 col4\" >1</td> \n",
       "        <td id=\"T_e5f4c0b2_7bd4_11e7_ab38_e82aeaf71f48row17_col5\" class=\"data row17 col5\" >2</td> \n",
       "        <td id=\"T_e5f4c0b2_7bd4_11e7_ab38_e82aeaf71f48row17_col6\" class=\"data row17 col6\" >1</td> \n",
       "        <td id=\"T_e5f4c0b2_7bd4_11e7_ab38_e82aeaf71f48row17_col7\" class=\"data row17 col7\" >4</td> \n",
       "        <td id=\"T_e5f4c0b2_7bd4_11e7_ab38_e82aeaf71f48row17_col8\" class=\"data row17 col8\" >1</td> \n",
       "        <td id=\"T_e5f4c0b2_7bd4_11e7_ab38_e82aeaf71f48row17_col9\" class=\"data row17 col9\" >0</td> \n",
       "        <td id=\"T_e5f4c0b2_7bd4_11e7_ab38_e82aeaf71f48row17_col10\" class=\"data row17 col10\" >6</td> \n",
       "        <td id=\"T_e5f4c0b2_7bd4_11e7_ab38_e82aeaf71f48row17_col11\" class=\"data row17 col11\" >0</td> \n",
       "        <td id=\"T_e5f4c0b2_7bd4_11e7_ab38_e82aeaf71f48row17_col12\" class=\"data row17 col12\" >0</td> \n",
       "        <td id=\"T_e5f4c0b2_7bd4_11e7_ab38_e82aeaf71f48row17_col13\" class=\"data row17 col13\" >9</td> \n",
       "        <td id=\"T_e5f4c0b2_7bd4_11e7_ab38_e82aeaf71f48row17_col14\" class=\"data row17 col14\" >2</td> \n",
       "        <td id=\"T_e5f4c0b2_7bd4_11e7_ab38_e82aeaf71f48row17_col15\" class=\"data row17 col15\" >0</td> \n",
       "        <td id=\"T_e5f4c0b2_7bd4_11e7_ab38_e82aeaf71f48row17_col16\" class=\"data row17 col16\" >2</td> \n",
       "        <td id=\"T_e5f4c0b2_7bd4_11e7_ab38_e82aeaf71f48row17_col17\" class=\"data row17 col17\" >0</td> \n",
       "        <td id=\"T_e5f4c0b2_7bd4_11e7_ab38_e82aeaf71f48row17_col18\" class=\"data row17 col18\" >6</td> \n",
       "    </tr>    <tr> \n",
       "        <th id=\"T_e5f4c0b2_7bd4_11e7_ab38_e82aeaf71f48level0_row18\" class=\"row_heading level0 row18\" >Tra</th> \n",
       "        <td id=\"T_e5f4c0b2_7bd4_11e7_ab38_e82aeaf71f48row18_col0\" class=\"data row18 col0\" >3</td> \n",
       "        <td id=\"T_e5f4c0b2_7bd4_11e7_ab38_e82aeaf71f48row18_col1\" class=\"data row18 col1\" >18</td> \n",
       "        <td id=\"T_e5f4c0b2_7bd4_11e7_ab38_e82aeaf71f48row18_col2\" class=\"data row18 col2\" >2</td> \n",
       "        <td id=\"T_e5f4c0b2_7bd4_11e7_ab38_e82aeaf71f48row18_col3\" class=\"data row18 col3\" >15</td> \n",
       "        <td id=\"T_e5f4c0b2_7bd4_11e7_ab38_e82aeaf71f48row18_col4\" class=\"data row18 col4\" >3</td> \n",
       "        <td id=\"T_e5f4c0b2_7bd4_11e7_ab38_e82aeaf71f48row18_col5\" class=\"data row18 col5\" >1</td> \n",
       "        <td id=\"T_e5f4c0b2_7bd4_11e7_ab38_e82aeaf71f48row18_col6\" class=\"data row18 col6\" >2</td> \n",
       "        <td id=\"T_e5f4c0b2_7bd4_11e7_ab38_e82aeaf71f48row18_col7\" class=\"data row18 col7\" >2</td> \n",
       "        <td id=\"T_e5f4c0b2_7bd4_11e7_ab38_e82aeaf71f48row18_col8\" class=\"data row18 col8\" >2</td> \n",
       "        <td id=\"T_e5f4c0b2_7bd4_11e7_ab38_e82aeaf71f48row18_col9\" class=\"data row18 col9\" >13</td> \n",
       "        <td id=\"T_e5f4c0b2_7bd4_11e7_ab38_e82aeaf71f48row18_col10\" class=\"data row18 col10\" >1</td> \n",
       "        <td id=\"T_e5f4c0b2_7bd4_11e7_ab38_e82aeaf71f48row18_col11\" class=\"data row18 col11\" >0</td> \n",
       "        <td id=\"T_e5f4c0b2_7bd4_11e7_ab38_e82aeaf71f48row18_col12\" class=\"data row18 col12\" >3</td> \n",
       "        <td id=\"T_e5f4c0b2_7bd4_11e7_ab38_e82aeaf71f48row18_col13\" class=\"data row18 col13\" >17</td> \n",
       "        <td id=\"T_e5f4c0b2_7bd4_11e7_ab38_e82aeaf71f48row18_col14\" class=\"data row18 col14\" >0</td> \n",
       "        <td id=\"T_e5f4c0b2_7bd4_11e7_ab38_e82aeaf71f48row18_col15\" class=\"data row18 col15\" >0</td> \n",
       "        <td id=\"T_e5f4c0b2_7bd4_11e7_ab38_e82aeaf71f48row18_col16\" class=\"data row18 col16\" >0</td> \n",
       "        <td id=\"T_e5f4c0b2_7bd4_11e7_ab38_e82aeaf71f48row18_col17\" class=\"data row18 col17\" >6</td> \n",
       "        <td id=\"T_e5f4c0b2_7bd4_11e7_ab38_e82aeaf71f48row18_col18\" class=\"data row18 col18\" >0</td> \n",
       "    </tr></tbody> \n",
       "</table> "
      ],
      "text/plain": [
       "<pandas.io.formats.style.Styler at 0x786699788c50>"
      ]
     },
     "execution_count": 10,
     "metadata": {},
     "output_type": "execute_result"
    }
   ],
   "source": [
    "# creates contingency table\n",
    "gen_pairs = df_online.loc[[len(row) > 1 for row in df_online.genre], 'genre']\n",
    "gen1 = pd.Series([row[0][:3] for row in gen_pairs] + [row[1][:3] for row in gen_pairs])\n",
    "gen2 = pd.Series([row[1][:3] for row in gen_pairs] + [row[0][:3] for row in gen_pairs])\n",
    "cross = pd.crosstab(index=gen1, columns=gen2)\n",
    "\n",
    "# plots table\n",
    "cm = sns.light_palette('green', as_cmap=True)\n",
    "cross.style.background_gradient(cmap=cm)"
   ]
  },
  {
   "cell_type": "markdown",
   "metadata": {},
   "source": [
    "In terms of how genres cross, romance appears to pair well with everything. Angst pairs with drama and hurt/comfort. Humor and parody go hand in hand."
   ]
  },
  {
   "cell_type": "code",
   "execution_count": 20,
   "metadata": {},
   "outputs": [
    {
     "data": {
      "image/png": "[encoded data removed]",
      "text/plain": [
       "<matplotlib.figure.Figure at 0x786699b56b70>"
      ]
     },
     "metadata": {},
     "output_type": "display_data"
    }
   ],
   "source": [
    "# examines distribution of multigenres\n",
    "genres_multi = ['/'.join(sorted(row)) for row in df_online['genre'] if len(row) > 1]\n",
    "genres_multi = pd.Series(genres_multi).value_counts()\n",
    "\n",
    "# plots chart\n",
    "(genres_multi[:10]/np.sum(genres_multi)).plot.bar()\n",
    "plt.xticks(rotation=90)\n",
    "plt.show()"
   ]
  },
  {
   "cell_type": "markdown",
   "metadata": {},
   "source": [
    "### Ratings"
   ]
  },
  {
   "cell_type": "code",
   "execution_count": 8,
   "metadata": {},
   "outputs": [
    {
     "data": {
      "image/png": "[encoded data removed]",
      "text/plain": [
       "<matplotlib.figure.Figure at 0x7f55b087c9b0>"
      ]
     },
     "metadata": {},
     "output_type": "display_data"
    }
   ],
   "source": [
    "# examines state of stories\n",
    "rated = df_online['rated'].value_counts()\n",
    "rated.plot.pie(autopct='%.f', figsize=(5,5))\n",
    "\n",
    "plt.show()"
   ]
  },
  {
   "cell_type": "markdown",
   "metadata": {},
   "source": [
    "## Media and fandoms"
   ]
  },
  {
   "cell_type": "code",
   "execution_count": 9,
   "metadata": {},
   "outputs": [
    {
     "data": {
      "image/png": "[encoded data removed]",
      "text/plain": [
       "<matplotlib.figure.Figure at 0x7f5580e518d0>"
      ]
     },
     "metadata": {},
     "output_type": "display_data"
    }
   ],
   "source": [
    "# examines distribution of media\n",
    "media = df_online['media'].value_counts()\n",
    "(media/np.sum(media)).plot.bar()\n",
    "plt.xticks(rotation=90)\n",
    "\n",
    "plt.show()"
   ]
  },
  {
   "cell_type": "markdown",
   "metadata": {},
   "source": [
    "Anime/Manga is the most popular media."
   ]
  },
  {
   "cell_type": "code",
   "execution_count": 10,
   "metadata": {},
   "outputs": [
    {
     "data": {
      "image/png": "[encoded data removed]",
      "text/plain": [
       "<matplotlib.figure.Figure at 0x7f5580dea048>"
      ]
     },
     "metadata": {},
     "output_type": "display_data"
    }
   ],
   "source": [
    "# examines distribution of media\n",
    "fandom = df_online['fandom'].value_counts()\n",
    "(fandom[:10]/np.sum(fandom)).plot.bar()\n",
    "plt.xticks(rotation=90)\n",
    "\n",
    "plt.show()"
   ]
  },
  {
   "cell_type": "markdown",
   "metadata": {},
   "source": [
    "The most popular fandom is, unsurprisingly, Harry Potter. However, it still consitutes a much smaller portion of the fanfiction base than initially assumed, at ~8%."
   ]
  },
  {
   "cell_type": "markdown",
   "metadata": {},
   "source": [
    "One question we would like to address is what fandoms contributed to the increases in stories over time. However, we will return to that later once we have collected a larger sample size."
   ]
  },
  {
   "cell_type": "markdown",
   "metadata": {},
   "source": [
    "## Chapter length and completion status"
   ]
  },
  {
   "cell_type": "code",
   "execution_count": 11,
   "metadata": {},
   "outputs": [
    {
     "data": {
      "image/png": "[encoded data removed]",
      "text/plain": [
       "<matplotlib.figure.Figure at 0x7f5580f357f0>"
      ]
     },
     "metadata": {},
     "output_type": "display_data"
    }
   ],
   "source": [
    "# examines distribution of number of chapters\n",
    "df_online['chapters'] = df_online['chapters'].fillna(1)\n",
    "df_online['chapters'].plot.hist()\n",
    "\n",
    "plt.show()"
   ]
  },
  {
   "cell_type": "code",
   "execution_count": 12,
   "metadata": {
    "scrolled": true
   },
   "outputs": [
    {
     "data": {
      "image/png": "[encoded data removed]",
      "text/plain": [
       "<matplotlib.figure.Figure at 0x7f5580fa6198>"
      ]
     },
     "metadata": {},
     "output_type": "display_data"
    }
   ],
   "source": [
    "# examines distribution of story status\n",
    "status = df_online['status'].value_counts()\n",
    "status.plot.pie(autopct='%.f', figsize=(5,5))\n",
    "\n",
    "plt.show()"
   ]
  },
  {
   "cell_type": "markdown",
   "metadata": {},
   "source": [
    "It's about an even split between completed and incompleted stories."
   ]
  },
  {
   "cell_type": "code",
   "execution_count": 13,
   "metadata": {},
   "outputs": [
    {
     "data": {
      "image/png": "[encoded data removed]",
      "text/plain": [
       "<matplotlib.figure.Figure at 0x7f5580e5e8d0>"
      ]
     },
     "metadata": {},
     "output_type": "display_data"
    }
   ],
   "source": [
    "complete = df_online.loc[df_online.status == 'Complete', 'chapters']\n",
    "incomplete = df_online.loc[df_online.status == 'Incomplete', 'chapters']\n",
    "\n",
    "plt.hist([complete, incomplete], range=[1,10])\n",
    "\n",
    "plt.show()"
   ]
  },
  {
   "cell_type": "markdown",
   "metadata": {},
   "source": [
    "Oneshots explain the large proportion of completed stories."
   ]
  },
  {
   "cell_type": "markdown",
   "metadata": {},
   "source": [
    "## Publication timing"
   ]
  },
  {
   "cell_type": "code",
   "execution_count": 96,
   "metadata": {},
   "outputs": [
    {
     "data": {
      "image/png": "[encoded data removed]",
      "text/plain": [
       "<matplotlib.figure.Figure at 0x7f5580d8d630>"
      ]
     },
     "metadata": {},
     "output_type": "display_data"
    }
   ],
   "source": [
    "# examines when stories first created\n",
    "df_online['pub_month'] = [months[int(row[0])] for row in df_online['published']]\n",
    "month = df_online['pub_month'].value_counts()\n",
    "month.plot.bar()\n",
    "plt.xticks(rotation=90)\n",
    "\n",
    "plt.show()"
   ]
  },
  {
   "cell_type": "code",
   "execution_count": 104,
   "metadata": {},
   "outputs": [
    {
     "data": {
      "image/png": "[encoded data removed]",
      "text/plain": [
       "<matplotlib.figure.Figure at 0x7f5580e2f8d0>"
      ]
     },
     "metadata": {},
     "output_type": "display_data"
    }
   ],
   "source": [
    "# examines when stories first created\n",
    "upd_month = [months[int(row[0])] for row in df_online['updated'] if row != 'NA']\n",
    "upd_month = pd.Series(upd_month).value_counts()\n",
    "upd_month.plot.bar()\n",
    "plt.xticks(rotation=90)\n",
    "\n",
    "plt.show()"
   ]
  },
  {
   "cell_type": "code",
   "execution_count": 110,
   "metadata": {},
   "outputs": [
    {
     "data": {
      "image/png": "[encoded data removed]",
      "text/plain": [
       "<matplotlib.figure.Figure at 0x7f5580eefb00>"
      ]
     },
     "metadata": {},
     "output_type": "display_data"
    }
   ],
   "source": [
    "# examines when stories first created\n",
    "dayofweek = [days[datetime.date(int(row[2]), int(row[0]), int(row[1])).weekday()] \n",
    "             for row in df_online['published']]\n",
    "dayofweek = pd.Series(dayofweek).value_counts()\n",
    "dayofweek.plot.bar()\n",
    "plt.xticks(rotation=90)\n",
    "\n",
    "plt.show()"
   ]
  },
  {
   "cell_type": "code",
   "execution_count": 111,
   "metadata": {},
   "outputs": [
    {
     "data": {
      "image/png": "[encoded data removed]",
      "text/plain": [
       "<matplotlib.figure.Figure at 0x7f5580225080>"
      ]
     },
     "metadata": {},
     "output_type": "display_data"
    }
   ],
   "source": [
    "# examines when stories first created\n",
    "dayofweek = [days[datetime.date(int(row[2]), int(row[0]), int(row[1])).weekday()] \n",
    "             for row in df_online['updated'] if row != 'NA']\n",
    "dayofweek = pd.Series(dayofweek).value_counts()\n",
    "dayofweek.plot.bar()\n",
    "plt.xticks(rotation=90)\n",
    "\n",
    "plt.show()"
   ]
  },
  {
   "cell_type": "code",
   "execution_count": 109,
   "metadata": {
    "collapsed": true
   },
   "outputs": [],
   "source": [
    "days = ['Monday', 'Tuesday', 'Wednesday', 'Thursday', 'Friday', 'Saturday', 'Sunday']\n",
    "months = ['NA', 'January', 'February', 'March', 'April', 'May', 'June', 'July', \n",
    "          'August', 'Septemeber', 'October', 'November', 'December']"
   ]
  },
  {
   "cell_type": "markdown",
   "metadata": {},
   "source": [
    "# Regression Analysis\n",
    "\n",
    "In this section, we will try to predict the number of stories an (active) user would write based off the number of years have they been on the site, the number of authors/stories they have favorited, and whether or not they are in a community."
   ]
  },
  {
   "cell_type": "code",
   "execution_count": 14,
   "metadata": {},
   "outputs": [
    {
     "data": {
      "text/plain": [
       "array(['storyid', 'userid', 'title', 'summary', 'media', 'fandom', 'rated',\n",
       "       'language', 'genre', 'characters', 'chapters', 'words', 'reviews',\n",
       "       'favs', 'follows', 'updated', 'published', 'status', 'state',\n",
       "       'pub_year'], dtype=object)"
      ]
     },
     "execution_count": 14,
     "metadata": {},
     "output_type": "execute_result"
    }
   ],
   "source": [
    "df_online.columns.values"
   ]
  },
  {
   "cell_type": "code",
   "execution_count": 15,
   "metadata": {
    "collapsed": true
   },
   "outputs": [],
   "source": [
    "df_online['ratedM'] = [row == 'M' for row in df_online['rated']]"
   ]
  },
  {
   "cell_type": "code",
   "execution_count": 87,
   "metadata": {
    "collapsed": true
   },
   "outputs": [],
   "source": [
    "df_online['fansize'] = [fandom[row] for row in df_online['fandom']]"
   ]
  },
  {
   "cell_type": "code",
   "execution_count": 115,
   "metadata": {
    "collapsed": true
   },
   "outputs": [],
   "source": [
    "df_online['words1k'] = df_online['words']/1000"
   ]
  },
  {
   "cell_type": "code",
   "execution_count": 30,
   "metadata": {
    "collapsed": true
   },
   "outputs": [],
   "source": [
    "df_online['age'] = [cyear - int(row) for row in df_online['pub_year']]"
   ]
  },
  {
   "cell_type": "code",
   "execution_count": 132,
   "metadata": {},
   "outputs": [
    {
     "name": "stdout",
     "output_type": "stream",
     "text": [
      "                            OLS Regression Results                            \n",
      "==============================================================================\n",
      "Dep. Variable:                reviews   R-squared:                       0.521\n",
      "Model:                            OLS   Adj. R-squared:                  0.516\n",
      "Method:                 Least Squares   F-statistic:                     115.5\n",
      "Date:                Mon, 07 Aug 2017   Prob (F-statistic):           1.67e-82\n",
      "Time:                        13:15:03   Log-Likelihood:                -2857.5\n",
      "No. Observations:                 537   AIC:                             5727.\n",
      "Df Residuals:                     531   BIC:                             5753.\n",
      "Df Model:                           5                                         \n",
      "Covariance Type:            nonrobust                                         \n",
      "==================================================================================\n",
      "                     coef    std err          t      P>|t|      [0.025      0.975]\n",
      "----------------------------------------------------------------------------------\n",
      "Intercept         -9.7252      4.480     -2.171      0.030     -18.526      -0.925\n",
      "ratedM[T.True]    22.0539      5.676      3.886      0.000      10.904      33.203\n",
      "chapters           3.9536      0.418      9.465      0.000       3.133       4.774\n",
      "words1k            0.8936      0.127      7.035      0.000       0.644       1.143\n",
      "age                0.6714      0.516      1.300      0.194      -0.343       1.686\n",
      "fansize            0.0974      0.155      0.628      0.530      -0.207       0.402\n",
      "==============================================================================\n",
      "Omnibus:                      425.669   Durbin-Watson:                   1.928\n",
      "Prob(Omnibus):                  0.000   Jarque-Bera (JB):            17911.907\n",
      "Skew:                           3.047   Prob(JB):                         0.00\n",
      "Kurtosis:                      30.629   Cond. No.                         79.8\n",
      "==============================================================================\n",
      "\n",
      "Warnings:\n",
      "[1] Standard Errors assume that the covariance matrix of the errors is correctly specified.\n"
     ]
    }
   ],
   "source": [
    "# runs OLS regression\n",
    "formula = 'reviews ~ chapters + words1k + ratedM + age + fansize'\n",
    "reg = smf.ols(data=df_online, formula=formula).fit()\n",
    "print(reg.summary())"
   ]
  },
  {
   "cell_type": "code",
   "execution_count": 133,
   "metadata": {},
   "outputs": [
    {
     "name": "stdout",
     "output_type": "stream",
     "text": [
      "                            OLS Regression Results                            \n",
      "==============================================================================\n",
      "Dep. Variable:                 lnfavs   R-squared:                       0.299\n",
      "Model:                            OLS   Adj. R-squared:                  0.292\n",
      "Method:                 Least Squares   F-statistic:                     42.66\n",
      "Date:                Mon, 07 Aug 2017   Prob (F-statistic):           1.36e-36\n",
      "Time:                        13:16:30   Log-Likelihood:                -745.22\n",
      "No. Observations:                 505   AIC:                             1502.\n",
      "Df Residuals:                     499   BIC:                             1528.\n",
      "Df Model:                           5                                         \n",
      "Covariance Type:            nonrobust                                         \n",
      "====================================================================================\n",
      "                       coef    std err          t      P>|t|      [0.025      0.975]\n",
      "------------------------------------------------------------------------------------\n",
      "Intercept            1.5288      0.117     13.069      0.000       1.299       1.759\n",
      "ratedM[T.True]       0.5473      0.124      4.401      0.000       0.303       0.792\n",
      "complete[T.True]     0.6065      0.097      6.264      0.000       0.416       0.797\n",
      "lnwords1k            0.3938      0.033     12.109      0.000       0.330       0.458\n",
      "age                 -0.0164      0.012     -1.327      0.185      -0.041       0.008\n",
      "fansize              0.0043      0.003      1.251      0.212      -0.002       0.011\n",
      "==============================================================================\n",
      "Omnibus:                        9.620   Durbin-Watson:                   1.984\n",
      "Prob(Omnibus):                  0.008   Jarque-Bera (JB):                9.813\n",
      "Skew:                           0.323   Prob(JB):                      0.00740\n",
      "Kurtosis:                       2.779   Cond. No.                         50.5\n",
      "==============================================================================\n",
      "\n",
      "Warnings:\n",
      "[1] Standard Errors assume that the covariance matrix of the errors is correctly specified.\n"
     ]
    }
   ],
   "source": [
    "# runs OLS regression\n",
    "formula = 'lnfavs ~ lnwords1k + ratedM + complete + age + fansize'\n",
    "reg = smf.ols(data=df_online, formula=formula).fit()\n",
    "print(reg.summary())"
   ]
  },
  {
   "cell_type": "code",
   "execution_count": 32,
   "metadata": {
    "collapsed": true
   },
   "outputs": [],
   "source": [
    "# creates copy of only active users\n",
    "df_active = df_profile.loc[df_profile.status != 'inactive', ].copy()\n",
    "\n",
    "# creates age variable\n",
    "df_active['age'] = 17 - pd.to_numeric(df_active['join_year'])\n",
    "df_active.loc[df_active.age < 0, 'age'] = df_active.loc[df_active.age < 0, 'age'] + 100\n",
    "df_active = df_active[['st', 'fa', 'fs', 'cc', 'age']]\n",
    "\n",
    "# turns cc into binary\n",
    "df_active.loc[df_active['cc'] > 0, 'cc'] = 1"
   ]
  },
  {
   "cell_type": "markdown",
   "metadata": {},
   "source": [
    "## Multicollinearity"
   ]
  },
  {
   "cell_type": "code",
   "execution_count": 33,
   "metadata": {
    "scrolled": true
   },
   "outputs": [
    {
     "data": {
      "text/html": [
       "<div>\n",
       "<style>\n",
       "    .dataframe thead tr:only-child th {\n",
       "        text-align: right;\n",
       "    }\n",
       "\n",
       "    .dataframe thead th {\n",
       "        text-align: left;\n",
       "    }\n",
       "\n",
       "    .dataframe tbody tr th {\n",
       "        vertical-align: top;\n",
       "    }\n",
       "</style>\n",
       "<table border=\"1\" class=\"dataframe\">\n",
       "  <thead>\n",
       "    <tr style=\"text-align: right;\">\n",
       "      <th></th>\n",
       "      <th>st</th>\n",
       "      <th>fa</th>\n",
       "      <th>fs</th>\n",
       "      <th>cc</th>\n",
       "      <th>age</th>\n",
       "    </tr>\n",
       "  </thead>\n",
       "  <tbody>\n",
       "    <tr>\n",
       "      <th>st</th>\n",
       "      <td>1.000000</td>\n",
       "      <td>0.089321</td>\n",
       "      <td>0.142494</td>\n",
       "      <td>0.052937</td>\n",
       "      <td>0.170821</td>\n",
       "    </tr>\n",
       "    <tr>\n",
       "      <th>fa</th>\n",
       "      <td>0.089321</td>\n",
       "      <td>1.000000</td>\n",
       "      <td>0.706184</td>\n",
       "      <td>0.017645</td>\n",
       "      <td>0.007866</td>\n",
       "    </tr>\n",
       "    <tr>\n",
       "      <th>fs</th>\n",
       "      <td>0.142494</td>\n",
       "      <td>0.706184</td>\n",
       "      <td>1.000000</td>\n",
       "      <td>0.118110</td>\n",
       "      <td>0.011833</td>\n",
       "    </tr>\n",
       "    <tr>\n",
       "      <th>cc</th>\n",
       "      <td>0.052937</td>\n",
       "      <td>0.017645</td>\n",
       "      <td>0.118110</td>\n",
       "      <td>1.000000</td>\n",
       "      <td>0.113621</td>\n",
       "    </tr>\n",
       "    <tr>\n",
       "      <th>age</th>\n",
       "      <td>0.170821</td>\n",
       "      <td>0.007866</td>\n",
       "      <td>0.011833</td>\n",
       "      <td>0.113621</td>\n",
       "      <td>1.000000</td>\n",
       "    </tr>\n",
       "  </tbody>\n",
       "</table>\n",
       "</div>"
      ],
      "text/plain": [
       "           st        fa        fs        cc       age\n",
       "st   1.000000  0.089321  0.142494  0.052937  0.170821\n",
       "fa   0.089321  1.000000  0.706184  0.017645  0.007866\n",
       "fs   0.142494  0.706184  1.000000  0.118110  0.011833\n",
       "cc   0.052937  0.017645  0.118110  1.000000  0.113621\n",
       "age  0.170821  0.007866  0.011833  0.113621  1.000000"
      ]
     },
     "execution_count": 33,
     "metadata": {},
     "output_type": "execute_result"
    }
   ],
   "source": [
    "# displays correlation matrix\n",
    "df_active.corr()"
   ]
  },
  {
   "cell_type": "code",
   "execution_count": 34,
   "metadata": {},
   "outputs": [
    {
     "data": {
      "text/html": [
       "<div>\n",
       "<style>\n",
       "    .dataframe thead tr:only-child th {\n",
       "        text-align: right;\n",
       "    }\n",
       "\n",
       "    .dataframe thead th {\n",
       "        text-align: left;\n",
       "    }\n",
       "\n",
       "    .dataframe tbody tr th {\n",
       "        vertical-align: top;\n",
       "    }\n",
       "</style>\n",
       "<table border=\"1\" class=\"dataframe\">\n",
       "  <thead>\n",
       "    <tr style=\"text-align: right;\">\n",
       "      <th></th>\n",
       "      <th>VIF Factor</th>\n",
       "      <th>features</th>\n",
       "    </tr>\n",
       "  </thead>\n",
       "  <tbody>\n",
       "    <tr>\n",
       "      <th>0</th>\n",
       "      <td>1.051990</td>\n",
       "      <td>st</td>\n",
       "    </tr>\n",
       "    <tr>\n",
       "      <th>1</th>\n",
       "      <td>2.013037</td>\n",
       "      <td>fa</td>\n",
       "    </tr>\n",
       "    <tr>\n",
       "      <th>2</th>\n",
       "      <td>2.064973</td>\n",
       "      <td>fs</td>\n",
       "    </tr>\n",
       "    <tr>\n",
       "      <th>3</th>\n",
       "      <td>1.036716</td>\n",
       "      <td>cc</td>\n",
       "    </tr>\n",
       "    <tr>\n",
       "      <th>4</th>\n",
       "      <td>1.042636</td>\n",
       "      <td>age</td>\n",
       "    </tr>\n",
       "    <tr>\n",
       "      <th>5</th>\n",
       "      <td>2.824849</td>\n",
       "      <td>intercept</td>\n",
       "    </tr>\n",
       "  </tbody>\n",
       "</table>\n",
       "</div>"
      ],
      "text/plain": [
       "   VIF Factor   features\n",
       "0    1.051990         st\n",
       "1    2.013037         fa\n",
       "2    2.064973         fs\n",
       "3    1.036716         cc\n",
       "4    1.042636        age\n",
       "5    2.824849  intercept"
      ]
     },
     "execution_count": 34,
     "metadata": {},
     "output_type": "execute_result"
    }
   ],
   "source": [
    "# creates design_matrix \n",
    "X = df_active\n",
    "X['intercept'] = 1\n",
    "\n",
    "# displays variance inflation factor\n",
    "vif_results = pd.DataFrame()\n",
    "vif_results['VIF Factor'] = [vif(X.values, i) for i in range(X.shape[1])]\n",
    "vif_results['features'] = X.columns\n",
    "vif_results"
   ]
  },
  {
   "cell_type": "markdown",
   "metadata": {},
   "source": [
    "Results indicate there is some correlation between two of the independent variables: 'fa' and 'fs', implying one of them may not be necessary in the model."
   ]
  },
  {
   "cell_type": "markdown",
   "metadata": {},
   "source": [
    "## Nonlinearity"
   ]
  },
  {
   "cell_type": "markdown",
   "metadata": {},
   "source": [
    "We know from earlier distributions that some of the variables are heavily right-skewed. We created some scatter plots to confirm that the assumption of linearity holds."
   ]
  },
  {
   "cell_type": "code",
   "execution_count": 122,
   "metadata": {},
   "outputs": [
    {
     "data": {
      "image/png": "[encoded data removed]",
      "text/plain": [
       "<matplotlib.figure.Figure at 0x7f55802c6c50>"
      ]
     },
     "metadata": {},
     "output_type": "display_data"
    },
    {
     "data": {
      "image/png": "[encoded data removed]",
      "text/plain": [
       "<matplotlib.figure.Figure at 0x7f5580dea550>"
      ]
     },
     "metadata": {},
     "output_type": "display_data"
    }
   ],
   "source": [
    "df_online['lnreviews'] = np.log(df_online['reviews']+1)\n",
    "df_online['lnchapters'] = np.log(df_online['chapters'])\n",
    "df_online['lnwords1k'] = np.log(df_online['words1k'])\n",
    "\n",
    "sns.pairplot(data=df_online, y_vars=['lnreviews'], x_vars=['lnchapters', 'lnwords', 'age'])\n",
    "sns.pairplot(data=df_online, y_vars=['reviews'], x_vars=['chapters', 'words', 'age'])\n",
    "\n",
    "plt.show()"
   ]
  },
  {
   "cell_type": "code",
   "execution_count": 123,
   "metadata": {},
   "outputs": [
    {
     "data": {
      "image/png": "[encoded data removed]",
      "text/plain": [
       "<matplotlib.figure.Figure at 0x7f5580fdd908>"
      ]
     },
     "metadata": {},
     "output_type": "display_data"
    },
    {
     "data": {
      "image/png": "[encoded data removed]",
      "text/plain": [
       "<matplotlib.figure.Figure at 0x7f55800b7f60>"
      ]
     },
     "metadata": {},
     "output_type": "display_data"
    }
   ],
   "source": [
    "df_online['lnfavs'] = np.log(df_online['favs']+1)\n",
    "\n",
    "sns.pairplot(data=df_online, y_vars=['lnfavs'], x_vars=['lnchapters', 'lnwords', 'age'])\n",
    "sns.pairplot(data=df_online, y_vars=['favs'], x_vars=['chapters', 'words', 'age'])\n",
    "\n",
    "plt.show()"
   ]
  },
  {
   "cell_type": "markdown",
   "metadata": {},
   "source": [
    "The data is clustered around the zeros. Let's try a log transformation."
   ]
  },
  {
   "cell_type": "markdown",
   "metadata": {},
   "source": [
    "## Regression Model"
   ]
  },
  {
   "cell_type": "code",
   "execution_count": 47,
   "metadata": {},
   "outputs": [
    {
     "name": "stdout",
     "output_type": "stream",
     "text": [
      "                            OLS Regression Results                            \n",
      "==============================================================================\n",
      "Dep. Variable:                     st   R-squared:                       0.199\n",
      "Model:                            OLS   Adj. R-squared:                  0.196\n",
      "Method:                 Least Squares   F-statistic:                     61.31\n",
      "Date:                Thu, 03 Aug 2017   Prob (F-statistic):           2.70e-46\n",
      "Time:                        18:53:22   Log-Likelihood:                -757.62\n",
      "No. Observations:                 992   AIC:                             1525.\n",
      "Df Residuals:                     987   BIC:                             1550.\n",
      "Df Model:                           4                                         \n",
      "Covariance Type:            nonrobust                                         \n",
      "==============================================================================\n",
      "                 coef    std err          t      P>|t|      [0.025      0.975]\n",
      "------------------------------------------------------------------------------\n",
      "Intercept     -0.0338      0.029     -1.171      0.242      -0.090       0.023\n",
      "fa             0.1482      0.029      5.150      0.000       0.092       0.205\n",
      "fs             0.0401      0.018      2.287      0.022       0.006       0.075\n",
      "cc             0.6732      0.148      4.538      0.000       0.382       0.964\n",
      "age            0.0290      0.004      6.847      0.000       0.021       0.037\n",
      "==============================================================================\n",
      "Omnibus:                      583.226   Durbin-Watson:                   2.123\n",
      "Prob(Omnibus):                  0.000   Jarque-Bera (JB):             5544.765\n",
      "Skew:                           2.580   Prob(JB):                         0.00\n",
      "Kurtosis:                      13.370   Cond. No.                         60.5\n",
      "==============================================================================\n",
      "\n",
      "Warnings:\n",
      "[1] Standard Errors assume that the covariance matrix of the errors is correctly specified.\n"
     ]
    }
   ],
   "source": [
    "# runs OLS regression\n",
    "formula = 'st ~ fa + fs + cc + age'\n",
    "reg = smf.ols(data=df_active, formula=formula).fit()\n",
    "print(reg.summary())"
   ]
  },
  {
   "cell_type": "markdown",
   "metadata": {},
   "source": [
    "The log transformations helped increase the fit from and R-squared of ~0.05 to ~0.20.\n",
    "\n",
    "From these results, we can see that:\n",
    "\n",
    "* A 1% change in number of authors favorited is associated with a ~15% change in the number of stories written.\n",
    "* A 1% change in number of stories favorited is associated with a ~4% change in the number of stories written.\n",
    "* Being in a community is associated with a ~0.7 increase in the number of stories written.\n",
    "* One more year on the site is associated with a ~3% change in the number of stories written."
   ]
  },
  {
   "cell_type": "markdown",
   "metadata": {},
   "source": [
    "We noted earlier that 'fa' and 'fs' had a correlation of ~0.7. As such, we reran the regression without 'fa' first, then again without 'fs'. The model without 'fs' yielded a better fit (R-squared), as well as AIC and BIC."
   ]
  },
  {
   "cell_type": "code",
   "execution_count": 48,
   "metadata": {},
   "outputs": [
    {
     "name": "stdout",
     "output_type": "stream",
     "text": [
      "                            OLS Regression Results                            \n",
      "==============================================================================\n",
      "Dep. Variable:                     st   R-squared:                       0.195\n",
      "Model:                            OLS   Adj. R-squared:                  0.192\n",
      "Method:                 Least Squares   F-statistic:                     79.67\n",
      "Date:                Thu, 03 Aug 2017   Prob (F-statistic):           3.69e-46\n",
      "Time:                        18:53:27   Log-Likelihood:                -760.24\n",
      "No. Observations:                 992   AIC:                             1528.\n",
      "Df Residuals:                     988   BIC:                             1548.\n",
      "Df Model:                           3                                         \n",
      "Covariance Type:            nonrobust                                         \n",
      "==============================================================================\n",
      "                 coef    std err          t      P>|t|      [0.025      0.975]\n",
      "------------------------------------------------------------------------------\n",
      "Intercept     -0.0169      0.028     -0.605      0.545      -0.072       0.038\n",
      "fa             0.1989      0.018     10.843      0.000       0.163       0.235\n",
      "cc             0.7102      0.148      4.806      0.000       0.420       1.000\n",
      "age            0.0281      0.004      6.636      0.000       0.020       0.036\n",
      "==============================================================================\n",
      "Omnibus:                      592.647   Durbin-Watson:                   2.130\n",
      "Prob(Omnibus):                  0.000   Jarque-Bera (JB):             5757.058\n",
      "Skew:                           2.627   Prob(JB):                         0.00\n",
      "Kurtosis:                      13.568   Cond. No.                         59.7\n",
      "==============================================================================\n",
      "\n",
      "Warnings:\n",
      "[1] Standard Errors assume that the covariance matrix of the errors is correctly specified.\n"
     ]
    }
   ],
   "source": [
    "# runs OLS regression\n",
    "formula = 'st ~ fa + cc + age'\n",
    "reg = smf.ols(data=df_active, formula=formula).fit()\n",
    "print(reg.summary())"
   ]
  },
  {
   "cell_type": "markdown",
   "metadata": {},
   "source": [
    "Without 'fs', we lost some information but not much:\n",
    "\n",
    "* A 1% change in number of authors favorited is associated with a ~20% change in the number of stories written.\n",
    "* Being in a community is associated with a ~0.7 increase in the number of stories written.\n",
    "* One more year on the site is associated with a ~3% change in the number of stories written.\n",
    "\n",
    "All these results seem to confirm a basic intuition that the more active an user reads (as measured by favoriting authors and stories), the likely it is that user will write more stories. Being longer on the site and being part of a community is also correlated to publications.\n",
    "\n",
    "To get a sense of the actual magnitude of these effects, let's attempt some plots:"
   ]
  },
  {
   "cell_type": "code",
   "execution_count": 99,
   "metadata": {},
   "outputs": [
    {
     "data": {
      "image/png": "[encoded data removed]",
      "text/plain": [
       "<matplotlib.figure.Figure at 0x7b3381e87b00>"
      ]
     },
     "metadata": {},
     "output_type": "display_data"
    }
   ],
   "source": [
    "def graph(formula, x_range):  \n",
    "    y = np.array(x_range)\n",
    "    x = formula(y)\n",
    "    plt.plot(y,x)  \n",
    "\n",
    "graph(lambda x : (np.exp(reg.params[0]+reg.params[1]*(np.log(x-1)))), \n",
    "      range(2,100,1))\n",
    "graph(lambda x : (np.exp(reg.params[0]+reg.params[1]*(np.log(x-1))+reg.params[2])), \n",
    "      range(2,100,1))\n",
    "\n",
    "plt.show() "
   ]
  },
  {
   "cell_type": "code",
   "execution_count": 98,
   "metadata": {},
   "outputs": [
    {
     "data": {
      "image/png": "[encoded data removed]",
      "text/plain": [
       "<matplotlib.figure.Figure at 0x7b3382ef28d0>"
      ]
     },
     "metadata": {},
     "output_type": "display_data"
    }
   ],
   "source": [
    "ages = [0, 1, 5, 10, 15]\n",
    "for age in ages:\n",
    "    graph(lambda x : (np.exp(reg.params[0]+reg.params[1]*(np.log(x-1))+reg.params[3]*age)), \n",
    "          range(2,100,1))\n",
    "\n",
    "plt.show() "
   ]
  }
 ],
 "metadata": {
  "kernelspec": {
   "display_name": "Python 3",
   "language": "python",
   "name": "python3"
  },
  "language_info": {
   "codemirror_mode": {
    "name": "ipython",
    "version": 3
   },
   "file_extension": ".py",
   "mimetype": "text/x-python",
   "name": "python",
   "nbconvert_exporter": "python",
   "pygments_lexer": "ipython3",
   "version": "3.6.1"
  }
 },
 "nbformat": 4,
 "nbformat_minor": 2
}
