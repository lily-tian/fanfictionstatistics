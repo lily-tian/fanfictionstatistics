{
 "cells": [
  {
   "cell_type": "code",
   "execution_count": 65,
   "metadata": {
    "collapsed": true
   },
   "outputs": [],
   "source": [
    "# imports libraries\n",
    "import pickle\t\t\t\t\t\t# import/export lists\n",
    "import re \t\t\t\t\t\t\t# regular expression\n",
    "import pandas as pd\t\t\t\t\t# dataframes"
   ]
  },
  {
   "cell_type": "code",
   "execution_count": 66,
   "metadata": {
    "collapsed": true
   },
   "outputs": [],
   "source": [
    "# opens raw data\n",
    "with open ('data_profile', 'rb') as fp:\n",
    "    data_profile = pickle.load(fp)"
   ]
  },
  {
   "cell_type": "code",
   "execution_count": 67,
   "metadata": {},
   "outputs": [],
   "source": [
    "# converts to dataframe\n",
    "df = pd.DataFrame(data_profile)\n",
    "df.columns = ['id', 'desc', 'country', 'join_date', 'tabs']"
   ]
  },
  {
   "cell_type": "code",
   "execution_count": 68,
   "metadata": {
    "collapsed": true
   },
   "outputs": [],
   "source": [
    "# splits tabs into individual columns\n",
    "df = df.join(df['tabs'].apply(pd.Series))\n",
    "del df['tabs']"
   ]
  },
  {
   "cell_type": "code",
   "execution_count": 69,
   "metadata": {
    "collapsed": true
   },
   "outputs": [],
   "source": [
    "# parses description column\n",
    "df['status'] = 'inactive'\n",
    "df['status'][['reader' in row for row in df['desc']]] = 'reader'\n",
    "df['status'][['author' in row for row in df['desc']]] = 'author'\n",
    "del df['desc']"
   ]
  },
  {
   "cell_type": "code",
   "execution_count": 70,
   "metadata": {},
   "outputs": [],
   "source": [
    "# parses date column\n",
    "df['join_year'] = 'NaN'\n",
    "df['join_month'] = 'NaN'\n",
    "df['join'] = [re.split('-', row) for row in df['join_date']]\n",
    "valid = [row[0] != 'NaN' for row in df['join']]\n",
    "df['join_month'][valid] = [row[0] for row in df['join'][valid]]\n",
    "df['join_year'][valid] = [row[2] for row in df['join'][valid]]\n",
    "del df['join']"
   ]
  },
  {
   "cell_type": "code",
   "execution_count": 71,
   "metadata": {
    "collapsed": true
   },
   "outputs": [],
   "source": [
    "# saves dataframe\n",
    "df.to_pickle(\"df_profile\")"
   ]
  }
 ],
 "metadata": {
  "kernelspec": {
   "display_name": "Python 3",
   "language": "python",
   "name": "python3"
  },
  "language_info": {
   "codemirror_mode": {
    "name": "ipython",
    "version": 3
   },
   "file_extension": ".py",
   "mimetype": "text/x-python",
   "name": "python",
   "nbconvert_exporter": "python",
   "pygments_lexer": "ipython3",
   "version": "3.6.1"
  }
 },
 "nbformat": 4,
 "nbformat_minor": 2
}
