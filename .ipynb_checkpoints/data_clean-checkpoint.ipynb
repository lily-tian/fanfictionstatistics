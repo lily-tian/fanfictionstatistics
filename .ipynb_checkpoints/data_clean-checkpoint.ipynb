{
 "cells": [
  {
   "cell_type": "code",
   "execution_count": 43,
   "metadata": {
    "collapsed": true
   },
   "outputs": [],
   "source": [
    "# imports libraries\n",
    "import pickle\t\t\t\t\t\t# import/export lists\n",
    "import re \t\t\t\t\t\t\t# regular expression\n",
    "import math\t\t\t\t\t\t\t# mathematical functions\n",
    "import pandas as pd\t\t\t\t\t# dataframes"
   ]
  },
  {
   "cell_type": "code",
   "execution_count": 44,
   "metadata": {
    "collapsed": true
   },
   "outputs": [],
   "source": [
    "# opens raw data\n",
    "with open ('data_profile', 'rb') as fp:\n",
    "    data_profile = pickle.load(fp)"
   ]
  },
  {
   "cell_type": "code",
   "execution_count": 45,
   "metadata": {
    "collapsed": true
   },
   "outputs": [],
   "source": [
    "# converts to dataframe\n",
    "df = pd.DataFrame(data_profile)\n",
    "df.columns = ['id', 'desc', 'country', 'join_date', 'tabs']"
   ]
  },
  {
   "cell_type": "code",
   "execution_count": 46,
   "metadata": {},
   "outputs": [],
   "source": [
    "# splits tabs into individual columns\n",
    "tabs = df['tabs'].apply(pd.Series).fillna('0')\n",
    "tabs = tabs.apply(pd.to_numeric)\n",
    "df = df.join(tabs)\n",
    "del df['tabs']"
   ]
  },
  {
   "cell_type": "code",
   "execution_count": 47,
   "metadata": {},
   "outputs": [],
   "source": [
    "# parses description column\n",
    "df['status'] = 'inactive'\n",
    "df.loc[['reader' in row for row in df['desc']], 'status'] = 'reader'\n",
    "df.loc[['author' in row for row in df['desc']], 'status'] = 'author'\n",
    "del df['desc']"
   ]
  },
  {
   "cell_type": "code",
   "execution_count": 49,
   "metadata": {},
   "outputs": [],
   "source": [
    "# parses date column\n",
    "df['join'] = [re.split(r'[-/]+', row) for row in df['join_date']]\n",
    "valid = [row[0] != 'NaN' for row in df['join']]\n",
    "\n",
    "df['join_month'] = 'NA'\n",
    "df.loc[valid, 'join_month'] = [row[0] for row in df['join'][valid]]\n",
    "\n",
    "df['join_year'] = 'NA'\n",
    "df.loc[valid, 'join_year'] = [row[2] for row in df['join'][valid]]\n",
    "old_stamp = [int(row) > 1000 for row in df['join_year']]\n",
    "df.loc[old_stamp, 'join_year'] = [row[2:] for row in df['join_year'][old_stamp]]\n",
    "\n",
    "del df['join']"
   ]
  },
  {
   "cell_type": "code",
   "execution_count": 51,
   "metadata": {
    "collapsed": true
   },
   "outputs": [],
   "source": [
    "# saves dataframe\n",
    "df.to_pickle(\"df_profile\")"
   ]
  }
 ],
 "metadata": {
  "kernelspec": {
   "display_name": "Python 3",
   "language": "python",
   "name": "python3"
  },
  "language_info": {
   "codemirror_mode": {
    "name": "ipython",
    "version": 3
   },
   "file_extension": ".py",
   "mimetype": "text/x-python",
   "name": "python",
   "nbconvert_exporter": "python",
   "pygments_lexer": "ipython3",
   "version": "3.6.1"
  }
 },
 "nbformat": 4,
 "nbformat_minor": 2
}
