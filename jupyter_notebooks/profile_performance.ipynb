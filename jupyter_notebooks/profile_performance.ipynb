{
 "cells": [
  {
   "cell_type": "code",
   "execution_count": 1,
   "metadata": {
    "collapsed": true
   },
   "outputs": [],
   "source": [
    "# imports libraries\n",
    "import pickle\t\t\t\t\t\t\t\t\t\t# import/export lists\n",
    "import re \t\t\t\t\t\t\t\t\t\t\t# regular expression\n",
    "import pandas as pd\t\t\t\t\t\t\t\t\t# dataframes\n",
    "import numpy as np\t\t\t\t\t\t\t\t\t# numerical computation\n",
    "import matplotlib.pyplot as plt\t\t\t\t\t\t# plot graphics\n",
    "import seaborn as sns\t\t\t\t\t\t\t\t# graphics supplemental\n",
    "import statsmodels.formula.api as smf\t\t\t\t# statistical models\n",
    "from statsmodels.stats.outliers_influence import (\n",
    "    variance_inflation_factor as vif)\t\t\t\t# vif"
   ]
  },
  {
   "cell_type": "markdown",
   "metadata": {},
   "source": [
    "# Prediction of publications\n",
    "\n",
    "In this section, we will try to predict whether an user will be an author. If they are an author, we will try to predict the number of stories they would write based off observable characteristics, such as the number of years have they been on the site, how much they read, and whether or not they are in a community."
   ]
  },
  {
   "cell_type": "markdown",
   "metadata": {},
   "source": [
    "## Regression Modelling"
   ]
  },
  {
   "cell_type": "code",
   "execution_count": 8,
   "metadata": {
    "collapsed": true
   },
   "outputs": [],
   "source": [
    "# opens raw data\n",
    "with open ('../data/clean_data/df_profile', 'rb') as fp:\n",
    "    df_profile = pickle.load(fp)\n",
    "    \n",
    "# creates copy of only active users\n",
    "df_active = df_profile.loc[df_profile.status != 'inactive', ].copy()\n",
    "\n",
    "# creates age variable\n",
    "df_active['age'] = 17 - pd.to_numeric(df_active['join_year'])\n",
    "df_active.loc[df_active.age < 0, 'age'] = df_active.loc[df_active.age < 0, 'age'] + 100\n",
    "df_active = df_active[['st', 'fa', 'fs', 'cc', 'age']]\n",
    "\n",
    "# turns cc into binary\n",
    "df_active.loc[df_active['cc'] > 0, 'cc'] = 1"
   ]
  },
  {
   "cell_type": "markdown",
   "metadata": {},
   "source": [
    "## Multicollinearity"
   ]
  },
  {
   "cell_type": "code",
   "execution_count": 9,
   "metadata": {
    "scrolled": true
   },
   "outputs": [
    {
     "data": {
      "text/html": [
       "<div>\n",
       "<style>\n",
       "    .dataframe thead tr:only-child th {\n",
       "        text-align: right;\n",
       "    }\n",
       "\n",
       "    .dataframe thead th {\n",
       "        text-align: left;\n",
       "    }\n",
       "\n",
       "    .dataframe tbody tr th {\n",
       "        vertical-align: top;\n",
       "    }\n",
       "</style>\n",
       "<table border=\"1\" class=\"dataframe\">\n",
       "  <thead>\n",
       "    <tr style=\"text-align: right;\">\n",
       "      <th></th>\n",
       "      <th>st</th>\n",
       "      <th>fa</th>\n",
       "      <th>fs</th>\n",
       "      <th>cc</th>\n",
       "      <th>age</th>\n",
       "    </tr>\n",
       "  </thead>\n",
       "  <tbody>\n",
       "    <tr>\n",
       "      <th>st</th>\n",
       "      <td>1.000000</td>\n",
       "      <td>0.089321</td>\n",
       "      <td>0.142494</td>\n",
       "      <td>0.052937</td>\n",
       "      <td>0.170821</td>\n",
       "    </tr>\n",
       "    <tr>\n",
       "      <th>fa</th>\n",
       "      <td>0.089321</td>\n",
       "      <td>1.000000</td>\n",
       "      <td>0.706184</td>\n",
       "      <td>0.017645</td>\n",
       "      <td>0.007866</td>\n",
       "    </tr>\n",
       "    <tr>\n",
       "      <th>fs</th>\n",
       "      <td>0.142494</td>\n",
       "      <td>0.706184</td>\n",
       "      <td>1.000000</td>\n",
       "      <td>0.118110</td>\n",
       "      <td>0.011833</td>\n",
       "    </tr>\n",
       "    <tr>\n",
       "      <th>cc</th>\n",
       "      <td>0.052937</td>\n",
       "      <td>0.017645</td>\n",
       "      <td>0.118110</td>\n",
       "      <td>1.000000</td>\n",
       "      <td>0.113621</td>\n",
       "    </tr>\n",
       "    <tr>\n",
       "      <th>age</th>\n",
       "      <td>0.170821</td>\n",
       "      <td>0.007866</td>\n",
       "      <td>0.011833</td>\n",
       "      <td>0.113621</td>\n",
       "      <td>1.000000</td>\n",
       "    </tr>\n",
       "  </tbody>\n",
       "</table>\n",
       "</div>"
      ],
      "text/plain": [
       "           st        fa        fs        cc       age\n",
       "st   1.000000  0.089321  0.142494  0.052937  0.170821\n",
       "fa   0.089321  1.000000  0.706184  0.017645  0.007866\n",
       "fs   0.142494  0.706184  1.000000  0.118110  0.011833\n",
       "cc   0.052937  0.017645  0.118110  1.000000  0.113621\n",
       "age  0.170821  0.007866  0.011833  0.113621  1.000000"
      ]
     },
     "execution_count": 9,
     "metadata": {},
     "output_type": "execute_result"
    }
   ],
   "source": [
    "# displays correlation matrix\n",
    "df_active.corr()"
   ]
  },
  {
   "cell_type": "code",
   "execution_count": 10,
   "metadata": {},
   "outputs": [
    {
     "data": {
      "text/html": [
       "<div>\n",
       "<style>\n",
       "    .dataframe thead tr:only-child th {\n",
       "        text-align: right;\n",
       "    }\n",
       "\n",
       "    .dataframe thead th {\n",
       "        text-align: left;\n",
       "    }\n",
       "\n",
       "    .dataframe tbody tr th {\n",
       "        vertical-align: top;\n",
       "    }\n",
       "</style>\n",
       "<table border=\"1\" class=\"dataframe\">\n",
       "  <thead>\n",
       "    <tr style=\"text-align: right;\">\n",
       "      <th></th>\n",
       "      <th>VIF Factor</th>\n",
       "      <th>features</th>\n",
       "    </tr>\n",
       "  </thead>\n",
       "  <tbody>\n",
       "    <tr>\n",
       "      <th>0</th>\n",
       "      <td>1.051990</td>\n",
       "      <td>st</td>\n",
       "    </tr>\n",
       "    <tr>\n",
       "      <th>1</th>\n",
       "      <td>2.013037</td>\n",
       "      <td>fa</td>\n",
       "    </tr>\n",
       "    <tr>\n",
       "      <th>2</th>\n",
       "      <td>2.064973</td>\n",
       "      <td>fs</td>\n",
       "    </tr>\n",
       "    <tr>\n",
       "      <th>3</th>\n",
       "      <td>1.036716</td>\n",
       "      <td>cc</td>\n",
       "    </tr>\n",
       "    <tr>\n",
       "      <th>4</th>\n",
       "      <td>1.042636</td>\n",
       "      <td>age</td>\n",
       "    </tr>\n",
       "    <tr>\n",
       "      <th>5</th>\n",
       "      <td>2.824849</td>\n",
       "      <td>intercept</td>\n",
       "    </tr>\n",
       "  </tbody>\n",
       "</table>\n",
       "</div>"
      ],
      "text/plain": [
       "   VIF Factor   features\n",
       "0    1.051990         st\n",
       "1    2.013037         fa\n",
       "2    2.064973         fs\n",
       "3    1.036716         cc\n",
       "4    1.042636        age\n",
       "5    2.824849  intercept"
      ]
     },
     "execution_count": 10,
     "metadata": {},
     "output_type": "execute_result"
    }
   ],
   "source": [
    "# creates design_matrix \n",
    "X = df_active\n",
    "X['intercept'] = 1\n",
    "\n",
    "# displays variance inflation factor\n",
    "vif_results = pd.DataFrame()\n",
    "vif_results['VIF Factor'] = [vif(X.values, i) for i in range(X.shape[1])]\n",
    "vif_results['features'] = X.columns\n",
    "vif_results"
   ]
  },
  {
   "cell_type": "markdown",
   "metadata": {},
   "source": [
    "Results indicate there is some correlation between two of the independent variables: 'fa' and 'fs', implying one of them may not be necessary in the model."
   ]
  },
  {
   "cell_type": "markdown",
   "metadata": {},
   "source": [
    "## Nonlinearity"
   ]
  },
  {
   "cell_type": "markdown",
   "metadata": {},
   "source": [
    "We know from earlier distributions that some of the variables are heavily right-skewed. We created some scatter plots to confirm that the assumption of linearity holds."
   ]
  },
  {
   "cell_type": "code",
   "execution_count": 11,
   "metadata": {},
   "outputs": [
    {
     "data": {
      "image/png": "[encoded data removed]",
      "text/plain": [
       "<matplotlib.figure.Figure at 0x7f8ca5063630>"
      ]
     },
     "metadata": {},
     "output_type": "display_data"
    }
   ],
   "source": [
    "sns.pairplot(data=df_active, y_vars=['st'], x_vars=['fa', 'fs', 'age'])\n",
    "\n",
    "plt.show()"
   ]
  },
  {
   "cell_type": "markdown",
   "metadata": {},
   "source": [
    "The data is clustered around the zeros. Let's try a log transformation."
   ]
  },
  {
   "cell_type": "code",
   "execution_count": 12,
   "metadata": {
    "collapsed": true
   },
   "outputs": [],
   "source": [
    "# takes log transformation\n",
    "df_active['st'] = np.log(df_active['st']+1)\n",
    "df_active['fa'] = np.log(df_active['fa']+1)\n",
    "df_active['fs'] = np.log(df_active['fs']+1)"
   ]
  },
  {
   "cell_type": "code",
   "execution_count": 13,
   "metadata": {},
   "outputs": [
    {
     "data": {
      "image/png": "[encoded data removed]",
      "text/plain": [
       "<matplotlib.figure.Figure at 0x7f8cd49ed710>"
      ]
     },
     "metadata": {},
     "output_type": "display_data"
    }
   ],
   "source": [
    "sns.pairplot(data=df_active, y_vars=['st'], x_vars=['fa', 'fs', 'age'])\n",
    "\n",
    "plt.show()"
   ]
  },
  {
   "cell_type": "markdown",
   "metadata": {},
   "source": [
    "## Regression Model"
   ]
  },
  {
   "cell_type": "code",
   "execution_count": 14,
   "metadata": {},
   "outputs": [
    {
     "name": "stdout",
     "output_type": "stream",
     "text": [
      "                            OLS Regression Results                            \n",
      "==============================================================================\n",
      "Dep. Variable:                     st   R-squared:                       0.199\n",
      "Model:                            OLS   Adj. R-squared:                  0.196\n",
      "Method:                 Least Squares   F-statistic:                     61.31\n",
      "Date:                Mon, 07 Aug 2017   Prob (F-statistic):           2.70e-46\n",
      "Time:                        13:07:36   Log-Likelihood:                -757.62\n",
      "No. Observations:                 992   AIC:                             1525.\n",
      "Df Residuals:                     987   BIC:                             1550.\n",
      "Df Model:                           4                                         \n",
      "Covariance Type:            nonrobust                                         \n",
      "==============================================================================\n",
      "                 coef    std err          t      P>|t|      [0.025      0.975]\n",
      "------------------------------------------------------------------------------\n",
      "Intercept     -0.0338      0.029     -1.171      0.242      -0.090       0.023\n",
      "fa             0.1482      0.029      5.150      0.000       0.092       0.205\n",
      "fs             0.0401      0.018      2.287      0.022       0.006       0.075\n",
      "cc             0.6732      0.148      4.538      0.000       0.382       0.964\n",
      "age            0.0290      0.004      6.847      0.000       0.021       0.037\n",
      "==============================================================================\n",
      "Omnibus:                      583.226   Durbin-Watson:                   2.123\n",
      "Prob(Omnibus):                  0.000   Jarque-Bera (JB):             5544.765\n",
      "Skew:                           2.580   Prob(JB):                         0.00\n",
      "Kurtosis:                      13.370   Cond. No.                         60.5\n",
      "==============================================================================\n",
      "\n",
      "Warnings:\n",
      "[1] Standard Errors assume that the covariance matrix of the errors is correctly specified.\n"
     ]
    }
   ],
   "source": [
    "# runs OLS regression\n",
    "formula = 'st ~ fa + fs + cc + age'\n",
    "reg = smf.ols(data=df_active, formula=formula).fit()\n",
    "print(reg.summary())"
   ]
  },
  {
   "cell_type": "markdown",
   "metadata": {},
   "source": [
    "The log transformations helped increase the fit from and R-squared of ~0.05 to ~0.20.\n",
    "\n",
    "From these results, we can see that:\n",
    "\n",
    "* A 1% change in number of authors favorited is associated with a ~15% change in the number of stories written.\n",
    "* A 1% change in number of stories favorited is associated with a ~4% change in the number of stories written.\n",
    "* Being in a community is associated with a ~0.7 increase in the number of stories written.\n",
    "* One more year on the site is associated with a ~3% change in the number of stories written."
   ]
  },
  {
   "cell_type": "markdown",
   "metadata": {},
   "source": [
    "We noted earlier that 'fa' and 'fs' had a correlation of ~0.7. As such, we reran the regression without 'fa' first, then again without 'fs'. The model without 'fs' yielded a better fit (R-squared), as well as AIC and BIC."
   ]
  },
  {
   "cell_type": "code",
   "execution_count": 15,
   "metadata": {},
   "outputs": [
    {
     "name": "stdout",
     "output_type": "stream",
     "text": [
      "                            OLS Regression Results                            \n",
      "==============================================================================\n",
      "Dep. Variable:                     st   R-squared:                       0.195\n",
      "Model:                            OLS   Adj. R-squared:                  0.192\n",
      "Method:                 Least Squares   F-statistic:                     79.67\n",
      "Date:                Mon, 07 Aug 2017   Prob (F-statistic):           3.69e-46\n",
      "Time:                        13:07:37   Log-Likelihood:                -760.24\n",
      "No. Observations:                 992   AIC:                             1528.\n",
      "Df Residuals:                     988   BIC:                             1548.\n",
      "Df Model:                           3                                         \n",
      "Covariance Type:            nonrobust                                         \n",
      "==============================================================================\n",
      "                 coef    std err          t      P>|t|      [0.025      0.975]\n",
      "------------------------------------------------------------------------------\n",
      "Intercept     -0.0169      0.028     -0.605      0.545      -0.072       0.038\n",
      "fa             0.1989      0.018     10.843      0.000       0.163       0.235\n",
      "cc             0.7102      0.148      4.806      0.000       0.420       1.000\n",
      "age            0.0281      0.004      6.636      0.000       0.020       0.036\n",
      "==============================================================================\n",
      "Omnibus:                      592.647   Durbin-Watson:                   2.130\n",
      "Prob(Omnibus):                  0.000   Jarque-Bera (JB):             5757.058\n",
      "Skew:                           2.627   Prob(JB):                         0.00\n",
      "Kurtosis:                      13.568   Cond. No.                         59.7\n",
      "==============================================================================\n",
      "\n",
      "Warnings:\n",
      "[1] Standard Errors assume that the covariance matrix of the errors is correctly specified.\n"
     ]
    }
   ],
   "source": [
    "# runs OLS regression\n",
    "formula = 'st ~ fa + cc + age'\n",
    "reg = smf.ols(data=df_active, formula=formula).fit()\n",
    "print(reg.summary())"
   ]
  },
  {
   "cell_type": "markdown",
   "metadata": {},
   "source": [
    "Without 'fs', we lost some information but not much:\n",
    "\n",
    "* A 1% change in number of authors favorited is associated with a ~20% change in the number of stories written.\n",
    "* Being in a community is associated with a ~0.7 increase in the number of stories written.\n",
    "* One more year on the site is associated with a ~3% change in the number of stories written.\n",
    "\n",
    "All these results seem to confirm a basic intuition that the more active an user reads (as measured by favoriting authors and stories), the likely it is that user will write more stories. Being longer on the site and being part of a community is also correlated to publications.\n",
    "\n",
    "To get a sense of the actual magnitude of these effects, let's attempt some plots:"
   ]
  },
  {
   "cell_type": "code",
   "execution_count": 16,
   "metadata": {},
   "outputs": [
    {
     "data": {
      "image/png": "[encoded data removed]",
      "text/plain": [
       "<matplotlib.figure.Figure at 0x7f8ca50239b0>"
      ]
     },
     "metadata": {},
     "output_type": "display_data"
    }
   ],
   "source": [
    "def graph(formula, x_range):  \n",
    "    y = np.array(x_range)\n",
    "    x = formula(y)\n",
    "    plt.plot(y,x)  \n",
    "\n",
    "graph(lambda x : (np.exp(reg.params[0]+reg.params[1]*(np.log(x-1)))-1), \n",
    "      range(2,100,1))\n",
    "graph(lambda x : (np.exp(reg.params[0]+reg.params[1]*(np.log(x-1))+reg.params[2])-1), \n",
    "      range(2,100,1))\n",
    "\n",
    "plt.show() "
   ]
  },
  {
   "cell_type": "code",
   "execution_count": 17,
   "metadata": {},
   "outputs": [
    {
     "data": {
      "image/png": "[encoded data removed]",
      "text/plain": [
       "<matplotlib.figure.Figure at 0x7f8ca5023e10>"
      ]
     },
     "metadata": {},
     "output_type": "display_data"
    }
   ],
   "source": [
    "ages = [0, 1, 5, 10, 15]\n",
    "for age in ages:\n",
    "    graph(lambda x : (np.exp(reg.params[0]+reg.params[1]*(np.log(x-1))+reg.params[3]*age)-1), \n",
    "          range(2,100,1))\n",
    "\n",
    "plt.show() "
   ]
  }
 ],
 "metadata": {
  "kernelspec": {
   "display_name": "Python 3",
   "language": "python",
   "name": "python3"
  },
  "language_info": {
   "codemirror_mode": {
    "name": "ipython",
    "version": 3
   },
   "file_extension": ".py",
   "mimetype": "text/x-python",
   "name": "python",
   "nbconvert_exporter": "python",
   "pygments_lexer": "ipython3",
   "version": "3.6.1"
  }
 },
 "nbformat": 4,
 "nbformat_minor": 2
}
