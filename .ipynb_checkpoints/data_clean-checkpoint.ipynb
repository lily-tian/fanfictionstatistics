{
 "cells": [
  {
   "cell_type": "code",
   "execution_count": 10,
   "metadata": {
    "collapsed": true
   },
   "outputs": [],
   "source": [
    "import pickle\t\t\t\t\t\t# exports lists\n",
    "\n",
    "with open ('data_profile', 'rb') as fp:\n",
    "    data_profile = pickle.load(fp)\n",
    "with open ('data_userlinks', 'rb') as fp:\n",
    "    data_userlinks = pickle.load(fp)\n",
    "with open ('data_storylinks', 'rb') as fp:\n",
    "    data_storylinks = pickle.load(fp)"
   ]
  }
 ],
 "metadata": {
  "kernelspec": {
   "display_name": "Python 3",
   "language": "python",
   "name": "python3"
  },
  "language_info": {
   "codemirror_mode": {
    "name": "ipython",
    "version": 3
   },
   "file_extension": ".py",
   "mimetype": "text/x-python",
   "name": "python",
   "nbconvert_exporter": "python",
   "pygments_lexer": "ipython3",
   "version": "3.6.1"
  }
 },
 "nbformat": 4,
 "nbformat_minor": 2
}
