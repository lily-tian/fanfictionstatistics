{
 "cells": [
  {
   "cell_type": "markdown",
   "metadata": {},
   "source": [
    "# Introduction"
   ]
  },
  {
   "cell_type": "markdown",
   "metadata": {},
   "source": [
    "Welcome to _Just Fanfiction Statistics_. In this mini-project, we gather data from the website fanfiction.net in order to gain some insight on the online fanfiction community. For those unfamiliar with fanfiction, it is any form of fiction in which the characters or settings are directly taken from another existing work. These works are typically created by fans of the original work, hence the name \"fanfiction\".\n",
    "\n",
    "What is exciting about fanfiction is that ever since the rise of the internet, it essentially operated on a free market. Unlike the standard publishing industry, there is no middle-man, no gatekeeper, no moderators, no contract, little to no regulation, and very few barriers to entry. Common inefficiencies, distortions, and biases (eg. sexism, racism) are also limited or absent under this system. Anyone can write a story, and anyone can read it... for free! \n",
    "\n",
    "What this creates is something known in economics as perfect competition.  Stories are \"priced\" -- we will go into what this means, given that no money is being exchanged, later -- exactly at where supply (the stories authors are willing to write) meets demand (the stories readers are willing to read). This gives us invaluable insight into, say, what our next bestseller will be. Indeed, for those who didn't know, E.L. James' _Fifty Shades of Grey_ began as an extremely popular fanfiction... and then reached massive commercial success with over 125 million copies sold. "
   ]
  },
  {
   "cell_type": "markdown",
   "metadata": {},
   "source": [
    "## Project breakdown"
   ]
  },
  {
   "cell_type": "markdown",
   "metadata": {},
   "source": [
    "For this project, the below gives an outline of our final objectives. \n",
    "\n",
    "Understanding the fanfiction community\n",
    "* Characterize the users on the site\n",
    "* Predict who will write what stories\n",
    "* Predict who will read what stories\n",
    "\n",
    "Understanding fanfiction stories\n",
    "* Characterize the stories being published\n",
    "* Predict what types of stories will be successful\n",
    "* Tell how well a story is performing relative to its peers\n",
    "\n",
    "Cool things to figure out\n",
    "* Figure out the sentiment of a review\n",
    "* Find the most influential author on the site\n",
    "* Recommend stories based off what a user has favorited\n",
    "* Characterize the content of successful stories\n",
    "\n",
    "Note that is is an on-going project, and the results will be published in the same sequence that they are performed. Also note that some of the objectives on the list requires technologies that we currently do not have. We will leave an update when this has changed."
   ]
  }
 ],
 "metadata": {
  "kernelspec": {
   "display_name": "Python 3",
   "language": "python",
   "name": "python3"
  },
  "language_info": {
   "codemirror_mode": {
    "name": "ipython",
    "version": 3
   },
   "file_extension": ".py",
   "mimetype": "text/x-python",
   "name": "python",
   "nbconvert_exporter": "python",
   "pygments_lexer": "ipython3",
   "version": "3.6.1"
  }
 },
 "nbformat": 4,
 "nbformat_minor": 2
}
