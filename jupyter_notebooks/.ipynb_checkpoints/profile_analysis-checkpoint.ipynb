{
 "cells": [
  {
   "cell_type": "code",
   "execution_count": 1,
   "metadata": {
    "collapsed": true
   },
   "outputs": [],
   "source": [
    "# imports libraries\n",
    "import pickle\t\t\t\t\t\t\t\t\t\t# import/export lists\n",
    "import datetime\t\t\t\t\t\t\t\t\t\t# dates\n",
    "import string\t\t\t\t\t\t\t\t\t\t# string parsing\n",
    "import re \t\t\t\t\t\t\t\t\t\t\t# regular expression\n",
    "import pandas as pd\t\t\t\t\t\t\t\t\t# dataframes\n",
    "import numpy as np\t\t\t\t\t\t\t\t\t# numerical computation\n",
    "import matplotlib.pyplot as plt\t\t\t\t\t\t# plot graphics\n",
    "import nltk\t\t\t\t\t\t\t\t\t\t\t# natural language process\n",
    "from nltk.corpus import stopwords\t\t\t\t\t# stop words\n",
    "from nltk import word_tokenize\t\t\t\t\t\t# word tokens\n",
    "from nltk.util import ngrams\t\t\t\t\t\t# ngrams\n",
    "import seaborn as sns\t\t\t\t\t\t\t\t# graphics supplemental"
   ]
  },
  {
   "cell_type": "markdown",
   "metadata": {},
   "source": [
    "# Analysis of the fanfiction readers and writers"
   ]
  },
  {
   "cell_type": "markdown",
   "metadata": {},
   "source": [
    "To begin, we will examine the userbase of fanfiction.net. Who are they? Where are they from? How active are they? To do so, we will take a random sample of ~10,000 users from the site and break down some of their characteristics."
   ]
  },
  {
   "cell_type": "code",
   "execution_count": 2,
   "metadata": {
    "collapsed": true
   },
   "outputs": [],
   "source": [
    "# opens raw data\n",
    "with open ('../data/clean_data/df_profile', 'rb') as fp:\n",
    "    df = pickle.load(fp)\n",
    "    \n",
    "# creates subset of data of active users\n",
    "df_active = df.loc[df.status != 'inactive', ].copy()\n",
    "\n",
    "# sets current year\n",
    "cyear = datetime.datetime.now().year\n",
    "\n",
    "# sets stop word list for text parsing\n",
    "stop_word_list = stopwords.words('english')"
   ]
  },
  {
   "cell_type": "markdown",
   "metadata": {},
   "source": [
    "## Account status and volume"
   ]
  },
  {
   "cell_type": "markdown",
   "metadata": {},
   "source": [
    "Let's begin by examining the types of profiles that make up the userbase: readers, authors, or inactive users. Inactive users are accounts that are no longer existing."
   ]
  },
  {
   "cell_type": "code",
   "execution_count": 3,
   "metadata": {},
   "outputs": [
    {
     "data": {
      "image/png": "[encoded data removed]",
      "text/plain": [
       "<matplotlib.figure.Figure at 0x7d426eadc0f0>"
      ]
     },
     "metadata": {},
     "output_type": "display_data"
    }
   ],
   "source": [
    "# examines status of users\n",
    "status = df['status'].value_counts()\n",
    "\n",
    "# plots chart\n",
    "(status/np.sum(status)).plot.bar()\n",
    "plt.xticks(rotation=0)\n",
    "plt.show()"
   ]
  },
  {
   "cell_type": "markdown",
   "metadata": {},
   "source": [
    "About ~20% of users on the site are authors! That's much higher than expected. The number of inactive profiles is also notably negligible, meaning that once a profile has been created, it is very unlikely to be ever deleted or pulled off the site. "
   ]
  },
  {
   "cell_type": "markdown",
   "metadata": {},
   "source": [
    "What about how fast people are joining the site?"
   ]
  },
  {
   "cell_type": "code",
   "execution_count": 4,
   "metadata": {
    "scrolled": true
   },
   "outputs": [
    {
     "data": {
      "image/png": "[encoded data removed]",
      "text/plain": [
       "<matplotlib.figure.Figure at 0x7d426be32390>"
      ]
     },
     "metadata": {},
     "output_type": "display_data"
    }
   ],
   "source": [
    "# examines when stories first created\n",
    "entry = [int(row[2]) for row in df_active['join'] if row != 'NA']\n",
    "entry = pd.Series(entry).value_counts().sort_index()\n",
    "\n",
    "# plots chart\n",
    "(entry/np.sum(entry)).plot()\n",
    "plt.xlim([np.min(entry.index.values), cyear-1])\n",
    "plt.show()"
   ]
  },
  {
   "cell_type": "markdown",
   "metadata": {},
   "source": [
    "Fanfiction has been on an upward trend every since its establishment. \n",
    "\n",
    "Note that sharp increase in 2011! In a later chapter, we will examine what could have caused that surge..."
   ]
  },
  {
   "cell_type": "markdown",
   "metadata": {},
   "source": [
    "## Countries"
   ]
  },
  {
   "cell_type": "markdown",
   "metadata": {},
   "source": [
    "The site fanfiction.net allows tracking of location for users. Let's examine where these users are from."
   ]
  },
  {
   "cell_type": "code",
   "execution_count": 5,
   "metadata": {},
   "outputs": [
    {
     "data": {
      "image/png": "[encoded data removed]",
      "text/plain": [
       "<matplotlib.figure.Figure at 0x7d426be96a58>"
      ]
     },
     "metadata": {},
     "output_type": "display_data"
    }
   ],
   "source": [
    "# examines distribution of top 10 countries\n",
    "country = df['country'].value_counts()\n",
    "\n",
    "# plots chart\n",
    "(country[1:10]/np.sum(country)).plot.bar()\n",
    "plt.xticks(rotation=90)\n",
    "plt.show()"
   ]
  },
  {
   "cell_type": "markdown",
   "metadata": {},
   "source": [
    "We looked at the top 10 countries. Over ~30% are from United States!"
   ]
  },
  {
   "cell_type": "markdown",
   "metadata": {},
   "source": [
    "## Profile descriptions"
   ]
  },
  {
   "cell_type": "markdown",
   "metadata": {},
   "source": [
    "Users have the option of including a profile description. This is typically to allow users to introduce themselves to the community. Let's see what percentage of the active userbase has written something. "
   ]
  },
  {
   "cell_type": "code",
   "execution_count": 6,
   "metadata": {},
   "outputs": [
    {
     "data": {
      "image/png": "[encoded data removed]",
      "text/plain": [
       "<matplotlib.figure.Figure at 0x7d426bed84e0>"
      ]
     },
     "metadata": {},
     "output_type": "display_data"
    }
   ],
   "source": [
    "# counts number with written profiles \n",
    "hasprofile = [row != '' for row in df_active['profile']]\n",
    "profiletype = pd.Series(hasprofile).value_counts()\n",
    "\n",
    "# plots chart\n",
    "profiletype.plot.pie(autopct='%.f', figsize=(5,5))\n",
    "plt.ylabel('')\n",
    "plt.show()"
   ]
  },
  {
   "cell_type": "markdown",
   "metadata": {},
   "source": [
    "It would appear about one-fourth of the users have written something in their profile! For those who have, let's see how many words they have written."
   ]
  },
  {
   "cell_type": "code",
   "execution_count": 7,
   "metadata": {},
   "outputs": [
    {
     "data": {
      "image/png": "[encoded data removed]",
      "text/plain": [
       "<matplotlib.figure.Figure at 0x7d426bd86358>"
      ]
     },
     "metadata": {},
     "output_type": "display_data"
    }
   ],
   "source": [
    "# examines word count of profiles\n",
    "profile_wc = [len(row.split()) for row in df_active['profile']]\n",
    "\n",
    "# plots chart\n",
    "pd.Series(profile_wc).plot.hist(normed=True, bins=np.arange(1, 500, 1))\n",
    "plt.show()\n",
    "\n",
    "# IMPORTANT NOTE: 'request' package has error in which it cannot find end p tag </p>, thus \n",
    "# leading to description duplicates i some profiles. Until this error is addressed, an abritrary \n",
    "# cutoff is used."
   ]
  },
  {
   "cell_type": "markdown",
   "metadata": {},
   "source": [
    "The right tail is much longer than depicted, with ~3% of profiles exceeding our 500 word cut off. However, it would appear the majority of profiles fall well under 100-200 words."
   ]
  },
  {
   "cell_type": "markdown",
   "metadata": {},
   "source": [
    "What do these users typically say? Let's see what are the top 10 words commonly used."
   ]
  },
  {
   "cell_type": "code",
   "execution_count": 8,
   "metadata": {},
   "outputs": [
    {
     "name": "stdout",
     "output_type": "stream",
     "text": [
      "like       0.315661\n",
      "love       0.286297\n",
      "one        0.250816\n",
      "stories    0.241436\n",
      "know       0.234095\n",
      "writing    0.223491\n",
      "write      0.216558\n",
      "time       0.213703\n",
      "name       0.207586\n",
      "read       0.197390\n"
     ]
    }
   ],
   "source": [
    "# extracts mostly used common words\n",
    "profile_wf = [set(row.lower().translate(str.maketrans('', '', string.punctuation)).split()) \n",
    "              for row in df_active.loc[hasprofile, 'profile']]\n",
    "profile_wf = [item for sublist in profile_wf for item in sublist]\n",
    "profile_wf = pd.Series(profile_wf).value_counts()\n",
    "\n",
    "# prints table\n",
    "stop_word_list.append('im')\n",
    "stop_word_list.append('dont')\n",
    "print((profile_wf.loc[[row not in stop_word_list \n",
    "                        for row in profile_wf.index.values]][:10]/sum(hasprofile)).to_string())"
   ]
  },
  {
   "cell_type": "markdown",
   "metadata": {},
   "source": [
    "Above are the words most likely to be used at least once in a profile description. And of course, this is excluding stop words, such as \"the\", \"is\", or \"are\".\n",
    " \n",
    "From here, we can guess that most profiles mention the user's likes (or dislikes) and something related to reading and/or writing. Very standard words you'd expect in a community like fanfiction."
   ]
  },
  {
   "cell_type": "code",
   "execution_count": 9,
   "metadata": {
    "collapsed": true
   },
   "outputs": [],
   "source": [
    "name_count = (profile_wf['name'])/sum(hasprofile)\n",
    "gender_count = (profile_wf['gender']+profile_wf['sex'])/sum(hasprofile)\n",
    "age_count = (profile_wf['age']+profile_wf['old'])/sum(hasprofile)"
   ]
  },
  {
   "cell_type": "markdown",
   "metadata": {},
   "source": [
    "The word \"name\" also made the list. We estimate that ~21% of profiles that have something written will include that word. This prompts the question of what other information we might parse out. We looked into \"gender\"/\"sex\" found those words existed in ~6% of profiles. As for \"age\"/\"old\", ~20%."
   ]
  },
  {
   "cell_type": "markdown",
   "metadata": {},
   "source": [
    "## Gender"
   ]
  },
  {
   "cell_type": "markdown",
   "metadata": {},
   "source": [
    "Now this is where things get tricky. So we've discovered that ~25% of users written something in their profiles. For those users, we want to figure out 1) if they have disclosed their gender, 2) get the machine to recognize what that gender is. For this exercise, we will only examine users who have disclosed in English."
   ]
  },
  {
   "cell_type": "markdown",
   "metadata": {},
   "source": [
    "We will start with the most basic approach, which is to search for the key words \"female\" and \"male\", then count how many profiles have one word but not the other."
   ]
  },
  {
   "cell_type": "code",
   "execution_count": 10,
   "metadata": {},
   "outputs": [
    {
     "data": {
      "image/png": "[encoded data removed]",
      "text/plain": [
       "<matplotlib.figure.Figure at 0x7d426a164828>"
      ]
     },
     "metadata": {},
     "output_type": "display_data"
    }
   ],
   "source": [
    "# finds gender breakdown\n",
    "profile_text = [list(set(row.lower().translate(str.maketrans('', '', string.punctuation)).split())) \n",
    "              for row in df_active.loc[hasprofile, 'profile']]\n",
    "female = ['female' in row and 'male' not in row for row in profile_text]\n",
    "male = ['male' in row and 'female' not in row for row in profile_text]\n",
    "gender = pd.Series([sum(female), sum(male)], index = ['female', 'male'])\n",
    "\n",
    "# plots chart\n",
    "gender.plot.pie(autopct='%.f', figsize=(5,5))\n",
    "plt.ylabel('')\n",
    "plt.show()"
   ]
  },
  {
   "cell_type": "markdown",
   "metadata": {},
   "source": [
    "It should be noted that third-gender and non-binary words were also tested but yielded too little observations for analysis. As such, everything we talk about below is only in reference to the female and male genders.\n",
    "\n",
    "Assuming a user is either \"female\" or \"male\", we estimate a rough 3:1 ratio, favoring female.\n",
    "\n",
    "This may or may not reflect gender ratio of the actual userbase. Here, we are making a lot of assumptions, including:\n",
    "* Female and male users are equally likely to write something in their profile.\n",
    "* Female and male users are equally likely to disclose their gender in their profile.\n",
    "* Female and male users are equally likely to choose the words \"female\" or \"male\" for disclosing their gender.\n",
    "* The words \"female\" or \"male\" are primarily used in the context of gender self-identification."
   ]
  },
  {
   "cell_type": "markdown",
   "metadata": {},
   "source": [
    "We decided to do a check against other gender-related words that might be potential identifiers. The below reveal the proportion of written profiles that contain each word. Note that one profile can contain both the female-specific and male-specific word."
   ]
  },
  {
   "cell_type": "code",
   "execution_count": 11,
   "metadata": {},
   "outputs": [
    {
     "data": {
      "image/png": "[encoded data removed]",
      "text/plain": [
       "<matplotlib.figure.Figure at 0x7d426a0f92e8>"
      ]
     },
     "metadata": {},
     "output_type": "display_data"
    }
   ],
   "source": [
    "# sets gender words\n",
    "female = ['female', 'girl', 'woman', 'daughter', 'mother', 'sister']\n",
    "male = ['male', 'boy', 'man', 'son', 'father', 'brother']\n",
    "other = ['agender', 'queer', 'nonbinary', 'transgender', 'trans', 'bigender', 'intergender']\n",
    "\n",
    "# finds gender ratio\n",
    "gender_index = [n+'-'+m for m,n in zip(female, male)]\n",
    "gender = pd.DataFrame(list(map(list, zip(profile_wf[female]/sum(hasprofile), \n",
    "                                         (-1 * profile_wf[male])/sum(hasprofile)))), \n",
    "                      columns = ['female', 'male'])\n",
    "gender = gender.set_index(pd.Series(gender_index))\n",
    "\n",
    "# plots chart\n",
    "gender.plot.bar(stacked=True)\n",
    "plt.ylabel('')\n",
    "plt.show()"
   ]
  },
  {
   "cell_type": "markdown",
   "metadata": {},
   "source": [
    "Here we have a much more mixed picture.\n",
    "\n",
    "The problem with the pairs \"girl\"/\"boy\" and \"woman\"/\"man\" is that they may refer to third parties (eg. \"I once met a girl who...). However, when those two columns are added together, there does not seem to be any evidence of any gender disparity. The final three pairs are even more likely to refer to third parties, and are only there for comparison purposes only.\n",
    "\n",
    "On a slight digression, the distribution of the word choices is interesting: \"girl\" is much more widely used than \"woman\" whereas \"man\" is more widely used than \"boy\".\n",
    "\n",
    "All in all, this is a very rough look into the question of gender. Later on, we will try to readdress this question through more sophistificated classification methods."
   ]
  },
  {
   "cell_type": "markdown",
   "metadata": {},
   "source": [
    "## Age"
   ]
  },
  {
   "cell_type": "markdown",
   "metadata": {},
   "source": [
    "Finding the age is an even greater challenge than gender. We will return this question when we focus on text analysis and natural language processing. "
   ]
  },
  {
   "cell_type": "markdown",
   "metadata": {},
   "source": [
    "## Account activity and favorites"
   ]
  },
  {
   "cell_type": "markdown",
   "metadata": {},
   "source": [
    "The site fanfiction.net allows users to \"favorite\" authors and stories. These may also serve as bookmarks to help users refind old stories they have read, and can be thought of as a metric of how active an user is.\n",
    "\n",
    "After some calculations, we find that approximately one-fourth of users have favorited at least one author, and approximately one-third of users have favorited at least one story. In comparison, only ~2% are in a community."
   ]
  },
  {
   "cell_type": "markdown",
   "metadata": {},
   "source": [
    "Let's look at the distributions of the number of authors vs. stories a user would favorite."
   ]
  },
  {
   "cell_type": "code",
   "execution_count": 12,
   "metadata": {},
   "outputs": [
    {
     "data": {
      "image/png": "[encoded data removed]",
      "text/plain": [
       "<matplotlib.figure.Figure at 0x7d426ed4f908>"
      ]
     },
     "metadata": {},
     "output_type": "display_data"
    }
   ],
   "source": [
    "# examines distribution of favorited\n",
    "df_active[['fa', 'fs']].plot.hist(normed=True, bins=np.arange(1, 50, 1), alpha = 0.65)\n",
    "\n",
    "plt.show()"
   ]
  },
  {
   "cell_type": "markdown",
   "metadata": {},
   "source": [
    "The right tail is much longer than is depicted above -- in the thousands. However, we cut it off at 50 to better show the distribution.\n",
    "\n",
    "For the most part, the distributions between the number of favorited authors and the number of favorited stories are similar, with heavy right skew. The number of authors is slightly more concentrated near 1, whereas the number of stories is more dispersed.\n",
    "\n",
    "All of this implies that users are more lenient in favoriting stories than authors, which aligns with our intuition."
   ]
  },
  {
   "cell_type": "markdown",
   "metadata": {},
   "source": [
    "## Stories written"
   ]
  },
  {
   "cell_type": "markdown",
   "metadata": {},
   "source": [
    "Finally, let's look at how many stories users write. We already know that ~20% of the users are authors. Of those authors, how many stories do they tend to publish?"
   ]
  },
  {
   "cell_type": "code",
   "execution_count": 13,
   "metadata": {},
   "outputs": [
    {
     "data": {
      "image/png": "[encoded data removed]",
      "text/plain": [
       "<matplotlib.figure.Figure at 0x7d4269ef3da0>"
      ]
     },
     "metadata": {},
     "output_type": "display_data"
    }
   ],
   "source": [
    "# examines distribution of stories written\n",
    "df_active['st'].plot.hist(normed=True, bins=np.arange(1, np.max(df_active['st']), 1))\n",
    "\n",
    "plt.show()"
   ]
  },
  {
   "cell_type": "markdown",
   "metadata": {},
   "source": [
    "Over half of authors have published only 1-2 stories. About ~98% of authors had 10 stories or less. However, we also have a few rare extremely prolific writers, with over a hundred stories!"
   ]
  },
  {
   "cell_type": "markdown",
   "metadata": {},
   "source": [
    "## Thoughts and conclusions"
   ]
  },
  {
   "cell_type": "markdown",
   "metadata": {},
   "source": [
    "So far, we have have tried to examine some basic characteristics of the fanfiction community. Here is a summary of what we have discovered thus far:\n",
    "* ~20% of users are authors\n",
    "* The userbase has been increasing since the site has been founded.\n",
    "* Over ~30% users have been identified as coming from the United States.\n",
    "* ~25% of have written something in their profiles.\n",
    "* Of the written profiles, the majority are between 0-200 words.\n",
    "* Very roughly estimated, ~70% of the userbase is female.\n",
    "* Approximately one-fourth of users have favorited at least one author.\n",
    "* Approximately one-third of users have favorited at least one story.\n",
    "* ~2% of users belong in a community.\n",
    "* ~98% of authors have published 10 stories or less on the site.\n",
    "\n",
    "Up next, we will try to build a model that lets us guess how likely an user is to write a story. We will also try to guess how prolific authors will be."
   ]
  }
 ],
 "metadata": {
  "kernelspec": {
   "display_name": "Python 3",
   "language": "python",
   "name": "python3"
  },
  "language_info": {
   "codemirror_mode": {
    "name": "ipython",
    "version": 3
   },
   "file_extension": ".py",
   "mimetype": "text/x-python",
   "name": "python",
   "nbconvert_exporter": "python",
   "pygments_lexer": "ipython3",
   "version": "3.6.1"
  }
 },
 "nbformat": 4,
 "nbformat_minor": 2
}
