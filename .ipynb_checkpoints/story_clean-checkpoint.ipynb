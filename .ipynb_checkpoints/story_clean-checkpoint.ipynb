{
 "cells": [
  {
   "cell_type": "code",
   "execution_count": 1,
   "metadata": {
    "collapsed": true
   },
   "outputs": [],
   "source": [
    "# imports libraries\n",
    "import pickle\t\t\t\t\t\t# import/export lists\n",
    "import re \t\t\t\t\t\t\t# regular expression\n",
    "import pandas as pd\t\t\t\t\t# dataframes\n",
    "import datetime\t\t\t\t\t\t# dates"
   ]
  },
  {
   "cell_type": "code",
   "execution_count": 2,
   "metadata": {
    "collapsed": true
   },
   "outputs": [],
   "source": [
    "# opens raw data\n",
    "with open ('data_stories', 'rb') as fp:\n",
    "    data_stories = pickle.load(fp)"
   ]
  },
  {
   "cell_type": "code",
   "execution_count": 3,
   "metadata": {
    "collapsed": true
   },
   "outputs": [],
   "source": [
    "# sets current year\n",
    "cyear = str(datetime.datetime.now().year)"
   ]
  },
  {
   "cell_type": "code",
   "execution_count": 4,
   "metadata": {
    "collapsed": true
   },
   "outputs": [],
   "source": [
    "# converts to dataframe\n",
    "df = pd.DataFrame(data_stories)\n",
    "df.columns = ['storyid', 'userid', 'cat', 'title', 'summary', 'info', 'error']"
   ]
  },
  {
   "cell_type": "code",
   "execution_count": 5,
   "metadata": {
    "collapsed": true
   },
   "outputs": [],
   "source": [
    "# indexes online stories\n",
    "isonline = df.userid != 'NA'"
   ]
  },
  {
   "cell_type": "code",
   "execution_count": 6,
   "metadata": {
    "collapsed": true
   },
   "outputs": [],
   "source": [
    "# finds userid from link\n",
    "uid = re.compile(\"=(.*)$\")\n",
    "df.loc[isonline, 'userid'] = [uid.search(row).group(1) \n",
    "                              for row in df.loc[isonline, 'userid']]"
   ]
  },
  {
   "cell_type": "code",
   "execution_count": 7,
   "metadata": {
    "collapsed": true
   },
   "outputs": [],
   "source": [
    "# splits up category and fandom\n",
    "df['media'] = 'NA' \n",
    "df['fandom'] = 'NA'\n",
    "iscontained = [type(row) is list and len(row) == 2 for row in df['cat']]\n",
    "iscrossover = [type(row) is list and len(row) == 1 for row in df['cat']]\n",
    "df.loc[iscontained, 'media'] = [row[0] for row in df.loc[iscontained, 'cat']]\n",
    "df.loc[iscontained, 'fandom'] = [row[1] for row in df.loc[iscontained, 'cat']]\n",
    "df.loc[iscrossover, 'media'] = 'Crossover'\n",
    "df.loc[iscrossover, 'fandom'] = [row[0] for row in df.loc[iscrossover, 'cat']]\n",
    "del df['cat']"
   ]
  },
  {
   "cell_type": "code",
   "execution_count": 8,
   "metadata": {
    "collapsed": true
   },
   "outputs": [],
   "source": [
    "# splits info\n",
    "df.loc[isonline, 'info'] = [row.split(' - ') for row in df.loc[isonline, 'info']]\n",
    "info_columns = ['rated', 'language', 'genre', 'characters', 'chapters', 'words',\n",
    "               'reviews', 'favs', 'follows', 'updated', 'published', 'status']\n",
    "for info_col in info_columns:\n",
    "    df[info_col] = 'NA'"
   ]
  },
  {
   "cell_type": "code",
   "execution_count": 9,
   "metadata": {
    "collapsed": true
   },
   "outputs": [],
   "source": [
    "# retrieves rated\n",
    "df.loc[isonline, 'rated'] = [re.sub('Rated: Fiction  ', '', row[0])\n",
    "                             for row in df.loc[isonline, 'info']]\n",
    "df.loc[isonline, 'info'] = [row[1:] for row in df.loc[isonline, 'info']]"
   ]
  },
  {
   "cell_type": "code",
   "execution_count": 10,
   "metadata": {
    "collapsed": true
   },
   "outputs": [],
   "source": [
    "# retrieves language\n",
    "df.loc[isonline, 'language'] = [row[0] for row in df.loc[isonline, 'info']]\n",
    "df.loc[isonline, 'info'] = [row[1:] for row in df.loc[isonline, 'info']]"
   ]
  },
  {
   "cell_type": "code",
   "execution_count": 11,
   "metadata": {
    "collapsed": true
   },
   "outputs": [],
   "source": [
    "# retrieves genre\n",
    "df.loc[isonline, 'genre'] = 'General'\n",
    "isgenre = [type(row) is list and ': ' not in row[0] and row[0][0] != ' ' \n",
    "           for row in df['info']]\n",
    "df.loc[isgenre, 'genre'] = [row[0] for row in df.loc[isgenre, 'info']]\n",
    "df.loc[isgenre, 'info'] = [row[1:] for row in df.loc[isgenre, 'info']]\n",
    "\n",
    "# splits genres\n",
    "df['genre'] = [re.sub('Hurt/Comfort', 'Hurt-Comfort', row)\n",
    "                      for row in df['genre']]\n",
    "df['genre'] = [re.sub(' ', '', row)\n",
    "                      for row in df['genre']]\n",
    "df['genre'] = [row.split('/') for row in df['genre']]"
   ]
  },
  {
   "cell_type": "code",
   "execution_count": 12,
   "metadata": {
    "collapsed": true
   },
   "outputs": [],
   "source": [
    "# retrieves characters\n",
    "ischaracter = [type(row) is list \n",
    "               and 'Chapters: ' not in row[0] and 'Words: ' not in row[0]\n",
    "               for row in df['info']]\n",
    "df.loc[ischaracter, 'characters'] = [row[0] for row in df.loc[ischaracter, 'info']]\n",
    "df.loc[ischaracter, 'info'] = [row[1:] for row in df.loc[ischaracter, 'info']]\n",
    "\n",
    "# appends characters in case splitted\n",
    "while sum(ischaracter) > 0:\n",
    "    ischaracter = [type(row) is list \n",
    "                   and 'Chapters: ' not in row[0] and 'Words: ' not in row[0]\n",
    "                   for row in df['info']]\n",
    "    a = df.loc[ischaracter, 'characters']\n",
    "    b = [row[0] for row in df.loc[ischaracter, 'info']]\n",
    "    df.loc[ischaracter, 'characters'] = [m+n for m,n in zip(a,b)]\n",
    "    df.loc[ischaracter, 'info'] = [row[1:]\n",
    "                                   for row in df.loc[ischaracter, 'info']]"
   ]
  },
  {
   "cell_type": "code",
   "execution_count": 13,
   "metadata": {
    "collapsed": true
   },
   "outputs": [],
   "source": [
    "# retrieves chapters\n",
    "ischapter = [type(row) is list and 'Chapters' in row[0] for row in df['info']]\n",
    "df.loc[ischapter, 'chapters'] = [re.sub(\"\\D\", \"\", row[0])\n",
    "                            for row in df.loc[ischapter, 'info']]\n",
    "df.loc[ischapter, 'info'] = [row[1:]\n",
    "                            for row in df.loc[ischapter, 'info']]"
   ]
  },
  {
   "cell_type": "code",
   "execution_count": 14,
   "metadata": {
    "collapsed": true
   },
   "outputs": [],
   "source": [
    "# retrieves words\n",
    "iswords = [type(row) is list for row in df['info']]\n",
    "df.loc[iswords, 'words'] = [re.sub(\"\\D\", \"\", row[0])\n",
    "                            for row in df.loc[iswords, 'info']]\n",
    "df.loc[iswords, 'info'] = [row[1:]\n",
    "                            for row in df.loc[iswords, 'info']]"
   ]
  },
  {
   "cell_type": "code",
   "execution_count": 15,
   "metadata": {
    "collapsed": true
   },
   "outputs": [],
   "source": [
    "# retrieves reviews\n",
    "isreviews = [type(row) is list and 'Reviews' in row[0] for row in df['info']]\n",
    "df.loc[isreviews, 'reviews'] = [re.sub(\"\\D\", \"\", row[0])\n",
    "                            for row in df.loc[isreviews, 'info']]\n",
    "df.loc[isreviews, 'info'] = [row[1:]\n",
    "                            for row in df.loc[isreviews, 'info']]"
   ]
  },
  {
   "cell_type": "code",
   "execution_count": 16,
   "metadata": {
    "collapsed": true
   },
   "outputs": [],
   "source": [
    "# retrieves favs\n",
    "isfavs = [type(row) is list and 'Favs' in row[0] for row in df['info']]\n",
    "df.loc[isfavs, 'favs'] = [re.sub(\"\\D\", \"\", row[0])\n",
    "                            for row in df.loc[isfavs, 'info']]\n",
    "df.loc[isfavs, 'info'] = [row[1:]\n",
    "                            for row in df.loc[isfavs, 'info']]"
   ]
  },
  {
   "cell_type": "code",
   "execution_count": 17,
   "metadata": {
    "collapsed": true
   },
   "outputs": [],
   "source": [
    "# retrieves follows\n",
    "isfollows = [type(row) is list and 'Follows' in row[0] for row in df['info']]\n",
    "df.loc[isfollows, 'follows'] = [re.sub(\"\\D\", \"\", row[0])\n",
    "                            for row in df.loc[isfollows, 'info']]\n",
    "df.loc[isfollows, 'info'] = [row[1:]\n",
    "                            for row in df.loc[isfollows, 'info']]"
   ]
  },
  {
   "cell_type": "code",
   "execution_count": 18,
   "metadata": {
    "collapsed": true
   },
   "outputs": [],
   "source": [
    "# retrieves updated\n",
    "isupdated = [type(row) is list and 'Updated' in row[0] for row in df['info']]\n",
    "df.loc[isupdated, 'updated'] = [re.sub('Updated: ', '', row[0])\n",
    "                            for row in df.loc[isupdated, 'info']]\n",
    "df.loc[isupdated, 'info'] = [row[1:]\n",
    "                            for row in df.loc[isupdated, 'info']]"
   ]
  },
  {
   "cell_type": "code",
   "execution_count": 19,
   "metadata": {
    "collapsed": true
   },
   "outputs": [],
   "source": [
    "# retrieves published\n",
    "ispublished = [type(row) is list and 'Published' in row[0] for row in df['info']]\n",
    "df.loc[ispublished, 'published'] = [re.sub('Published: ', '', row[0])\n",
    "                            for row in df.loc[ispublished, 'info']]\n",
    "df.loc[ispublished, 'info'] = [row[1:]\n",
    "                            for row in df.loc[ispublished, 'info']]"
   ]
  },
  {
   "cell_type": "code",
   "execution_count": 20,
   "metadata": {
    "collapsed": true
   },
   "outputs": [],
   "source": [
    "# retrieves status\n",
    "isstatus = [type(row) is list and 'Status' in row[0] for row in df['info']]\n",
    "df.loc[df.userid != 'NA', 'status'] = 'Incomplete'\n",
    "df.loc[isstatus, 'status'] = [re.sub('Status: ', '', row[0])\n",
    "                              for row in df.loc[isstatus, 'info']]"
   ]
  },
  {
   "cell_type": "code",
   "execution_count": 21,
   "metadata": {
    "collapsed": true
   },
   "outputs": [],
   "source": [
    "del df['info']"
   ]
  },
  {
   "cell_type": "code",
   "execution_count": 22,
   "metadata": {
    "collapsed": true
   },
   "outputs": [],
   "source": [
    "# format numeric types\n",
    "intcols = ['chapters', 'words', 'reviews', 'favs', 'follows']\n",
    "for intcol in intcols:\n",
    "    df[intcol] = pd.to_numeric(df[intcol], errors = 'coerce')"
   ]
  },
  {
   "cell_type": "code",
   "execution_count": 23,
   "metadata": {
    "collapsed": true
   },
   "outputs": [],
   "source": [
    "# formats published dates\n",
    "pub_date = df.loc[df.published != 'NA', 'published']\n",
    "pub_date = [row.split('/') for row in pub_date]\n",
    "df.loc[df.published != 'NA', 'published'] = pub_date\n",
    "for row in df.loc[df.published != 'NA', 'published']:\n",
    "    if len(row) == 2:\n",
    "        row.append(cyear)"
   ]
  },
  {
   "cell_type": "code",
   "execution_count": 24,
   "metadata": {
    "collapsed": true
   },
   "outputs": [],
   "source": [
    "# formats updated dates\n",
    "upd_date = df.loc[df.updated != 'NA', 'updated']\n",
    "upd_date = [row.split('/') for row in upd_date]\n",
    "df.loc[df.updated != 'NA', 'updated'] = upd_date\n",
    "for row in df.loc[df.updated != 'NA', 'updated']:\n",
    "    if len(row) == 2:\n",
    "        row.append(cyear)"
   ]
  },
  {
   "cell_type": "code",
   "execution_count": 25,
   "metadata": {
    "collapsed": true
   },
   "outputs": [],
   "source": [
    "# finds current state of story\n",
    "df['state'] = 'online'\n",
    "df.loc[df.userid == 'NA', 'state'] = 'deleted'\n",
    "df.loc[df.error != 'NA', 'state'] = 'missing'\n",
    "\n",
    "del df['error']"
   ]
  },
  {
   "cell_type": "code",
   "execution_count": 26,
   "metadata": {
    "collapsed": true
   },
   "outputs": [],
   "source": [
    "# saves dataframe\n",
    "df.to_pickle(\"df_stories\")"
   ]
  }
 ],
 "metadata": {
  "kernelspec": {
   "display_name": "Python 3",
   "language": "python",
   "name": "python3"
  },
  "language_info": {
   "codemirror_mode": {
    "name": "ipython",
    "version": 3
   },
   "file_extension": ".py",
   "mimetype": "text/x-python",
   "name": "python",
   "nbconvert_exporter": "python",
   "pygments_lexer": "ipython3",
   "version": "3.6.1"
  }
 },
 "nbformat": 4,
 "nbformat_minor": 2
}
