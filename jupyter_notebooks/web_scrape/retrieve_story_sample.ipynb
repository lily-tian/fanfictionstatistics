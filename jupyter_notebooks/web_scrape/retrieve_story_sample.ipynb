{
 "cells": [
  {
   "cell_type": "code",
   "execution_count": null,
   "metadata": {
    "collapsed": true
   },
   "outputs": [],
   "source": [
    "# imports libaries\n",
    "import requests\t\t\t\t\t\t# HTTP connection\n",
    "import random\t\t\t\t\t\t# random generator\n",
    "import time\t\t\t\t\t\t\t# timer\n",
    "import re \t\t\t\t\t\t\t# regular expression\n",
    "import pickle\t\t\t\t\t\t# exports lists\n",
    "import numpy as np\t\t\t\t\t# numerical computation\n",
    "from bs4 import BeautifulSoup\t\t# web scraping"
   ]
  },
  {
   "cell_type": "code",
   "execution_count": null,
   "metadata": {
    "collapsed": true
   },
   "outputs": [],
   "source": [
    "# generates random sample of users\n",
    "n = 10000\n",
    "max_id = 12600000\n",
    "storyids = random.sample(range(1, max_id), n)\n",
    "baselink = 'https://www.fanfiction.net/s/'\n",
    "urls = [baselink + str(storyid) for storyid in storyids]"
   ]
  },
  {
   "cell_type": "code",
   "execution_count": null,
   "metadata": {
    "collapsed": true
   },
   "outputs": [],
   "source": [
    "# initializes datasets\n",
    "data_stories = []"
   ]
  },
  {
   "cell_type": "code",
   "execution_count": null,
   "metadata": {
    "collapsed": true
   },
   "outputs": [],
   "source": [
    "# collects data from user pages\n",
    "t0 = time.time()\n",
    "for i in range(0, n, 1):\n",
    "    \n",
    "    # retrieves user identifier\n",
    "    storyid = storyids[i]\n",
    "\n",
    "    # collects data from webpage\n",
    "    page = ''\n",
    "    while page == '':\n",
    "        try:\n",
    "            page = requests.get(urls[i])\n",
    "        except:\n",
    "            print(\"Connection refused, going to sleep...\")\n",
    "            time.sleep(5)\n",
    "            continue          \n",
    "    html = page.text\n",
    "    soup = BeautifulSoup(html, 'html.parser')\n",
    "    \n",
    "    # sets default for missing stories\n",
    "    userid = 'NA'\n",
    "    cat = 'NA'\n",
    "    title = 'NA'\n",
    "    summary = 'NA'\n",
    "    info = 'NA'\n",
    "    error = 'NA'\n",
    " \n",
    "    # collects story information if story exists\n",
    "    if soup.find('span', {'class': 'gui_warning'}) is None:\n",
    "        useridtag = soup.find('a', {'title': 'Send Private Message'})\n",
    "        cattag = soup.find('div', {'id': 'pre_story_links'})\n",
    "        titletag = soup.find('b', {'class': 'xcontrast_txt'})\n",
    "        summarytag = soup.find('div', {'class': 'xcontrast_txt', \n",
    "                                       'style' : 'margin-top:2px'})\n",
    "        infotag = soup.find('span', {'class': 'xgray xcontrast_txt'})\n",
    "        \n",
    "        if useridtag is None:\n",
    "            error = soup.find('span').text\n",
    "        else:\n",
    "            userid = useridtag['href']\n",
    "            cat = [link.text for link in cattag.find_all('a')]\n",
    "            title = titletag.text\n",
    "            summary = summarytag.text\n",
    "            info = infotag.text\n",
    "        \n",
    "    story = [storyid, userid, cat, title, summary, info, error]\n",
    "    data_stories.append(story)\n",
    "    \n",
    "print(time.time() - t0)"
   ]
  },
  {
   "cell_type": "code",
   "execution_count": null,
   "metadata": {
    "collapsed": true
   },
   "outputs": [],
   "source": [
    "# exports data\n",
    "with open('data_stories', 'wb') as fp:\n",
    "    pickle.dump(data_stories, fp)"
   ]
  }
 ],
 "metadata": {
  "kernelspec": {
   "display_name": "Python 3",
   "language": "python",
   "name": "python3"
  },
  "language_info": {
   "codemirror_mode": {
    "name": "ipython",
    "version": 3
   },
   "file_extension": ".py",
   "mimetype": "text/x-python",
   "name": "python",
   "nbconvert_exporter": "python",
   "pygments_lexer": "ipython3",
   "version": "3.6.1"
  }
 },
 "nbformat": 4,
 "nbformat_minor": 2
}
