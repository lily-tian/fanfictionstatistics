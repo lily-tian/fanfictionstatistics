{
 "cells": [
  {
   "cell_type": "code",
   "execution_count": 1,
   "metadata": {
    "collapsed": true
   },
   "outputs": [],
   "source": [
    "# imports libraries\n",
    "import pickle\t\t\t\t\t\t# import/export lists\n",
    "import re \t\t\t\t\t\t\t# regular expression\n",
    "import math\t\t\t\t\t\t\t# mathematical functions\n",
    "import pandas as pd\t\t\t\t\t# dataframes"
   ]
  },
  {
   "cell_type": "code",
   "execution_count": 2,
   "metadata": {
    "collapsed": true
   },
   "outputs": [],
   "source": [
    "# opens raw data\n",
    "with open ('../raw_data/data_profile', 'rb') as fp:\n",
    "    data_profile = pickle.load(fp)"
   ]
  },
  {
   "cell_type": "code",
   "execution_count": 3,
   "metadata": {
    "collapsed": true
   },
   "outputs": [],
   "source": [
    "# converts to dataframe\n",
    "df = pd.DataFrame(data_profile)\n",
    "df.columns = ['id', 'desc', 'country', 'join_date', 'profile', 'tabs']"
   ]
  },
  {
   "cell_type": "code",
   "execution_count": 4,
   "metadata": {
    "collapsed": true
   },
   "outputs": [],
   "source": [
    "# splits tabs into individual columns\n",
    "tabs = df['tabs'].apply(pd.Series).fillna('0')\n",
    "tabs = tabs.apply(pd.to_numeric)\n",
    "tabs.columns = [name[1:] for name in tabs.columns]\n",
    "df = df.join(tabs)\n",
    "del df['tabs']"
   ]
  },
  {
   "cell_type": "code",
   "execution_count": 5,
   "metadata": {
    "collapsed": true
   },
   "outputs": [],
   "source": [
    "# parses description column\n",
    "df['status'] = 'inactive'\n",
    "df.loc[['reader' in row for row in df['desc']], 'status'] = 'reader'\n",
    "df.loc[['author' in row for row in df['desc']], 'status'] = 'author'\n",
    "del df['desc']"
   ]
  },
  {
   "cell_type": "code",
   "execution_count": 6,
   "metadata": {
    "collapsed": true
   },
   "outputs": [],
   "source": [
    "# parses date column\n",
    "df['join'] = [re.split(r'[-/]+', row) for row in df['join_date']]\n",
    "df.loc[[len(row) == 1 and row[0] == 'NA' for row in df['join']], 'join'] = 'NA'\n",
    "\n",
    "for row in df['join']:\n",
    "    if row != 'NA' and len(row[2]) == 2:\n",
    "        year = int(row[2]) + 2000\n",
    "        if year > 2090:\n",
    "            year = year - 1000\n",
    "        row[2] = str(year)\n",
    "        \n",
    "del df['join_date']"
   ]
  },
  {
   "cell_type": "code",
   "execution_count": 7,
   "metadata": {},
   "outputs": [],
   "source": [
    "# parses profile\n",
    "df['profile'] = [' '.join(row) for row in df['profile']]"
   ]
  },
  {
   "cell_type": "code",
   "execution_count": 8,
   "metadata": {
    "collapsed": true
   },
   "outputs": [],
   "source": [
    "# saves dataframe\n",
    "df.to_pickle(\"../clean_data/df_profile\")"
   ]
  }
 ],
 "metadata": {
  "kernelspec": {
   "display_name": "Python 3",
   "language": "python",
   "name": "python3"
  },
  "language_info": {
   "codemirror_mode": {
    "name": "ipython",
    "version": 3
   },
   "file_extension": ".py",
   "mimetype": "text/x-python",
   "name": "python",
   "nbconvert_exporter": "python",
   "pygments_lexer": "ipython3",
   "version": "3.6.1"
  }
 },
 "nbformat": 4,
 "nbformat_minor": 2
}
